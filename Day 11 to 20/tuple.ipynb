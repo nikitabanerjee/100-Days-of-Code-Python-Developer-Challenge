{
 "cells": [
  {
   "cell_type": "markdown",
   "id": "1c2541b3",
   "metadata": {},
   "source": [
    "# Question 37\n",
    "## The following tuples are given: dji1 = ('AAPL.US', 'IBM.US', 'MSFT.US')  dji2 = ('HD.US', 'GS.US', 'NKE.US') Nest these tuples into one tuple as shown below and print the result to the console.\n",
    "## Expected result: (('AAPL.US', 'IBM.US', 'MSFT.US'), ('HD.US', 'GS.US', 'NKE.US'))"
   ]
  },
  {
   "cell_type": "code",
   "execution_count": 1,
   "id": "5ce422bf",
   "metadata": {},
   "outputs": [
    {
     "name": "stdout",
     "output_type": "stream",
     "text": [
      "(('AAPL.US', 'IBM.US', 'MSFT.US'), ('HD.US', 'GS.US', 'NKE.US'))\n"
     ]
    }
   ],
   "source": [
    "dji1 = ('AAPL.US', 'IBM.US', 'MSFT.US')\n",
    "dji2 = ('HD.US', 'GS.US', 'NKE.US')\n",
    "result = (dji1, dji2)\n",
    " \n",
    " \n",
    "print(result)"
   ]
  },
  {
   "cell_type": "markdown",
   "id": "9ef009a0",
   "metadata": {},
   "source": [
    "# Question 38\n",
    "## The following tuple is given:\n",
    "## stocks = (('Apple Inc', ('AAPL.US', 310)),('Microsoft Corp', ('MSFT.US', 184)),) Extract a ticker for Apple and print the result to the console.\n",
    "## Expected result: AAPL.US"
   ]
  },
  {
   "cell_type": "code",
   "execution_count": 2,
   "id": "7f82fb9e",
   "metadata": {},
   "outputs": [
    {
     "name": "stdout",
     "output_type": "stream",
     "text": [
      "AAPL.US\n"
     ]
    }
   ],
   "source": [
    "stocks = (\n",
    "    ('Apple Inc', ('AAPL.US', 310)),\n",
    "    ('Microsoft Corp', ('MSFT.US', 184)),\n",
    ")\n",
    "\n",
    "print(stocks[0][1][0])"
   ]
  },
  {
   "cell_type": "markdown",
   "id": "3190bfd5",
   "metadata": {},
   "source": [
    "# Question 39\n",
    "## The following tuple is given (name, age): info = (('Monica', 19), ('Tom', 21), ('John', 18)) Sort this tuple: ascending by age, descending by age And print the result to the console as shown below.\n",
    "## Expected result: Ascending: (('John', 18), ('Monica', 19), ('Tom', 21))"
   ]
  },
  {
   "cell_type": "code",
   "execution_count": 3,
   "id": "f4dcb5e0",
   "metadata": {},
   "outputs": [
    {
     "name": "stdout",
     "output_type": "stream",
     "text": [
      "Ascending: (('John', 18), ('Monica', 19), ('Tom', 21))\n",
      "Descending: (('Tom', 21), ('Monica', 19), ('John', 18))\n"
     ]
    }
   ],
   "source": [
    "info = (('Monica', 19), ('Tom', 21), ('John', 18))\n",
    "asc = tuple(sorted(info, key=lambda item: item[1]))\n",
    "desc = tuple(sorted(info, key=lambda item: item[1], reverse=True))\n",
    " \n",
    " \n",
    "print(f'Ascending: {asc}')\n",
    "print(f'Descending: {desc}')"
   ]
  },
  {
   "cell_type": "code",
   "execution_count": null,
   "id": "79b2be22",
   "metadata": {},
   "outputs": [],
   "source": []
  }
 ],
 "metadata": {
  "kernelspec": {
   "display_name": "Python 3 (ipykernel)",
   "language": "python",
   "name": "python3"
  },
  "language_info": {
   "codemirror_mode": {
    "name": "ipython",
    "version": 3
   },
   "file_extension": ".py",
   "mimetype": "text/x-python",
   "name": "python",
   "nbconvert_exporter": "python",
   "pygments_lexer": "ipython3",
   "version": "3.9.13"
  }
 },
 "nbformat": 4,
 "nbformat_minor": 5
}
