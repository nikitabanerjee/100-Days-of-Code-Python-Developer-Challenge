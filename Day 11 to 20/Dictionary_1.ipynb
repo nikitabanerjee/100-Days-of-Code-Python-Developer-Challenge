{
 "cells": [
  {
   "cell_type": "markdown",
   "id": "fbd958da",
   "metadata": {},
   "source": [
    "# Question 47\n",
    "## The following dictionary is given:capitals = {    'USA': 'Washington',   'Germany': 'Berlin',  'Austria': 'Vienna'} Use the appropriate method to extract all keys from the capitals dictionary and print to the console.\n",
    "\n",
    "## Expected result: dict_keys(['USA', 'Germany', 'Austria']) "
   ]
  },
  {
   "cell_type": "code",
   "execution_count": 1,
   "id": "b8234546",
   "metadata": {},
   "outputs": [
    {
     "name": "stdout",
     "output_type": "stream",
     "text": [
      "dict_keys(['USA', 'Germany', 'Austria'])\n"
     ]
    }
   ],
   "source": [
    "capitals = {\n",
    "    'USA': 'Washington',\n",
    "    'Germany': 'Berlin',\n",
    "    'Austria': 'Vienna',\n",
    "}\n",
    "print(capitals.keys())"
   ]
  },
  {
   "cell_type": "markdown",
   "id": "f08a6afe",
   "metadata": {},
   "source": [
    "# Question 48\n",
    "## The following dictionary is given: capitals = { 'USA': 'Washington', 'Germany': 'Berlin', 'Austria': 'Vienna'} Use the appropriate method to extract all values from the capitals dictionary and print to the console.\n",
    "\n",
    "## Expected result: dict_values(['Washington', 'Berlin', 'Vienna'])"
   ]
  },
  {
   "cell_type": "code",
   "execution_count": 2,
   "id": "67334f5a",
   "metadata": {},
   "outputs": [
    {
     "name": "stdout",
     "output_type": "stream",
     "text": [
      "dict_values(['Washington', 'Berlin', 'Vienna'])\n"
     ]
    }
   ],
   "source": [
    "capitals = {\n",
    "    'USA': 'Washington',\n",
    "    'Germany': 'Berlin',\n",
    "    'Austria': 'Vienna'\n",
    "}\n",
    "print(capitals.values())"
   ]
  },
  {
   "cell_type": "markdown",
   "id": "1c43c239",
   "metadata": {},
   "source": [
    "# Question 49\n",
    "## The following dictionary is given: capitals = {   'USA': 'Washington',  'Germany': 'Berlin',   'Austria': 'Vienna'} Using the appropriate method, extract the list containing tuple objects (key, value) from the capitals dictionary and print to the console as shown below.\n",
    "\n",
    "## Expected result: dict_items([('USA', 'Washington'), ('Germany', 'Berlin'), ('Austria', 'Vienna')])"
   ]
  },
  {
   "cell_type": "code",
   "execution_count": 3,
   "id": "0f1b9c34",
   "metadata": {},
   "outputs": [
    {
     "name": "stdout",
     "output_type": "stream",
     "text": [
      "dict_items([('USA', 'Washington'), ('Germany', 'Berlin'), ('Austria', 'Vienna')])\n"
     ]
    }
   ],
   "source": [
    "capitals = {\n",
    "    'USA': 'Washington',\n",
    "    'Germany': 'Berlin',\n",
    "    'Austria': 'Vienna'\n",
    "}\n",
    "print(capitals.items())"
   ]
  },
  {
   "cell_type": "code",
   "execution_count": null,
   "id": "8b0368c6",
   "metadata": {},
   "outputs": [],
   "source": []
  }
 ],
 "metadata": {
  "kernelspec": {
   "display_name": "Python 3 (ipykernel)",
   "language": "python",
   "name": "python3"
  },
  "language_info": {
   "codemirror_mode": {
    "name": "ipython",
    "version": 3
   },
   "file_extension": ".py",
   "mimetype": "text/x-python",
   "name": "python",
   "nbconvert_exporter": "python",
   "pygments_lexer": "ipython3",
   "version": "3.9.13"
  }
 },
 "nbformat": 4,
 "nbformat_minor": 5
}
