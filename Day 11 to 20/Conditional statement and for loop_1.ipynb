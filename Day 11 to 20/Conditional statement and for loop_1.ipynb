{
 "cells": [
  {
   "cell_type": "markdown",
   "id": "55d81de4",
   "metadata": {},
   "source": [
    "# Question 66\n",
    "## The following dictionary is given:project_ids = {    '01': 'open',     '02': 'new',    '03': 'in progress',   '04': 'completed'} Using the conditional statement, check if the project status with id = '02' is set to 'new'. If so, change its status to 'open' and print the dictionary to the console.\n",
    "## Expected result: {'01': 'open', '02': 'open', '03': 'in progress', '04': 'completed'}"
   ]
  },
  {
   "cell_type": "code",
   "execution_count": 1,
   "id": "0c1fb812",
   "metadata": {},
   "outputs": [
    {
     "name": "stdout",
     "output_type": "stream",
     "text": [
      "{'01': 'open', '02': 'open', '03': 'in progress', '04': 'completed'}\n"
     ]
    }
   ],
   "source": [
    "project_ids = {\n",
    "    '01': 'open', \n",
    "    '02': 'new',\n",
    "    '03': 'in progress',\n",
    "    '04': 'completed'\n",
    "}\n",
    "\n",
    "if project_ids['02'] == 'new':\n",
    "    project_ids['02'] = 'open'\n",
    " \n",
    " \n",
    "print(project_ids)"
   ]
  },
  {
   "cell_type": "markdown",
   "id": "c5bf2a43",
   "metadata": {},
   "source": [
    "# Question 67\n",
    "## Write a program that checks if the given item:item = '001' is in the list:items = ['001', '000', '003', '005', '006'] If so, remove this item from the list and print this list to the console.\n",
    "## Expected result: ['000', '003', '005', '006']\n"
   ]
  },
  {
   "cell_type": "code",
   "execution_count": 2,
   "id": "88d70889",
   "metadata": {},
   "outputs": [
    {
     "name": "stdout",
     "output_type": "stream",
     "text": [
      "['000', '003', '005', '006']\n"
     ]
    }
   ],
   "source": [
    "item = '001'\n",
    "items = ['001', '000', '003', '005', '006']\n",
    "if item in items:\n",
    "    items.remove(item)\n",
    " \n",
    " \n",
    "print(items)"
   ]
  },
  {
   "cell_type": "markdown",
   "id": "aca3c9ae",
   "metadata": {},
   "source": [
    "# Question 68\n",
    "## Write a program that finds all two-digit numbers divisible by 11 (use a for loop). Print the result to the console as comma-separated values as shown below.\n",
    "## Expected result: 11,22,33,44,55,66,77,88,99"
   ]
  },
  {
   "cell_type": "code",
   "execution_count": 3,
   "id": "4fc393f9",
   "metadata": {},
   "outputs": [
    {
     "name": "stdout",
     "output_type": "stream",
     "text": [
      "11,22,33,44,55,66,77,88,99\n"
     ]
    }
   ],
   "source": [
    "result = []\n",
    " \n",
    "for i in range(10, 100):\n",
    "    if i % 11 == 0:\n",
    "        result.append(str(i))\n",
    " \n",
    " \n",
    "print(','.join(result))"
   ]
  },
  {
   "cell_type": "code",
   "execution_count": null,
   "id": "76dd95e3",
   "metadata": {},
   "outputs": [],
   "source": []
  }
 ],
 "metadata": {
  "kernelspec": {
   "display_name": "Python 3 (ipykernel)",
   "language": "python",
   "name": "python3"
  },
  "language_info": {
   "codemirror_mode": {
    "name": "ipython",
    "version": 3
   },
   "file_extension": ".py",
   "mimetype": "text/x-python",
   "name": "python",
   "nbconvert_exporter": "python",
   "pygments_lexer": "ipython3",
   "version": "3.9.13"
  }
 },
 "nbformat": 4,
 "nbformat_minor": 5
}
