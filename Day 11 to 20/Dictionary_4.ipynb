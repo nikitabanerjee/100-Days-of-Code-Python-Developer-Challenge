{
 "cells": [
  {
   "cell_type": "markdown",
   "id": "c6d3a30c",
   "metadata": {},
   "source": [
    "# Question 57\n",
    "## The following dictionary is given:project_ids = {  '01': 'open',   '03': 'in progress',  '05': 'in progress',  '04': 'completed'} Extract a list of unique values (sorted alphabetically) from the project_ids dictionary and print it to the console.\n",
    "\n",
    "## Expected result:['completed', 'in progress', 'open']\n"
   ]
  },
  {
   "cell_type": "code",
   "execution_count": 1,
   "id": "6f114572",
   "metadata": {},
   "outputs": [
    {
     "name": "stdout",
     "output_type": "stream",
     "text": [
      "['completed', 'in progress', 'open']\n"
     ]
    }
   ],
   "source": [
    "project_ids = {\n",
    "    '01': 'open', \n",
    "    '03': 'in progress',\n",
    "    '05': 'in progress',\n",
    "    '04': 'completed'\n",
    "}\n",
    "result = list(set(project_ids.values()))\n",
    "result.sort()\n",
    " \n",
    " \n",
    "print(result)"
   ]
  },
  {
   "cell_type": "markdown",
   "id": "93f47089",
   "metadata": {},
   "source": [
    "# Question 58\n",
    "## The following dictionary is given: stats = {'site': 'e-smartdata.org', 'traffic': 100, 'type': 'organic'} Delete the 'traffic' key pair from this dictionary and print it to the console.\n",
    "\n",
    "## Expected result:{'site': 'e-smartdata.org', 'type': 'organic'}\n"
   ]
  },
  {
   "cell_type": "code",
   "execution_count": 2,
   "id": "f6f0364d",
   "metadata": {},
   "outputs": [
    {
     "name": "stdout",
     "output_type": "stream",
     "text": [
      "{'site': 'e-smartdata.org', 'type': 'organic'}\n"
     ]
    }
   ],
   "source": [
    "stats = {'site': 'e-smartdata.org', 'traffic': 100, 'type': 'organic'}\n",
    "del stats['traffic']\n",
    "print(stats)"
   ]
  },
  {
   "cell_type": "markdown",
   "id": "e722434e",
   "metadata": {},
   "source": [
    "# Question 59\n",
    "## The following dictionary is given: users = {'001': 'Mark', '002': 'Monica', '003': 'Jacob'} Try to print value for key '004'. In this exercise use the dict.get() method. When the key is not in the dictionary set default value to the string 'indefinite'.\n",
    "\n",
    "## Expected result: 'indefinite'"
   ]
  },
  {
   "cell_type": "code",
   "execution_count": 3,
   "id": "76518809",
   "metadata": {},
   "outputs": [
    {
     "name": "stdout",
     "output_type": "stream",
     "text": [
      "indefinite\n"
     ]
    }
   ],
   "source": [
    "users = {'001': 'Mark', '002': 'Monica', '003': 'Jacob'}\n",
    "print(users.get('004', 'indefinite'))"
   ]
  },
  {
   "cell_type": "code",
   "execution_count": null,
   "id": "8d0d7bbc",
   "metadata": {},
   "outputs": [],
   "source": []
  }
 ],
 "metadata": {
  "kernelspec": {
   "display_name": "Python 3 (ipykernel)",
   "language": "python",
   "name": "python3"
  },
  "language_info": {
   "codemirror_mode": {
    "name": "ipython",
    "version": 3
   },
   "file_extension": ".py",
   "mimetype": "text/x-python",
   "name": "python",
   "nbconvert_exporter": "python",
   "pygments_lexer": "ipython3",
   "version": "3.9.13"
  }
 },
 "nbformat": 4,
 "nbformat_minor": 5
}
