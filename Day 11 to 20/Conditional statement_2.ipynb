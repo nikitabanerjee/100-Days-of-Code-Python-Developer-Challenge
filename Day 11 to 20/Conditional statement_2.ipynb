{
 "cells": [
  {
   "cell_type": "markdown",
   "id": "969694fe",
   "metadata": {},
   "source": [
    "# Question 63\n",
    "## The following password is given:password = 'cskdnjcasa#!' Check if the password has 11 characters. If so, print 'Password correct', otherwise 'Password too short'.\n",
    "## Expected result:Password correct"
   ]
  },
  {
   "cell_type": "code",
   "execution_count": 1,
   "id": "03ef6569",
   "metadata": {},
   "outputs": [
    {
     "name": "stdout",
     "output_type": "stream",
     "text": [
      "Password correct\n"
     ]
    }
   ],
   "source": [
    "password = 'cskdnjcasa#!'\n",
    "if len(password)>=11:\n",
    "    print(\"Password correct\")\n",
    "else:\n",
    "    print(\"Password too short\")"
   ]
  },
  {
   "cell_type": "markdown",
   "id": "f82cdc14",
   "metadata": {},
   "source": [
    "# Question 64\n",
    "## The following password is given: password = 'cskdnjcasa#!' Check if the password has at least 11 characters and contains the special character '!'. If so, print 'Password correct', otherwise 'Password incorrect'.\n",
    "## Expected result: Password correct"
   ]
  },
  {
   "cell_type": "code",
   "execution_count": 2,
   "id": "f9a5c2ea",
   "metadata": {},
   "outputs": [
    {
     "name": "stdout",
     "output_type": "stream",
     "text": [
      "Password correct\n"
     ]
    }
   ],
   "source": [
    "password = 'cskdnjcasa#!'\n",
    "if len(password)>=11 and '!' in password:\n",
    "    print(\"Password correct\")\n",
    "else:\n",
    "    print(\"Password incorrect\")"
   ]
  },
  {
   "cell_type": "markdown",
   "id": "49a57e66",
   "metadata": {},
   "source": [
    "# Question 65\n",
    "## The following list is given: project_ids = ['02134', '24253'] Check if the following project id: project_id = '02135' is in the project_ids list. If not, add this project_id to the list and print this list to the console.\n",
    "## Expected result: ['02134', '24253', '02135']"
   ]
  },
  {
   "cell_type": "code",
   "execution_count": 3,
   "id": "a76fb5af",
   "metadata": {},
   "outputs": [
    {
     "name": "stdout",
     "output_type": "stream",
     "text": [
      "['02134', '24253', '02135']\n"
     ]
    }
   ],
   "source": [
    "project_ids = ['02134', '24253']\n",
    "project_id = '02135'\n",
    "if not project_id in project_ids:\n",
    "    project_ids.append(project_id)\n",
    " \n",
    " \n",
    "print(project_ids)"
   ]
  },
  {
   "cell_type": "code",
   "execution_count": null,
   "id": "e0fee6a2",
   "metadata": {},
   "outputs": [],
   "source": []
  }
 ],
 "metadata": {
  "kernelspec": {
   "display_name": "Python 3 (ipykernel)",
   "language": "python",
   "name": "python3"
  },
  "language_info": {
   "codemirror_mode": {
    "name": "ipython",
    "version": 3
   },
   "file_extension": ".py",
   "mimetype": "text/x-python",
   "name": "python",
   "nbconvert_exporter": "python",
   "pygments_lexer": "ipython3",
   "version": "3.9.13"
  }
 },
 "nbformat": 4,
 "nbformat_minor": 5
}
