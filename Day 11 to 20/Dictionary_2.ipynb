{
 "cells": [
  {
   "cell_type": "markdown",
   "id": "4a20d51e",
   "metadata": {},
   "source": [
    "# Question 50\n",
    "## The following dictionary is given: capitals = {    'USA': 'Washington', 'Germany': 'Berlin',  'Austria': 'Vienna'} Using the dict.get() method, extract the value for the key 'Austria' and print it to the console.\n",
    "\n",
    "## Expected result: Vienna\n"
   ]
  },
  {
   "cell_type": "code",
   "execution_count": 1,
   "id": "67433ff5",
   "metadata": {},
   "outputs": [
    {
     "name": "stdout",
     "output_type": "stream",
     "text": [
      "Vienna\n"
     ]
    }
   ],
   "source": [
    "capitals = {\n",
    "    'USA': 'Washington',\n",
    "    'Germany': 'Berlin',\n",
    "    'Austria': 'Vienna'\n",
    "}\n",
    "print(capitals.get('Austria'))"
   ]
  },
  {
   "cell_type": "markdown",
   "id": "b5e1e361",
   "metadata": {},
   "source": [
    "# Question 51\n",
    "## The following dictionary is given:stocks = {    'MSFT.US': {'Microsoft Corp': 184},   'AAPL.US': {'Apple Inc': 310},   'MMM.US': {'3M Co': 148}}  Extract the value for the key 'AAPL.US' and print it to the console.\n",
    "\n",
    "\n",
    "\n",
    "## Expected result: {'Apple Inc': 310}\n"
   ]
  },
  {
   "cell_type": "code",
   "execution_count": 2,
   "id": "b4fe04bb",
   "metadata": {},
   "outputs": [
    {
     "name": "stdout",
     "output_type": "stream",
     "text": [
      "{'Apple Inc': 310}\n"
     ]
    }
   ],
   "source": [
    "stocks = {\n",
    "    'MSFT.US': {'Microsoft Corp': 184},\n",
    "    'AAPL.US': {'Apple Inc': 310},\n",
    "    'MMM.US': {'3M Co': 148}\n",
    "}\n",
    "\n",
    "print(stocks.get('AAPL.US'))"
   ]
  },
  {
   "cell_type": "markdown",
   "id": "1dea5897",
   "metadata": {},
   "source": [
    "# Question 52\n",
    "## The following dictionary is given: stocks = {    'MSFT.US': {'Microsoft Corp': 184},    'AAPL.US': {'Apple Inc': 310},    'MMM.US': {'3M Co': 148}} Get the price for Microsoft (value for the 'Microsoft Corp' key) and print it to the console.\n",
    "\n",
    "## Expected result: 184 "
   ]
  },
  {
   "cell_type": "code",
   "execution_count": 3,
   "id": "e15d2864",
   "metadata": {},
   "outputs": [
    {
     "name": "stdout",
     "output_type": "stream",
     "text": [
      "184\n"
     ]
    }
   ],
   "source": [
    "stocks = {\n",
    "    'MSFT.US': {'Microsoft Corp': 184},\n",
    "    'AAPL.US': {'Apple Inc': 310},\n",
    "    'MMM.US': {'3M Co': 148}\n",
    "}\n",
    "print(stocks['MSFT.US']['Microsoft Corp'])"
   ]
  },
  {
   "cell_type": "markdown",
   "id": "56ac0fe0",
   "metadata": {},
   "source": [
    "# Question 53\n",
    "## The following dictionary is given:stocks = {  'MSFT.US': {'Microsoft Corp': 184},   'AAPL.US': {'Apple Inc': 310},   'MMM.US': {'3M Co': 148}} Update the price for Microsoft to 190 and print the value for the 'MSFT.US' key to the console.\n",
    "\n",
    "## Expected result: {'Microsoft Corp': 190}"
   ]
  },
  {
   "cell_type": "code",
   "execution_count": 4,
   "id": "aeafab56",
   "metadata": {},
   "outputs": [
    {
     "name": "stdout",
     "output_type": "stream",
     "text": [
      "{'Microsoft Corp': 190}\n"
     ]
    }
   ],
   "source": [
    "stocks = {\n",
    "    'MSFT.US': {'Microsoft Corp': 184},\n",
    "    'AAPL.US': {'Apple Inc': 310},\n",
    "    'MMM.US': {'3M Co': 148}\n",
    "}\n",
    "stocks['MSFT.US']['Microsoft Corp'] = 190\n",
    " \n",
    " \n",
    "print(stocks['MSFT.US'])"
   ]
  },
  {
   "cell_type": "code",
   "execution_count": null,
   "id": "6358ec2c",
   "metadata": {},
   "outputs": [],
   "source": []
  }
 ],
 "metadata": {
  "kernelspec": {
   "display_name": "Python 3 (ipykernel)",
   "language": "python",
   "name": "python3"
  },
  "language_info": {
   "codemirror_mode": {
    "name": "ipython",
    "version": 3
   },
   "file_extension": ".py",
   "mimetype": "text/x-python",
   "name": "python",
   "nbconvert_exporter": "python",
   "pygments_lexer": "ipython3",
   "version": "3.9.13"
  }
 },
 "nbformat": 4,
 "nbformat_minor": 5
}
