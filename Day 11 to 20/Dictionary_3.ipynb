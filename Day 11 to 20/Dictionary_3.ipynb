{
 "cells": [
  {
   "cell_type": "markdown",
   "id": "cf9111db",
   "metadata": {},
   "source": [
    "# Question 54\n",
    "## The following dictionary is given:stocks = {'MSFT.US': {'Microsoft Corp': 184}, 'AAPL.US': {'Apple Inc': 310},  'MMM.US': {'3M Co': 148}}    Add a fourth pair to this dictionary with the key 'V.US' and the value: {'Visa Inc': 185}. Print the values of the stocks dictionary to the console.\n",
    "## Expected result: dict_values([{'Microsoft Corp': 184}, {'Apple Inc': 310}, {'3M Co': 148}, {'Visa Inc': 185}])"
   ]
  },
  {
   "cell_type": "code",
   "execution_count": 1,
   "id": "5178b8a7",
   "metadata": {},
   "outputs": [
    {
     "name": "stdout",
     "output_type": "stream",
     "text": [
      "dict_values([{'Microsoft Corp': 184}, {'Apple Inc': 310}, {'3M Co': 148}, {'Visa Inc': 185}])\n"
     ]
    }
   ],
   "source": [
    "stocks = {\n",
    "    'MSFT.US': {'Microsoft Corp': 184},\n",
    "    'AAPL.US': {'Apple Inc': 310},\n",
    "    'MMM.US': {'3M Co': 148}\n",
    "}\n",
    "stocks['V.US']={'Visa Inc': 185}\n",
    "print(stocks.values())"
   ]
  },
  {
   "cell_type": "markdown",
   "id": "35a0d386",
   "metadata": {},
   "source": [
    "# Question 55\n",
    "## A list of tickers from the Dow Jones index is given:tickers = [  'AAPL.US',  'AXP.US',  'BA.US',  'CAT.US',  'CSCO.US',  'CVX.US',  'DIS.US',  'DOW.US',  'GS.US',  'HD.US',  'IBM.US',  'INTC.US',] Transform this list into a list of two-element tuple objects (index, ticker) and print it to the console. Formatted result for better view:[(0, 'AAPL.US'),(1, 'AXP.US'), (2, 'BA.US'), (3, 'CAT.US'),(4, 'CSCO.US'),(5, 'CVX.US'), (6, 'DIS.US'), (7, 'DOW.US'),(8, 'GS.US'), (9, 'HD.US'), (10, 'IBM.US'), (11, 'INTC.US')]\n",
    "## Expected result: [(0, 'AAPL.US'), (1, 'AXP.US'), (2, 'BA.US'), (3, 'CAT.US'), (4, 'CSCO.US'), (5, 'CVX.US'), (6, 'DIS.US'), (7, 'DOW.US'), (8, 'GS.US'), (9, 'HD.US'), (10, 'IBM.US'), (11, 'INTC.US')]"
   ]
  },
  {
   "cell_type": "code",
   "execution_count": 2,
   "id": "aadd962a",
   "metadata": {},
   "outputs": [
    {
     "name": "stdout",
     "output_type": "stream",
     "text": [
      "[(0, 'AAPL.US'), (1, 'AXP.US'), (2, 'BA.US'), (3, 'CAT.US'), (4, 'CSCO.US'), (5, 'CVX.US'), (6, 'DIS.US'), (7, 'DOW.US'), (8, 'GS.US'), (9, 'HD.US'), (10, 'IBM.US'), (11, 'INTC.US')]\n"
     ]
    }
   ],
   "source": [
    "tickers = [\n",
    "    'AAPL.US',\n",
    "    'AXP.US',\n",
    "    'BA.US',\n",
    "    'CAT.US',\n",
    "    'CSCO.US',\n",
    "    'CVX.US',\n",
    "    'DIS.US',\n",
    "    'DOW.US',\n",
    "    'GS.US',\n",
    "    'HD.US',\n",
    "    'IBM.US',\n",
    "    'INTC.US',\n",
    "]\n",
    "print(list(enumerate(tickers)))"
   ]
  },
  {
   "cell_type": "markdown",
   "id": "f600efda",
   "metadata": {},
   "source": [
    "# Question 56\n",
    "## A list of tickers from the Dow Jones index is given:tickers = [  'AAPL.US',  'AXP.US',  'BA.US',  'CAT.US',  'CSCO.US',  'CVX.US',  'DIS.US',  'DOW.US',  'GS.US',  'HD.US',  'IBM.US',  'INTC.US',] Transform this list into a dictionary (index, ticker) and print it to the console. Formatted result for better view:{0: 'AAPL.US',1: 'AXP.US',2: 'BA.US', 3: 'CAT.US', 4: 'CSCO.US', 5: 'CVX.US', 6: 'DIS.US', 7: 'DOW.US', 8: 'GS.US', 9: 'HD.US',10: 'IBM.US',11: 'INTC.US'}\n",
    "## Expected result: {0: 'AAPL.US', 1: 'AXP.US', 2: 'BA.US', 3: 'CAT.US', 4: 'CSCO.US', 5: 'CVX.US', 6: 'DIS.US', 7: 'DOW.US', 8: 'GS.US', 9: 'HD.US', 10: 'IBM.US', 11: 'INTC.US'}\n"
   ]
  },
  {
   "cell_type": "code",
   "execution_count": 3,
   "id": "fda781db",
   "metadata": {},
   "outputs": [
    {
     "name": "stdout",
     "output_type": "stream",
     "text": [
      "{0: 'AAPL.US', 1: 'AXP.US', 2: 'BA.US', 3: 'CAT.US', 4: 'CSCO.US', 5: 'CVX.US', 6: 'DIS.US', 7: 'DOW.US', 8: 'GS.US', 9: 'HD.US', 10: 'IBM.US', 11: 'INTC.US'}\n"
     ]
    }
   ],
   "source": [
    "tickers = [\n",
    "    'AAPL.US',\n",
    "    'AXP.US',\n",
    "    'BA.US',\n",
    "    'CAT.US',\n",
    "    'CSCO.US',\n",
    "    'CVX.US',\n",
    "    'DIS.US',\n",
    "    'DOW.US',\n",
    "    'GS.US',\n",
    "    'HD.US',\n",
    "    'IBM.US',\n",
    "    'INTC.US',\n",
    "]\n",
    "print(dict(enumerate(tickers)))"
   ]
  },
  {
   "cell_type": "code",
   "execution_count": null,
   "id": "3ebeb614",
   "metadata": {},
   "outputs": [],
   "source": []
  }
 ],
 "metadata": {
  "kernelspec": {
   "display_name": "Python 3 (ipykernel)",
   "language": "python",
   "name": "python3"
  },
  "language_info": {
   "codemirror_mode": {
    "name": "ipython",
    "version": 3
   },
   "file_extension": ".py",
   "mimetype": "text/x-python",
   "name": "python",
   "nbconvert_exporter": "python",
   "pygments_lexer": "ipython3",
   "version": "3.9.13"
  }
 },
 "nbformat": 4,
 "nbformat_minor": 5
}
