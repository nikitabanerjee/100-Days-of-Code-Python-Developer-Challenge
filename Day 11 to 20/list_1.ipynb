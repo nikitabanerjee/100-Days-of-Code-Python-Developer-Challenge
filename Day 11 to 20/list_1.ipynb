{
 "cells": [
  {
   "cell_type": "markdown",
   "id": "b15db927",
   "metadata": {},
   "source": [
    "# Question 40\n",
    "## To the given list: cities = ['Los Angeles', 'New York', 'Chicago'] append the city: 'Houston' and print the list to the console. \n",
    "## Expected result: ['Los Angeles', 'New York', 'Chicago', 'Houston']"
   ]
  },
  {
   "cell_type": "code",
   "execution_count": 1,
   "id": "fc592415",
   "metadata": {},
   "outputs": [
    {
     "name": "stdout",
     "output_type": "stream",
     "text": [
      "['Los Angeles', 'New York', 'Chicago', 'Houston']\n"
     ]
    }
   ],
   "source": [
    "cities = ['Los Angeles', 'New York', 'Chicago']\n",
    "cities.append('Houston')\n",
    "print(cities)"
   ]
  },
  {
   "cell_type": "markdown",
   "id": "d1605edf",
   "metadata": {},
   "source": [
    "# Question 41\n",
    "## The following list is given: idx = ['001', '002', '001', '003', '001'] Using the appropriate method count the occurrences of '001'. Print the result to the console as shown below.\n",
    "## Expected result: Number of occurrences: 3"
   ]
  },
  {
   "cell_type": "code",
   "execution_count": 2,
   "id": "dc154bc0",
   "metadata": {},
   "outputs": [
    {
     "name": "stdout",
     "output_type": "stream",
     "text": [
      "Number of occurrences: 3\n"
     ]
    }
   ],
   "source": [
    "idx = ['001', '002', '001', '003', '001']\n",
    "print(f\"Number of occurrences: {idx.count('001')}\")"
   ]
  },
  {
   "cell_type": "markdown",
   "id": "8a847cb6",
   "metadata": {},
   "source": [
    "# Question 42\n",
    "## The following text is given: text = 'Python programming' Standardize the text (replace uppercase letters with lowercase). Then create a list of unique characters in the text. Remove the space from this list and sort from a to z. After all print the list to the console. Tip: You can use a set to generate unique characters.\n",
    "## Expected result: ['a', 'g', 'h', 'i', 'm', 'n', 'o', 'p', 'r', 't', 'y']\n"
   ]
  },
  {
   "cell_type": "code",
   "execution_count": 3,
   "id": "a5e74899",
   "metadata": {},
   "outputs": [
    {
     "name": "stdout",
     "output_type": "stream",
     "text": [
      "['a', 'g', 'h', 'i', 'm', 'n', 'o', 'p', 'r', 't', 'y']\n"
     ]
    }
   ],
   "source": [
    "text = 'Python programming'\n",
    "text = text.lower()\n",
    "characters = list(set(text))\n",
    "characters.remove(' ')\n",
    "characters.sort()\n",
    " \n",
    "print(characters)"
   ]
  },
  {
   "cell_type": "markdown",
   "id": "de0d25fa",
   "metadata": {},
   "source": [
    "# Question 43\n",
    "## The following list is given: filenames = ['view.jpg', 'bear.jpg', 'ball.png'] Add the file 'phone.jpg' to this list at the beginning. Then delete the file 'ball.png'. In response, print the filenames list to the console.\n",
    "## Expected result: ['phone.jpg', 'view.jpg', 'bear.jpg']\n"
   ]
  },
  {
   "cell_type": "code",
   "execution_count": 4,
   "id": "f385e947",
   "metadata": {},
   "outputs": [
    {
     "name": "stdout",
     "output_type": "stream",
     "text": [
      "['phone.jpg', 'view.jpg', 'bear.jpg']\n"
     ]
    }
   ],
   "source": [
    "filenames = ['view.jpg', 'bear.jpg', 'ball.png']\n",
    "filenames.insert(0,'phone.jpg')\n",
    "filenames.pop(3)\n",
    "print(filenames)"
   ]
  },
  {
   "cell_type": "code",
   "execution_count": null,
   "id": "85042089",
   "metadata": {},
   "outputs": [],
   "source": []
  }
 ],
 "metadata": {
  "kernelspec": {
   "display_name": "Python 3 (ipykernel)",
   "language": "python",
   "name": "python3"
  },
  "language_info": {
   "codemirror_mode": {
    "name": "ipython",
    "version": 3
   },
   "file_extension": ".py",
   "mimetype": "text/x-python",
   "name": "python",
   "nbconvert_exporter": "python",
   "pygments_lexer": "ipython3",
   "version": "3.9.13"
  }
 },
 "nbformat": 4,
 "nbformat_minor": 5
}
