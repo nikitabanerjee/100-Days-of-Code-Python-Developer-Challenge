{
 "cells": [
  {
   "cell_type": "markdown",
   "id": "b0629f0e",
   "metadata": {},
   "source": [
    "# Question 60\n",
    "## The following filename is given:filename = '01012020_sales.xlsx' Check if the file has the 'xlsx' extension. Print to the console 'YES' if true, 'NO' if false.\n",
    "## Expected result: YES"
   ]
  },
  {
   "cell_type": "code",
   "execution_count": 1,
   "id": "49735bb4",
   "metadata": {},
   "outputs": [
    {
     "name": "stdout",
     "output_type": "stream",
     "text": [
      "YES\n"
     ]
    }
   ],
   "source": [
    "filename = '01012020_sales.xlsx'\n",
    "if filename.endswith('xlsx'):\n",
    "    print('YES')\n",
    "else:\n",
    "    print('NO')"
   ]
  },
  {
   "cell_type": "markdown",
   "id": "54353ea7",
   "metadata": {},
   "source": [
    "# Question 61\n",
    "## The following code is given:code = 'DSVNDOICSN' Check if the code variable has only uppercase letters. If so, print 'YES' to the console.\n",
    "## Expected result:YES"
   ]
  },
  {
   "cell_type": "code",
   "execution_count": 2,
   "id": "3a8a23bb",
   "metadata": {},
   "outputs": [
    {
     "name": "stdout",
     "output_type": "stream",
     "text": [
      "YES\n"
     ]
    }
   ],
   "source": [
    "code = 'DSVNDOICSN'\n",
    "if code.isupper():\n",
    "    print('YES')"
   ]
  },
  {
   "cell_type": "markdown",
   "id": "e33992fd",
   "metadata": {},
   "source": [
    "# Question 62\n",
    "## The following variable is given: number = 1.0 Test whether the variable is an instance of the built-in class int. Print 'YES' if true, 'NO' if false.\n",
    "## Expected result: NO"
   ]
  },
  {
   "cell_type": "code",
   "execution_count": 3,
   "id": "632da8ab",
   "metadata": {},
   "outputs": [
    {
     "name": "stdout",
     "output_type": "stream",
     "text": [
      "NO\n"
     ]
    }
   ],
   "source": [
    "number = 1.0\n",
    "if isinstance(number,int):\n",
    "    print('YES')\n",
    "else:\n",
    "    print('NO')"
   ]
  },
  {
   "cell_type": "code",
   "execution_count": null,
   "id": "02397104",
   "metadata": {},
   "outputs": [],
   "source": []
  }
 ],
 "metadata": {
  "kernelspec": {
   "display_name": "Python 3 (ipykernel)",
   "language": "python",
   "name": "python3"
  },
  "language_info": {
   "codemirror_mode": {
    "name": "ipython",
    "version": 3
   },
   "file_extension": ".py",
   "mimetype": "text/x-python",
   "name": "python",
   "nbconvert_exporter": "python",
   "pygments_lexer": "ipython3",
   "version": "3.9.13"
  }
 },
 "nbformat": 4,
 "nbformat_minor": 5
}
