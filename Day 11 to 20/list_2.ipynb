{
 "cells": [
  {
   "cell_type": "markdown",
   "id": "33d2fe1e",
   "metadata": {},
   "source": [
    "# Question 44\n",
    "## The following list represents order ids for a given day: day1 = ['3984', '9042', '4829', '2380'] Using the appropriate method, extend this list to the next day: day2 = ['4231', '5234', '1345', '2455'] Print the result to the console.\n",
    "## Expected result: ['3984', '9042', '4829', '2380', '4231', '5234', '1345', '2455']"
   ]
  },
  {
   "cell_type": "code",
   "execution_count": 1,
   "id": "1d17c433",
   "metadata": {},
   "outputs": [
    {
     "name": "stdout",
     "output_type": "stream",
     "text": [
      "['3984', '9042', '4829', '2380', '4231', '5234', '1345', '2455']\n"
     ]
    }
   ],
   "source": [
    "day1 = ['3984', '9042', '4829', '2380']\n",
    "day2 = ['4231', '5234', '1345', '2455']\n",
    "day1.extend(day2)\n",
    "print(day1)"
   ]
  },
  {
   "cell_type": "markdown",
   "id": "2871fe31",
   "metadata": {},
   "source": [
    "# Question 45\n",
    "## The following list is given: hashtags = ['summer', 'time', 'vibes'] Using the appropriate method, combine the elements of the list with the '#' character. Also add this sign to the beginning of the text and print the result to the console as shown below.\n",
    "## Expected result: '#summer#time#vibes'"
   ]
  },
  {
   "cell_type": "code",
   "execution_count": 2,
   "id": "c56c3422",
   "metadata": {},
   "outputs": [
    {
     "name": "stdout",
     "output_type": "stream",
     "text": [
      "#summer#time#vibes\n"
     ]
    }
   ],
   "source": [
    "hashtags = ['summer', 'time', 'vibes']\n",
    "print('#' + '#'.join(hashtags))"
   ]
  },
  {
   "cell_type": "markdown",
   "id": "57b97f3a",
   "metadata": {},
   "source": [
    "# Question 46\n",
    "## Create a dictionary from the following pairs (key, value): 'USA': 'Washington' 'Germany': 'Berlin' 'Austria': 'Vienna' and print it to the console.\n",
    "## Expected result: {'USA': 'Washington', 'Germany': 'Berlin', 'Austria': 'Vienna'} "
   ]
  },
  {
   "cell_type": "code",
   "execution_count": 3,
   "id": "3275007c",
   "metadata": {},
   "outputs": [
    {
     "name": "stdout",
     "output_type": "stream",
     "text": [
      "{'USA': 'Washington', 'Germany': 'Berlin', 'Austria': 'Vienna'}\n"
     ]
    }
   ],
   "source": [
    "capitals={\n",
    "    'USA': 'Washington',\n",
    "    'Germany': 'Berlin',\n",
    "    'Austria': 'Vienna'\n",
    "\n",
    "}\n",
    "print(capitals)"
   ]
  },
  {
   "cell_type": "code",
   "execution_count": null,
   "id": "bba8e3f5",
   "metadata": {},
   "outputs": [],
   "source": []
  }
 ],
 "metadata": {
  "kernelspec": {
   "display_name": "Python 3 (ipykernel)",
   "language": "python",
   "name": "python3"
  },
  "language_info": {
   "codemirror_mode": {
    "name": "ipython",
    "version": 3
   },
   "file_extension": ".py",
   "mimetype": "text/x-python",
   "name": "python",
   "nbconvert_exporter": "python",
   "pygments_lexer": "ipython3",
   "version": "3.9.13"
  }
 },
 "nbformat": 4,
 "nbformat_minor": 5
}
