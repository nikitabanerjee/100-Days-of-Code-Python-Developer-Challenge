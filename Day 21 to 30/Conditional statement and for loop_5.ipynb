{
 "cells": [
  {
   "cell_type": "markdown",
   "id": "64bba772",
   "metadata": {},
   "source": [
    "# Question 78\n",
    "## A dictionary of companies from the WIG.GAMES index is given. The key is the 3-letter company ticker and value - close price: gaming = {    '11B': 362.5,    'CDR': 297.0,    'CIG': 0.85,    'PLW': 318.0,    'TEN': 300.0} Iterate through this dictionary and print the tickers of those companies where closing price is greater than 100.00 PLN.\n",
    "## Expected result:\n",
    "### 11B\n",
    "### CDR\n",
    "### PLW\n",
    "### TEN\n"
   ]
  },
  {
   "cell_type": "code",
   "execution_count": 1,
   "id": "7cff2bb3",
   "metadata": {},
   "outputs": [
    {
     "name": "stdout",
     "output_type": "stream",
     "text": [
      "11B\n",
      "CDR\n",
      "PLW\n",
      "TEN\n"
     ]
    }
   ],
   "source": [
    "gaming = {\n",
    "    '11B': 362.5,\n",
    "    'CDR': 297.0,\n",
    "    'CIG': 0.85,\n",
    "    'PLW': 318.0,\n",
    "    'TEN': 300.0\n",
    "}\n",
    "for ticker, close in gaming.items():\n",
    "    if close > 100.0:\n",
    "        print(ticker)"
   ]
  },
  {
   "cell_type": "markdown",
   "id": "69801ea6",
   "metadata": {},
   "source": [
    "# Question 79\n",
    "## A list of names entered by users into the system is given below (without validation process): names = ['Jack', 'Leon', 'Alice', '32-3c', 'Bob'] Iterate through the names list and check if each name is correct (contains only letters). If so, print to the console following message: f'Hello {name}!' otherwise do nothing. Tip: Use the str.isalpha() method.\n",
    "## Expected result: Hello Jack! Hello Leon! Hello Alice! Hello Bob!\n"
   ]
  },
  {
   "cell_type": "code",
   "execution_count": 2,
   "id": "395a57c5",
   "metadata": {},
   "outputs": [
    {
     "name": "stdout",
     "output_type": "stream",
     "text": [
      "Hello Jack!\n",
      "Hello Leon!\n",
      "Hello Alice!\n",
      "Hello Bob!\n"
     ]
    }
   ],
   "source": [
    "names = ['Jack', 'Leon', 'Alice', '32-3c', 'Bob']\n",
    "for name in names:\n",
    "    if name.isalpha():\n",
    "        print(f'Hello {name}!')"
   ]
  },
  {
   "cell_type": "markdown",
   "id": "df53c73c",
   "metadata": {},
   "source": [
    "# Question 80\n",
    "## Write a program that compares two lists and returns True if the lists contain at least one of the same element. Otherwise, it will return False. Use break statement in the solution and print result to the console. Lists: list1 = [1, 2, 0] list2 = [4, 5, 6, 1]\n",
    "## Expected result: True"
   ]
  },
  {
   "cell_type": "code",
   "execution_count": 3,
   "id": "2002ac82",
   "metadata": {},
   "outputs": [
    {
     "name": "stdout",
     "output_type": "stream",
     "text": [
      "True\n"
     ]
    }
   ],
   "source": [
    "list1 = [1, 2, 0]\n",
    "list2 = [4, 5, 6, 1]\n",
    "result=False\n",
    "for item1 in list1:\n",
    "    if item1 in list2:\n",
    "        result=True\n",
    "        break\n",
    "print(result)"
   ]
  },
  {
   "cell_type": "code",
   "execution_count": null,
   "id": "43a2f73b",
   "metadata": {},
   "outputs": [],
   "source": []
  }
 ],
 "metadata": {
  "kernelspec": {
   "display_name": "Python 3 (ipykernel)",
   "language": "python",
   "name": "python3"
  },
  "language_info": {
   "codemirror_mode": {
    "name": "ipython",
    "version": 3
   },
   "file_extension": ".py",
   "mimetype": "text/x-python",
   "name": "python",
   "nbconvert_exporter": "python",
   "pygments_lexer": "ipython3",
   "version": "3.9.13"
  }
 },
 "nbformat": 4,
 "nbformat_minor": 5
}
