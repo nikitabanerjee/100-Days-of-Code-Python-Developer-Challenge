{
 "cells": [
  {
   "cell_type": "markdown",
   "id": "59ebe88f",
   "metadata": {},
   "source": [
    "# Question 97\n",
    "## The following dictionary: stocks = {'PLW': ['Playway', 350], 'BBT': ['Boombit', 22]} save to stocks.json using the json package. Set the indent to 4. File stocks.json after saving {\n",
    "###    \"PLW\": [\n",
    "###        \"Playway\",\n",
    "###        350\n",
    "###    ],\n",
    "###    \"BBT\": [\n",
    "###        \"Boombit\",\n",
    "###        22\n",
    "###    ]\n",
    "### }\n"
   ]
  },
  {
   "cell_type": "code",
   "execution_count": 1,
   "id": "10bd35e2",
   "metadata": {},
   "outputs": [],
   "source": [
    "import json\n",
    "\n",
    "\n",
    "stocks = {'PLW': ['Playway', 350], 'BBT': ['Boombit', 22]}\n",
    "with open('stocks.json', 'w') as file:\n",
    "    json.dump(stocks, file, indent=4)"
   ]
  },
  {
   "cell_type": "markdown",
   "id": "f186d466",
   "metadata": {},
   "source": [
    "# Question 98\n",
    "\n",
    "## Two following lists are given: headers = ['user_id', 'amount'] users = [['001', '1400'], ['004', '1300'], ['007', '900']] Save the above data to the users.csv file (file in csv format - comma-separated values) as shown below.\n",
    "## File users.csv after saving:\n",
    "## user_id,amount\n",
    "## 001,1400\n",
    "## 004,1300\n",
    "## 007,900\n"
   ]
  },
  {
   "cell_type": "code",
   "execution_count": 2,
   "id": "45817682",
   "metadata": {},
   "outputs": [],
   "source": [
    "headers = ['user_id', 'amount']\n",
    "users = [['001', '1400'], ['004', '1300'], ['007', '900']]\n",
    " \n",
    "with open('users.csv', 'w') as file:\n",
    "    file.write(','.join(headers) + '\\n')\n",
    "    for user in users:\n",
    "        file.write(','.join(user) + '\\n')"
   ]
  },
  {
   "cell_type": "code",
   "execution_count": null,
   "id": "7f1fda49",
   "metadata": {},
   "outputs": [],
   "source": []
  }
 ],
 "metadata": {
  "kernelspec": {
   "display_name": "Python 3 (ipykernel)",
   "language": "python",
   "name": "python3"
  },
  "language_info": {
   "codemirror_mode": {
    "name": "ipython",
    "version": 3
   },
   "file_extension": ".py",
   "mimetype": "text/x-python",
   "name": "python",
   "nbconvert_exporter": "python",
   "pygments_lexer": "ipython3",
   "version": "3.9.13"
  }
 },
 "nbformat": 4,
 "nbformat_minor": 5
}
