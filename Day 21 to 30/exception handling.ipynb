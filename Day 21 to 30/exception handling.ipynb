{
 "cells": [
  {
   "cell_type": "markdown",
   "id": "4a15964e",
   "metadata": {},
   "source": [
    "# Question 88\n",
    "## Two variables defined below are given: sum = 3000   counter = 0 We want to divide the variable sum by the counter variable. Using the try... except... clause handle the ZeroDivisionError. If the division is done correctly, print the result to the console, otherwise print to the console the following message: 'Division by zero.'\n"
   ]
  },
  {
   "cell_type": "code",
   "execution_count": 1,
   "id": "d0ec1441",
   "metadata": {},
   "outputs": [
    {
     "name": "stdout",
     "output_type": "stream",
     "text": [
      "Division by zero.\n"
     ]
    }
   ],
   "source": [
    "sum = 3000\n",
    "counter = 0\n",
    "try:\n",
    "    result = sum / counter\n",
    "    print(result)\n",
    "except ZeroDivisionError:\n",
    "    print('Division by zero.')"
   ]
  },
  {
   "cell_type": "markdown",
   "id": "0f97ee22",
   "metadata": {},
   "source": [
    "# Question 89\n",
    "## Sometimes we need to open a file without knowing if such a file exists. When file doesn't exist the FileNotFoundError is raised. Using the try... except... clause, handle with this problem. Use this code snippet to read the content of the file:\n",
    "### with open('file.txt', 'r') as file:\n",
    "   ### content = file.read()\n",
    "## Try to open file.txt using the above code. If the file.txt does not exist, print to the console following message: 'File not found.'\n"
   ]
  },
  {
   "cell_type": "code",
   "execution_count": 2,
   "id": "47e12726",
   "metadata": {},
   "outputs": [
    {
     "name": "stdout",
     "output_type": "stream",
     "text": [
      "File not found.\n"
     ]
    }
   ],
   "source": [
    "try:\n",
    "    with open('file.txt', 'r') as file:\n",
    "        content = file.read()\n",
    "except FileNotFoundError:\n",
    "    print('File not found.')"
   ]
  },
  {
   "cell_type": "markdown",
   "id": "8270f15f",
   "metadata": {},
   "source": [
    "# Question 90\n",
    "## The following dictionary is given: users = {'001': 'Mark', '002': 'Monica', '003': 'Jacob'} Try printing the value for the key: user_id = '004' In case of a KeyError, print to the console the following message: 'The 004 key is not in the dictionary. Adding key ...' Then add this key to the dictionary with the value None and print the users dictionary to the console.\n",
    "## Expected result: The 004 key is not in the dictionary. Adding key ... {'001': 'Mark', '002': 'Monica', '003': 'Jacob', '004': None}\n"
   ]
  },
  {
   "cell_type": "code",
   "execution_count": 3,
   "id": "7739d4ae",
   "metadata": {},
   "outputs": [
    {
     "name": "stdout",
     "output_type": "stream",
     "text": [
      "The 004 key is not in the dictionary. Adding key ...\n",
      "{'001': 'Mark', '002': 'Monica', '003': 'Jacob', '004': None}\n"
     ]
    }
   ],
   "source": [
    "users = {'001': 'Mark', '002': 'Monica', '003': 'Jacob'}\n",
    "user_id = '004'\n",
    "try:\n",
    "    print(users[user_id])\n",
    "except KeyError:\n",
    "    print(\n",
    "        f'The {user_id} key is not in the dictionary. '\n",
    "        'Adding key ...'\n",
    "    )\n",
    "    users[user_id] = None\n",
    " \n",
    " \n",
    "print(users)"
   ]
  },
  {
   "cell_type": "code",
   "execution_count": null,
   "id": "67254d30",
   "metadata": {},
   "outputs": [],
   "source": []
  }
 ],
 "metadata": {
  "kernelspec": {
   "display_name": "Python 3 (ipykernel)",
   "language": "python",
   "name": "python3"
  },
  "language_info": {
   "codemirror_mode": {
    "name": "ipython",
    "version": 3
   },
   "file_extension": ".py",
   "mimetype": "text/x-python",
   "name": "python",
   "nbconvert_exporter": "python",
   "pygments_lexer": "ipython3",
   "version": "3.9.13"
  }
 },
 "nbformat": 4,
 "nbformat_minor": 5
}
