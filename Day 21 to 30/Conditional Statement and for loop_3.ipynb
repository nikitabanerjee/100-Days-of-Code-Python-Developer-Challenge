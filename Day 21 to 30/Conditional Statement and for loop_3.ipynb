{
 "cells": [
  {
   "cell_type": "markdown",
   "id": "9c642ea3",
   "metadata": {},
   "source": [
    "# Question 72\n",
    "## The following text is given: text = 'Python is a very popular programming language'   Write a program which extracts exactly the first four words as a list. Standardize each word, i.e. replace uppercase letters with lowercase. Present the result in a list and print to the console as shown below.\n",
    "## Expected result: ['python', 'is', 'a', 'very']\n"
   ]
  },
  {
   "cell_type": "code",
   "execution_count": 1,
   "id": "b7ff3b67",
   "metadata": {},
   "outputs": [
    {
     "name": "stdout",
     "output_type": "stream",
     "text": [
      "['Python', 'is', 'a', 'very', 'popular', 'programming', 'language']\n",
      "['python', 'is', 'a', 'very']\n"
     ]
    }
   ],
   "source": [
    "text = 'Python is a very popular programming language'\n",
    "words = text.split(' ')\n",
    "result = []\n",
    " \n",
    "for idx, word in enumerate(words):\n",
    "    if idx < 4:\n",
    "        result.append(word.lower())\n",
    " \n",
    " \n",
    "print(words)\n",
    "print(result)"
   ]
  },
  {
   "cell_type": "markdown",
   "id": "a7c99fe2",
   "metadata": {},
   "source": [
    "# Question 73\n",
    "## Write a program that returns a list of values above the given threshold = 0.5 from the following list:   probabilities = [0.21, 0.91, 0.34, 0.55, 0.76, 0.02]\n",
    "## Expected result:  [0.91, 0.55, 0.76]"
   ]
  },
  {
   "cell_type": "code",
   "execution_count": 2,
   "id": "074b8bc0",
   "metadata": {},
   "outputs": [
    {
     "name": "stdout",
     "output_type": "stream",
     "text": [
      "[0.91, 0.55, 0.76]\n"
     ]
    }
   ],
   "source": [
    "probabilities = [0.21, 0.91, 0.34, 0.55, 0.76, 0.02]\n",
    "result=[]\n",
    "for prob in probabilities:\n",
    "    if prob>0.5:\n",
    "        result.append(prob)\n",
    "print(result)\n",
    "        \n"
   ]
  },
  {
   "cell_type": "markdown",
   "id": "bec94120",
   "metadata": {},
   "source": [
    "# Question 74\n",
    "## Consider the problem of binary classification in machine learning. The machine learning model returns the probability of belonging to the class. If it's less than 0.5, the sample is assigned to class 0, otherwise to class 1. A list of probabilities from the machine learning model is given:  probabilities = [0.21, 0.91, 0.34, 0.55, 0.76, 0.02]  Write a program that assigns class 0 for values less than 0.5 and 1 for values greater than or equal to 0.5. Print the result to the console as shown below.\n",
    "## Expected result: [0, 1, 0, 1, 1, 0]"
   ]
  },
  {
   "cell_type": "code",
   "execution_count": 3,
   "id": "cb1bf3f9",
   "metadata": {},
   "outputs": [
    {
     "name": "stdout",
     "output_type": "stream",
     "text": [
      "[0, 1, 0, 1, 1, 0]\n"
     ]
    }
   ],
   "source": [
    "probabilities = [0.21, 0.91, 0.34, 0.55, 0.76, 0.02]\n",
    "result=[]\n",
    "for prob in probabilities:\n",
    "    if prob>0.5:\n",
    "        result.append(1)\n",
    "    else:\n",
    "        result.append(0)\n",
    "print(result)"
   ]
  },
  {
   "cell_type": "code",
   "execution_count": null,
   "id": "3b2589da",
   "metadata": {},
   "outputs": [],
   "source": []
  }
 ],
 "metadata": {
  "kernelspec": {
   "display_name": "Python 3 (ipykernel)",
   "language": "python",
   "name": "python3"
  },
  "language_info": {
   "codemirror_mode": {
    "name": "ipython",
    "version": 3
   },
   "file_extension": ".py",
   "mimetype": "text/x-python",
   "name": "python",
   "nbconvert_exporter": "python",
   "pygments_lexer": "ipython3",
   "version": "3.9.13"
  }
 },
 "nbformat": 4,
 "nbformat_minor": 5
}
