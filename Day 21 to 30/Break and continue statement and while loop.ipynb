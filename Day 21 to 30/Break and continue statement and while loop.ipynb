{
 "cells": [
  {
   "cell_type": "markdown",
   "id": "7a2eda47",
   "metadata": {},
   "source": [
    "# Question 84\n",
    "## The list of names is given (one is missing): names = ['Jack', 'Leon', 'Alice', None, 'Bob'] Using the continue statement, print only the correct names to the console as shown below.\n",
    "## Expected result: Jack Leon Alice Bob\n",
    " "
   ]
  },
  {
   "cell_type": "code",
   "execution_count": 1,
   "id": "6dde8652",
   "metadata": {},
   "outputs": [
    {
     "name": "stdout",
     "output_type": "stream",
     "text": [
      "Jack\n",
      "Leon\n",
      "Alice\n",
      "Bob\n"
     ]
    }
   ],
   "source": [
    "names = ['Jack', 'Leon', 'Alice', None, 'Bob']\n",
    "for name in names:\n",
    "    if name is None:\n",
    "        continue\n",
    "    print(name)"
   ]
  },
  {
   "cell_type": "markdown",
   "id": "45acebef",
   "metadata": {},
   "source": [
    "# Question 85\n",
    "## Write a program that prints to the console the first ten prime numbers separated by a comma. Tip: Use a while loop with break statement.\n",
    "## Expected result: 2,3,5,7,11,13,17,19,23,29"
   ]
  },
  {
   "cell_type": "code",
   "execution_count": 2,
   "id": "ef8495d4",
   "metadata": {},
   "outputs": [
    {
     "name": "stdout",
     "output_type": "stream",
     "text": [
      "2,3,5,7,11,13,17,19,23,29\n"
     ]
    }
   ],
   "source": [
    "counter = 0\n",
    "number = 2\n",
    "prime = []\n",
    " \n",
    "while counter < 10:\n",
    "    for i in range(2, number):\n",
    "        if number % i == 0:\n",
    "            break\n",
    "    else:\n",
    "        prime.append(str(number))\n",
    "        counter += 1\n",
    "    number += 1\n",
    " \n",
    " \n",
    "print(','.join(prime))"
   ]
  },
  {
   "cell_type": "markdown",
   "id": "b3b6adf8",
   "metadata": {},
   "source": [
    "# Question 86\n",
    "## Using the while loop, calculate how many years you have to wait for the return on the investment described below to at least double your money (we only take into account full periods). Description: n - number of periods (in years) pv - present value r - interest rate (annual) fv - future value Investment parameters: pv = 1000 r = 0.04 Print result to the console as shown below.\n",
    "## Expected result: Future value: 2025.82 USD. Number of periods: 18 years\n"
   ]
  },
  {
   "cell_type": "code",
   "execution_count": 3,
   "id": "97a412a3",
   "metadata": {},
   "outputs": [
    {
     "name": "stdout",
     "output_type": "stream",
     "text": [
      "Future value: 2025.82 USD. Number of periods: 18 years\n"
     ]
    }
   ],
   "source": [
    "n = 1\n",
    "pv = 1000\n",
    "r = 0.04\n",
    "fv = pv * (1 + r)\n",
    " \n",
    "while fv <= 2000:\n",
    "    fv = fv * (1 + r)\n",
    "    n += 1\n",
    " \n",
    " \n",
    "print(f'Future value: {fv:.2f} USD. Number of periods: {n} years')"
   ]
  },
  {
   "cell_type": "markdown",
   "id": "092a6279",
   "metadata": {},
   "source": [
    "# Question 87\n",
    "## Write a program that checks if the given element (target) is in the sorted list (numbers). We have given: numbers = [1, 2, 3, 4, 5, 6, 7, 8, 9] target = 7\n",
    "### Algorithm:\n",
    "### 1. We set the start and end index as well as the flag = None.\n",
    "### 2. As long as the start index is not greater than the end index, select the middle index (mid) of the list (arithmetic average of the start and end index -> remember to convert the result with the int() function). If the start index is greater than the end index, we end the algorithm.\n",
    "### 3. Check if the element for the index calculated in this way is our target. If so, we set the flag to True and terminate the algorithm. If not -> step 4.\n",
    "### 4. We check if the element of the list for the index mid is less than the target. If so, we increase the start index by 1. If not, we reduce the end index by 1 and go to step 2. After while loop, depending on the value of the flag, print to the console: 'Found' or 'Not found'.\n",
    "## Expected result: Found"
   ]
  },
  {
   "cell_type": "code",
   "execution_count": 4,
   "id": "7c920661",
   "metadata": {},
   "outputs": [
    {
     "name": "stdout",
     "output_type": "stream",
     "text": [
      "Found\n"
     ]
    }
   ],
   "source": [
    "numbers = [1, 2, 3, 4, 5, 6, 7, 8, 9]\n",
    "target = 7\n",
    "start = 0\n",
    "end = len(numbers) - 1\n",
    "flag = None\n",
    " \n",
    "while start <= end:\n",
    "    mid = int((start + end) / 2)\n",
    "    if numbers[mid] == target:\n",
    "        flag = True\n",
    "        break\n",
    "    else:\n",
    "        if numbers[mid] < target:\n",
    "            start = mid + 1\n",
    "        else:\n",
    "            end = mid - 1\n",
    " \n",
    "if flag:\n",
    "    print('Found')\n",
    "else:\n",
    "    print('Not found')"
   ]
  },
  {
   "cell_type": "code",
   "execution_count": null,
   "id": "9bee1a36",
   "metadata": {},
   "outputs": [],
   "source": []
  }
 ],
 "metadata": {
  "kernelspec": {
   "display_name": "Python 3 (ipykernel)",
   "language": "python",
   "name": "python3"
  },
  "language_info": {
   "codemirror_mode": {
    "name": "ipython",
    "version": 3
   },
   "file_extension": ".py",
   "mimetype": "text/x-python",
   "name": "python",
   "nbconvert_exporter": "python",
   "pygments_lexer": "ipython3",
   "version": "3.9.13"
  }
 },
 "nbformat": 4,
 "nbformat_minor": 5
}
