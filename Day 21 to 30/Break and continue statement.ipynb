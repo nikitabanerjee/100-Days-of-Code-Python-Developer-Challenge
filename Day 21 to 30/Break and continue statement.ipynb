{
 "cells": [
  {
   "cell_type": "markdown",
   "id": "2e56e6f8",
   "metadata": {},
   "source": [
    "# Question 81\n",
    "## The following list of hashtags is given: hashtags = ['holiday', 'sport', 'fit', None, 'fashion'] Check if all objects in the list are of str type. If so, print True, otherwise print False. Use the break statement in your solution.\n",
    "## Expected result: False"
   ]
  },
  {
   "cell_type": "code",
   "execution_count": 1,
   "id": "fb0a6afc",
   "metadata": {},
   "outputs": [
    {
     "name": "stdout",
     "output_type": "stream",
     "text": [
      "False\n"
     ]
    }
   ],
   "source": [
    "hashtags = ['holiday', 'sport', 'fit', None, 'fashion']\n",
    "for hashtag in hashtags:\n",
    "    if not isinstance(hashtag, str):\n",
    "        result = False\n",
    "        break\n",
    " \n",
    " \n",
    "print(result)"
   ]
  },
  {
   "cell_type": "markdown",
   "id": "e94f2827",
   "metadata": {},
   "source": [
    "# Question 82\n",
    "## Write a program that checks if the given number is a prime number (use the break statement): number = 13  Print one of the following to the console depends on the result: 13 - prime number  13 - not a prime number\n",
    "## Expected result: 13 - prime number"
   ]
  },
  {
   "cell_type": "code",
   "execution_count": 2,
   "id": "eea01659",
   "metadata": {},
   "outputs": [
    {
     "name": "stdout",
     "output_type": "stream",
     "text": [
      "13 - prime number\n"
     ]
    }
   ],
   "source": [
    "number = 13\n",
    "if number > 1:\n",
    "    for i in range(2, number):\n",
    "        if number % i == 0:\n",
    "            print(f'{number} - not a prime number')\n",
    "            break\n",
    "    else:\n",
    "        print(f'{number} - prime number')\n",
    "else:\n",
    "    print(f'{number} - not a prime number')"
   ]
  },
  {
   "cell_type": "markdown",
   "id": "02f783dd",
   "metadata": {},
   "source": [
    "# Question 83\n",
    "## The list of companies from the WIG.GAMES index is given with the closing price and currency: gaming =     '11B': [362.5, 'PLN'],    'CDR': [74.25, 'USD'],    'CIG': [0.85, 'PLN'],    'PLW': [79.5, 'USD'],    'TEN': [300.0, 'PLN']} Using the continue statement, create a for loop that will change the closing price from USD to PLN in this dictionary. Take USDPLN = 4.0. In response, print the gaming dictionary to the console.\n",
    "## Expected result: {'11B': [362.5, 'PLN'], 'CDR': [297.0, 'PLN'], 'CIG': [0.85, 'PLN'], 'PLW': [318.0, 'PLN'], 'TEN': [300.0, 'PLN']}\n"
   ]
  },
  {
   "cell_type": "code",
   "execution_count": 3,
   "id": "49a88f41",
   "metadata": {},
   "outputs": [
    {
     "name": "stdout",
     "output_type": "stream",
     "text": [
      "{'11B': [362.5, 'PLN'], 'CDR': [297.0, 'PLN'], 'CIG': [0.85, 'PLN'], 'PLW': [318.0, 'PLN'], 'TEN': [300.0, 'PLN']}\n"
     ]
    }
   ],
   "source": [
    "gaming = {\n",
    "    '11B': [362.5, 'PLN'],\n",
    "    'CDR': [74.25, 'USD'],\n",
    "    'CIG': [0.85, 'PLN'],\n",
    "    'PLW': [79.5, 'USD'],\n",
    "    'TEN': [300.0, 'PLN']\n",
    "}\n",
    "for ticker, info in gaming.items():\n",
    "    if info[1] == 'PLN':\n",
    "        continue\n",
    "    info[0] = info[0] * 4.0\n",
    "    info[1] = 'PLN'\n",
    " \n",
    " \n",
    "print(gaming)"
   ]
  },
  {
   "cell_type": "code",
   "execution_count": null,
   "id": "5c81453d",
   "metadata": {},
   "outputs": [],
   "source": []
  }
 ],
 "metadata": {
  "kernelspec": {
   "display_name": "Python 3 (ipykernel)",
   "language": "python",
   "name": "python3"
  },
  "language_info": {
   "codemirror_mode": {
    "name": "ipython",
    "version": 3
   },
   "file_extension": ".py",
   "mimetype": "text/x-python",
   "name": "python",
   "nbconvert_exporter": "python",
   "pygments_lexer": "ipython3",
   "version": "3.9.13"
  }
 },
 "nbformat": 4,
 "nbformat_minor": 5
}
