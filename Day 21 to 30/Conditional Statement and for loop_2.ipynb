{
 "cells": [
  {
   "cell_type": "markdown",
   "id": "26929fd9",
   "metadata": {},
   "source": [
    "# # Question 69\n",
    "## Write a program that finds all two-digit numbers divisible by 11 and indivisible by 3 (use a for loop). Print the result to the console as comma-separated values as shown below.\n",
    "## Expected result:11,22,44,55,77,88"
   ]
  },
  {
   "cell_type": "code",
   "execution_count": 1,
   "id": "979b39df",
   "metadata": {},
   "outputs": [
    {
     "name": "stdout",
     "output_type": "stream",
     "text": [
      "11,22,44,55,77,88\n"
     ]
    }
   ],
   "source": [
    "result = []\n",
    " \n",
    "for i in range(10, 100):\n",
    "    if i % 11 == 0 and i % 3 != 0:\n",
    "        result.append(str(i))\n",
    " \n",
    " \n",
    "print(','.join(result))"
   ]
  },
  {
   "cell_type": "markdown",
   "id": "751ee1c6",
   "metadata": {},
   "source": [
    "# # Question 70\n",
    "## The following list of numbers is given: items = [1, 3, 4, 5, 6, 9, 10, 17, 23, 24] Write a program that removes odd numbers and returns the remaining ones. Print the result to the console.\n",
    "## Expected results: [4, 6, 10, 24]"
   ]
  },
  {
   "cell_type": "code",
   "execution_count": 2,
   "id": "2c165117",
   "metadata": {},
   "outputs": [
    {
     "name": "stdout",
     "output_type": "stream",
     "text": [
      "[4, 6, 10, 24]\n"
     ]
    }
   ],
   "source": [
    "items = [1, 3, 4, 5, 6, 9, 10, 17, 23, 24]\n",
    "result = []\n",
    " \n",
    "for item in items:\n",
    "    if not item % 2 != 0:\n",
    "        result.append(item)\n",
    " \n",
    " \n",
    "print(result)"
   ]
  },
  {
   "cell_type": "markdown",
   "id": "bbc3d6ca",
   "metadata": {},
   "source": [
    "# Question 71\n",
    "## The following list is given: items = [1, 5, 3, 2, 2, 4, 2, 4] Write a program that removes duplicates from the list (the order must be kept) and print the list to the console.\n",
    "## Expected result: [1, 5, 3, 2, 4]"
   ]
  },
  {
   "cell_type": "code",
   "execution_count": 3,
   "id": "30b7aa55",
   "metadata": {},
   "outputs": [
    {
     "name": "stdout",
     "output_type": "stream",
     "text": [
      "[1, 5, 3, 2, 4]\n"
     ]
    }
   ],
   "source": [
    "items = [1, 5, 3, 2, 2, 4, 2, 4]\n",
    "result=[]\n",
    "for item in items:\n",
    "    if not item in result:\n",
    "        result.append(item)\n",
    " \n",
    " \n",
    "print(result)\n",
    "    "
   ]
  },
  {
   "cell_type": "code",
   "execution_count": null,
   "id": "c57602ac",
   "metadata": {},
   "outputs": [],
   "source": []
  }
 ],
 "metadata": {
  "kernelspec": {
   "display_name": "Python 3 (ipykernel)",
   "language": "python",
   "name": "python3"
  },
  "language_info": {
   "codemirror_mode": {
    "name": "ipython",
    "version": 3
   },
   "file_extension": ".py",
   "mimetype": "text/x-python",
   "name": "python",
   "nbconvert_exporter": "python",
   "pygments_lexer": "ipython3",
   "version": "3.9.13"
  }
 },
 "nbformat": 4,
 "nbformat_minor": 5
}
