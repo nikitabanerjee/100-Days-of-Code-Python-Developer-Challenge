{
 "cells": [
  {
   "cell_type": "markdown",
   "id": "504ee2fe",
   "metadata": {},
   "source": [
    "# Question 75\n",
    "## Write a program that creates a histogram as a dictionary of the following values: items = ['x', 'y', 'z', 'y', 'x', 'y', 'y', 'z', 'x'] In response print histogram to the console.\n",
    "## Expected result: {'x': 3, 'y': 4, 'z': 2}\n"
   ]
  },
  {
   "cell_type": "code",
   "execution_count": 1,
   "id": "6d8fc0b6",
   "metadata": {},
   "outputs": [
    {
     "name": "stdout",
     "output_type": "stream",
     "text": [
      "{'x': 3, 'y': 4, 'z': 2}\n"
     ]
    }
   ],
   "source": [
    "items = ['x', 'y', 'z', 'y', 'x', 'y', 'y', 'z', 'x']\n",
    "freq = {}\n",
    " \n",
    "for item in items:\n",
    "    if item not in freq.keys():\n",
    "        freq[item] = 1\n",
    "    else:\n",
    "        freq[item] += 1\n",
    " \n",
    " \n",
    "print(freq)"
   ]
  },
  {
   "cell_type": "markdown",
   "id": "e80dcf23",
   "metadata": {},
   "source": [
    "# Question 76\n",
    "## The following text is given: text = \"\"\"Python is powerful... and fast plays well with others runs everywhere is friendly & easy to learn is Open These are some of the reasons people who use Python would rather not use anything else\"\"\"    Create a list of words from the given text. Then standardize this text (change uppercase letters to lowercase, remove punctuation marks). Extract words longer than six characters and print the result to the console.\n",
    "## Expected result: ['powerful', 'everywhere', 'friendly', 'reasons', 'anything']"
   ]
  },
  {
   "cell_type": "code",
   "execution_count": 2,
   "id": "cb95daaf",
   "metadata": {},
   "outputs": [
    {
     "name": "stdout",
     "output_type": "stream",
     "text": [
      "['powerful', 'everywhere', 'friendly', 'reasons', 'anything']\n"
     ]
    }
   ],
   "source": [
    "text = \"\"\"Python is powerful... and fast\n",
    "plays well with others\n",
    "runs everywhere\n",
    "is friendly & easy to learn\n",
    "is Open\n",
    "These are some of the reasons people who use Python would rather not use anything else\"\"\"\n",
    "words = text.split()\n",
    "words = [word.lower() for word in words]\n",
    "words = [word.replace('.', '').replace(',', '') for word in words]\n",
    "words = [word for word in words if len(word) > 6]\n",
    " \n",
    " \n",
    "print(words)"
   ]
  },
  {
   "cell_type": "markdown",
   "id": "c25bcd42",
   "metadata": {},
   "source": [
    "# Question 77\n",
    "## The list of stock indexes is given: indexes = [    'BOVESPA',    'DOW JONES COMP',    'DOW JONES INDU',   'DOW JONES TRANS',    'DOW JONES UTIL',    'IPC',    'IPSA',    'MERVAL',    'NASDAQ COMP',    'NASDAQ100',    'S&P500',    'S&P/TSX COMP',]   Iterate through the indexes list and print to the console only those indexes containing 'DOW' or 'S&P'.\n",
    "## Expected result:\n",
    "### DOW JONES COMP\n",
    "### DOW JONES INDU\n",
    "### DOW JONES TRANS\n",
    "### DOW JONES UTIL\n",
    "### S&P500\n",
    "### S&P/TSX COMP "
   ]
  },
  {
   "cell_type": "code",
   "execution_count": 3,
   "id": "a8aab7b3",
   "metadata": {},
   "outputs": [
    {
     "name": "stdout",
     "output_type": "stream",
     "text": [
      "DOW JONES COMP\n",
      "DOW JONES INDU\n",
      "DOW JONES TRANS\n",
      "DOW JONES UTIL\n",
      "S&P500\n",
      "S&P/TSX COMP\n"
     ]
    }
   ],
   "source": [
    "indexes = [\n",
    "    'BOVESPA',\n",
    "    'DOW JONES COMP',\n",
    "    'DOW JONES INDU',\n",
    "    'DOW JONES TRANS',\n",
    "    'DOW JONES UTIL',\n",
    "    'IPC',\n",
    "    'IPSA',\n",
    "    'MERVAL',\n",
    "    'NASDAQ COMP',\n",
    "    'NASDAQ100',\n",
    "    'S&P500',\n",
    "    'S&P/TSX COMP',\n",
    "]\n",
    "for index in indexes:\n",
    "    if 'DOW' in index or 'S&P' in index:\n",
    "        print(index)"
   ]
  },
  {
   "cell_type": "code",
   "execution_count": null,
   "id": "56f490db",
   "metadata": {},
   "outputs": [],
   "source": []
  }
 ],
 "metadata": {
  "kernelspec": {
   "display_name": "Python 3 (ipykernel)",
   "language": "python",
   "name": "python3"
  },
  "language_info": {
   "codemirror_mode": {
    "name": "ipython",
    "version": 3
   },
   "file_extension": ".py",
   "mimetype": "text/x-python",
   "name": "python",
   "nbconvert_exporter": "python",
   "pygments_lexer": "ipython3",
   "version": "3.9.13"
  }
 },
 "nbformat": 4,
 "nbformat_minor": 5
}
