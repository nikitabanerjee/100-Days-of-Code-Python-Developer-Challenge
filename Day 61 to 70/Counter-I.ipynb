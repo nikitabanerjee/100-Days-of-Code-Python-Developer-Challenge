{
 "cells": [
  {
   "cell_type": "markdown",
   "id": "62c8e29f",
   "metadata": {},
   "source": [
    "# Question 207\n",
    "## The following target list is given: target = ['yes', 'no', 'no', None, 'yes', 'yes', 'no', 'yes'] Using the built-in collections module create a Counter class object from the given list. Print the result to the console.\n",
    "## Expected result:\n",
    "### Counter({'yes': 4, 'no': 3, None: 1})\n",
    "\n",
    "\n"
   ]
  },
  {
   "cell_type": "code",
   "execution_count": 1,
   "id": "6950e107",
   "metadata": {},
   "outputs": [
    {
     "name": "stdout",
     "output_type": "stream",
     "text": [
      "Counter({'yes': 4, 'no': 3, None: 1})\n"
     ]
    }
   ],
   "source": [
    "from collections import Counter\n",
    " \n",
    " \n",
    "target = ['yes', 'no', 'no', None, 'yes', 'yes', 'no', 'yes']\n",
    "cnt = Counter(target)\n",
    " \n",
    " \n",
    "print(cnt)"
   ]
  },
  {
   "cell_type": "markdown",
   "id": "2d062b21",
   "metadata": {},
   "source": [
    "# Question 208\n",
    "## The results of voting in two groups are given in the form of dictionaries: poll_1 = {'yes': 140, 'no': 120, None: 12} poll_2 = {'yes': 113, 'no': 132, None: 9} The dictionary keys mean respectively: 'yes' - vote for yes 'no' - vote for no 'None' - invalid vote Using the built-in collections module create two objects of the Counter class from the given dictionaries. Then combine these objects into one and print to the console.\n",
    "\n",
    "## Expected result:\n",
    "### Counter({'yes': 253, 'no': 252, None: 21})"
   ]
  },
  {
   "cell_type": "code",
   "execution_count": 2,
   "id": "dedfc8a5",
   "metadata": {},
   "outputs": [
    {
     "name": "stdout",
     "output_type": "stream",
     "text": [
      "Counter({'yes': 253, 'no': 252, None: 21})\n"
     ]
    }
   ],
   "source": [
    "from collections import Counter\n",
    " \n",
    " \n",
    "poll_1 = {'yes': 140, 'no': 120, None: 12}\n",
    "poll_2 = {'yes': 113, 'no': 132, None: 9}\n",
    " \n",
    "cnt_1 = Counter(poll_1)\n",
    "cnt_2 = Counter(poll_2)\n",
    "cnt_total = cnt_1 + cnt_2\n",
    " \n",
    " \n",
    "print(cnt_total)"
   ]
  },
  {
   "cell_type": "markdown",
   "id": "d0ffd295",
   "metadata": {},
   "source": [
    "# Question 209\n",
    "## The results of voting in three groups are given in the form of dictionaries: poll_1 = {'yes': 140, 'no': 120, None: 12} poll_2 = {'yes': 113, 'no': 132, None: 9} poll_3 = {'yes': 16, 'no': 14} The dictionary keys mean respectively: 'yes' - vote for yes 'no' - vote for no 'None' - invalid vote Using the built-in collections module and the Counter class find the total number of 'yes' votes and print to the console.\n",
    "\n",
    "## Expected result:\n",
    "\n",
    "\n",
    "\n",
    "### 269"
   ]
  },
  {
   "cell_type": "code",
   "execution_count": 3,
   "id": "d3bcd986",
   "metadata": {},
   "outputs": [
    {
     "name": "stdout",
     "output_type": "stream",
     "text": [
      "269\n"
     ]
    }
   ],
   "source": [
    "from collections import Counter\n",
    " \n",
    " \n",
    "poll_1 = {'yes': 140, 'no': 120, None: 12}\n",
    "poll_2 = {'yes': 113, 'no': 132, None: 9}\n",
    "poll_3 = {'yes': 16, 'no': 14}\n",
    " \n",
    "cnt_1 = Counter(poll_1)\n",
    "cnt_2 = Counter(poll_2)\n",
    "cnt_3 = Counter(poll_3)\n",
    "cnt_total = cnt_1 + cnt_2 + cnt_3\n",
    " \n",
    " \n",
    "print(cnt_total['yes'])"
   ]
  },
  {
   "cell_type": "code",
   "execution_count": null,
   "id": "ffac5d77",
   "metadata": {},
   "outputs": [],
   "source": []
  }
 ],
 "metadata": {
  "kernelspec": {
   "display_name": "Python 3 (ipykernel)",
   "language": "python",
   "name": "python3"
  },
  "language_info": {
   "codemirror_mode": {
    "name": "ipython",
    "version": 3
   },
   "file_extension": ".py",
   "mimetype": "text/x-python",
   "name": "python",
   "nbconvert_exporter": "python",
   "pygments_lexer": "ipython3",
   "version": "3.9.13"
  }
 },
 "nbformat": 4,
 "nbformat_minor": 5
}
