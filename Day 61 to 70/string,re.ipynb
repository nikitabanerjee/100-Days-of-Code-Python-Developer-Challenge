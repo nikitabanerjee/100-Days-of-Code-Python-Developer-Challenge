{
 "cells": [
  {
   "cell_type": "markdown",
   "id": "62c8e29f",
   "metadata": {},
   "source": [
    "# Question 198\n",
    "## Using the Template class from the string built-in module create an email template. Sample e-mail below:\n",
    "### Hello John,\n",
    "### Thank you for visiting our website.\n",
    "### Team, XYZ\n",
    "## The template should allow you to change the name in the first line of the message.Then for the following list:\n",
    "## names = ['John', 'Paul', 'Lisa', 'Michael'] print the content of personalized emails to the console. Separate each e-mail with a line consisting of 35 characters '-' as shown below.\n",
    "## Tip:\n",
    "### >>> help(string.Template)\n",
    "### Help on class Template in module string:\n",
    "### class Template(builtins.object)\n",
    "###  |  Template(template)\n",
    "### |  \n",
    "### |  A string class for supporting dollar -substitutions.\n",
    "## Expected result:\n",
    "### Hello John,\n",
    "### Thank you for visiting our website.\n",
    "#### Team, XYZ\n",
    "#### -----------------------------------\n",
    "#### Hello Paul,\n",
    "#### Thank you for visiting our website.\n",
    "#### Team, XYZ\n",
    "#### -----------------------------------\n",
    "#### Hello Lisa,\n",
    "#### Thank you for visiting our website.\n",
    "#### Team, XYZ\n",
    "#### -----------------------------------\n",
    "#### Hello Michael,\n",
    "#### Thank you for visiting our website.\n",
    "#### Team, XYZ\n",
    "#### -----------------------------------\n",
    "\n"
   ]
  },
  {
   "cell_type": "code",
   "execution_count": 1,
   "id": "6950e107",
   "metadata": {},
   "outputs": [
    {
     "name": "stdout",
     "output_type": "stream",
     "text": [
      "Hello John,\n",
      " \n",
      "Thank you for visiting our website.\n",
      "Team, XYZ\n",
      "-----------------------------------\n",
      "Hello Paul,\n",
      " \n",
      "Thank you for visiting our website.\n",
      "Team, XYZ\n",
      "-----------------------------------\n",
      "Hello Lisa,\n",
      " \n",
      "Thank you for visiting our website.\n",
      "Team, XYZ\n",
      "-----------------------------------\n",
      "Hello Michael,\n",
      " \n",
      "Thank you for visiting our website.\n",
      "Team, XYZ\n",
      "-----------------------------------\n"
     ]
    }
   ],
   "source": [
    "from string import Template\n",
    " \n",
    " \n",
    "names = ['John', 'Paul', 'Lisa', 'Michael']\n",
    " \n",
    "email = \"\"\"Hello $name,\n",
    " \n",
    "Thank you for visiting our website.\n",
    "Team, XYZ\"\"\"\n",
    " \n",
    "template = Template(email)\n",
    "for name in names:\n",
    "    print(template.substitute(name=name))\n",
    "    print('-' * 35)"
   ]
  },
  {
   "cell_type": "markdown",
   "id": "2d062b21",
   "metadata": {},
   "source": [
    "# Question 199\n",
    "## Using the built-in re module that allows you to work with regular expressions in Python extract all the numbers as a list from the following text: text = 'Python 3.8' and print to the console.\n",
    "## Tip:\n",
    "### >>> help(re.findall)\n",
    "### Help on function findall in module re:\n",
    "### findall(pattern, string, flags=0)\n",
    "###    Return a list of all non-overlapping matches in the string.\n",
    "###    If one or more capturing groups are present in the pattern, return\n",
    "###    a list of groups; this will be a list of tuples if the pattern has more than one group.\n",
    "###    Empty matches are included in the result.\n",
    "## Expected result:\n",
    "### ['3', '8']"
   ]
  },
  {
   "cell_type": "code",
   "execution_count": 2,
   "id": "dedfc8a5",
   "metadata": {},
   "outputs": [
    {
     "name": "stdout",
     "output_type": "stream",
     "text": [
      "['3', '8']\n"
     ]
    }
   ],
   "source": [
    "import re\n",
    " \n",
    " \n",
    "text = 'Python 3.8'\n",
    " \n",
    " \n",
    "print(re.findall(pattern=r'\\d', string=text))"
   ]
  },
  {
   "cell_type": "markdown",
   "id": "d0ffd295",
   "metadata": {},
   "source": [
    "# Question 200\n",
    "## Using the built-in re module extract all non-numeric characters as a list from the following text: text = 'Python 3.8' and print to the console.\n",
    "## Tip:\n",
    "### >>> help(re.findall)\n",
    "###  Help on function findall in module re:\n",
    "###  findall(pattern, string, flags=0)\n",
    "###   Return a list of all non-overlapping matches in the string.\n",
    "###       If one or more capturing groups are present in the pattern, return\n",
    "###     a list of groups; this will be a list of tuples if the pattern\n",
    "###     has more than one group.\n",
    "    \n",
    " ###    Empty matches are included in the result.\n",
    "\n",
    "\n",
    "## Expected result:\n",
    "\n",
    "\n",
    "\n",
    "### ['P', 'y', 't', 'h', 'o', 'n', ' ', '.']"
   ]
  },
  {
   "cell_type": "code",
   "execution_count": 3,
   "id": "d3bcd986",
   "metadata": {},
   "outputs": [
    {
     "name": "stdout",
     "output_type": "stream",
     "text": [
      "['P', 'y', 't', 'h', 'o', 'n', ' ', '.']\n"
     ]
    }
   ],
   "source": [
    "import re\n",
    " \n",
    " \n",
    "text = 'Python 3.8'\n",
    " \n",
    " \n",
    "print(re.findall(pattern=r'\\D', string=text))"
   ]
  },
  {
   "cell_type": "code",
   "execution_count": null,
   "id": "ffac5d77",
   "metadata": {},
   "outputs": [],
   "source": []
  }
 ],
 "metadata": {
  "kernelspec": {
   "display_name": "Python 3 (ipykernel)",
   "language": "python",
   "name": "python3"
  },
  "language_info": {
   "codemirror_mode": {
    "name": "ipython",
    "version": 3
   },
   "file_extension": ".py",
   "mimetype": "text/x-python",
   "name": "python",
   "nbconvert_exporter": "python",
   "pygments_lexer": "ipython3",
   "version": "3.9.13"
  }
 },
 "nbformat": 4,
 "nbformat_minor": 5
}
