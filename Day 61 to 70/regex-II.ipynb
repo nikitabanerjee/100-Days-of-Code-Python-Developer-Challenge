{
 "cells": [
  {
   "cell_type": "markdown",
   "id": "62c8e29f",
   "metadata": {},
   "source": [
    "# Question 204\n",
    "## The following text is given: text = \"\"\"Python plays a key role in our production pipeline. Without it a project the size of Star Wars: Episode II would have been very difficult to pull off.\"\"\" Using the built-in re module find all words that start with a capital letter. Print the result to the console.\n",
    "## Expected result:\n",
    "### ['Python', 'Without', 'Star', 'Wars', 'Episode', 'II']\n",
    "\n"
   ]
  },
  {
   "cell_type": "code",
   "execution_count": 1,
   "id": "6950e107",
   "metadata": {},
   "outputs": [
    {
     "name": "stdout",
     "output_type": "stream",
     "text": [
      "['Python', 'Without', 'Star', 'Wars', 'Episode', 'II']\n"
     ]
    }
   ],
   "source": [
    "import re\n",
    " \n",
    " \n",
    "text = \"\"\"Python plays a key role in our production pipeline.\n",
    "Without it a project the size of Star Wars: Episode II would have been very difficult to pull off.\"\"\"\n",
    " \n",
    " \n",
    "print(re.findall(pattern=r\"[A-Z]\\w+\", string=text))"
   ]
  },
  {
   "cell_type": "markdown",
   "id": "2d062b21",
   "metadata": {},
   "source": [
    "# Question 205\n",
    "## The following message is given: message = 'For more information, please call: 123-456-789' Using the built-in re module extract the phone number from the given message. In response, print the result to the console.\n",
    "\n",
    "\n",
    "## Expected result:\n",
    "### 123-456-789"
   ]
  },
  {
   "cell_type": "code",
   "execution_count": 2,
   "id": "dedfc8a5",
   "metadata": {},
   "outputs": [
    {
     "name": "stdout",
     "output_type": "stream",
     "text": [
      "123-456-789\n"
     ]
    }
   ],
   "source": [
    "import re\n",
    " \n",
    " \n",
    "message = 'For more information, please call: 123-456-789'\n",
    " \n",
    " \n",
    "print(re.findall(r\"\\d{3}-\\d{3}-\\d{3}\", message)[0])"
   ]
  },
  {
   "cell_type": "markdown",
   "id": "d0ffd295",
   "metadata": {},
   "source": [
    "# Question 206\n",
    "## The following text is given:text = (    \"Please send an email to info@template.com or \"    \"call to: 123-456-789.\") Using the built-in module mask the telephone number as follows '***-***-***'. In response, print this text to the console.\n",
    "\n",
    "## Expected result:\n",
    "\n",
    "\n",
    "\n",
    "### Please send an email to info@template.com or call to: ***-***-***."
   ]
  },
  {
   "cell_type": "code",
   "execution_count": 3,
   "id": "d3bcd986",
   "metadata": {},
   "outputs": [
    {
     "name": "stdout",
     "output_type": "stream",
     "text": [
      "Please send an email to info@template.com or call to: ***-***-***.\n"
     ]
    }
   ],
   "source": [
    "import re\n",
    " \n",
    " \n",
    "text = (\n",
    "    \"Please send an email to info@template.com or \"\n",
    "    \"call to: 123-456-789.\"\n",
    ")\n",
    " \n",
    " \n",
    "print(re.sub(r\"\\d{3}-\\d{3}-\\d{3}\", '***-***-***', text))"
   ]
  },
  {
   "cell_type": "code",
   "execution_count": null,
   "id": "ffac5d77",
   "metadata": {},
   "outputs": [],
   "source": []
  }
 ],
 "metadata": {
  "kernelspec": {
   "display_name": "Python 3 (ipykernel)",
   "language": "python",
   "name": "python3"
  },
  "language_info": {
   "codemirror_mode": {
    "name": "ipython",
    "version": 3
   },
   "file_extension": ".py",
   "mimetype": "text/x-python",
   "name": "python",
   "nbconvert_exporter": "python",
   "pygments_lexer": "ipython3",
   "version": "3.9.13"
  }
 },
 "nbformat": 4,
 "nbformat_minor": 5
}
