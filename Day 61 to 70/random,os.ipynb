{
 "cells": [
  {
   "cell_type": "markdown",
   "id": "62c8e29f",
   "metadata": {},
   "source": [
    "# Question 189\n",
    "## Using the built-in os module in your working directory create a directory called documents. Then, in the documents directory, create 12 directories for each month with the names 01_sales, ..., 12_sales, respectively.In response, print directory names sorted alphabetically in the documents directory to the console.\n",
    "## Expected result:\n",
    "### ['01_sales', '02_sales', '03_sales', '04_sales', '05_sales', '06_sales', '07_sales', '08_sales', '09_sales', '10_sales', '11_sales', '12_sales']\n"
   ]
  },
  {
   "cell_type": "code",
   "execution_count": 1,
   "id": "6950e107",
   "metadata": {},
   "outputs": [
    {
     "name": "stdout",
     "output_type": "stream",
     "text": [
      "['01_sales', '02_sales', '03_sales', '04_sales', '05_sales', '06_sales', '07_sales', '08_sales', '09_sales', '10_sales', '11_sales', '12_sales']\n"
     ]
    }
   ],
   "source": [
    "import os\n",
    " \n",
    " \n",
    "os.mkdir('documents')\n",
    "dirnames = [f'{str(i).zfill(2)}_sales' for i in range(1, 13)]\n",
    " \n",
    "for dirname in dirnames:\n",
    "    path = os.path.join('documents', dirname)\n",
    "    os.mkdir(path)\n",
    " \n",
    " \n",
    "print(sorted(os.listdir('documents')))"
   ]
  },
  {
   "cell_type": "markdown",
   "id": "2d062b21",
   "metadata": {},
   "source": [
    "# Question 190\n",
    "## Using the built-in os module create a directory called images. Then create two directories in this directory named images_png and images_jpg. Before creating each directory, check if such directory exists.\n",
    "## In response, execute the following code:\n",
    "## for root, dirs, files in os.walk(base_dir):\n",
    "##    print(root)\n",
    "## Expected result:\n",
    "### images\n",
    "### images/images_jpg\n",
    "### images/images_png\n"
   ]
  },
  {
   "cell_type": "code",
   "execution_count": 2,
   "id": "dedfc8a5",
   "metadata": {},
   "outputs": [
    {
     "name": "stdout",
     "output_type": "stream",
     "text": [
      "images\n",
      "images\\images_jpg\n",
      "images\\images_png\n"
     ]
    }
   ],
   "source": [
    "import os\n",
    " \n",
    " \n",
    "base_dir = 'images'\n",
    "png_dir = os.path.join(base_dir, 'images_png')\n",
    "jpg_dir = os.path.join(base_dir, 'images_jpg')\n",
    " \n",
    "if not os.path.exists(base_dir):\n",
    "    os.mkdir(base_dir)\n",
    " \n",
    "if not os.path.exists(png_dir):\n",
    "    os.mkdir(png_dir)\n",
    " \n",
    "if not os.path.exists(jpg_dir):\n",
    "    os.mkdir(jpg_dir)\n",
    " \n",
    "for root, dirs, files in os.walk(base_dir):\n",
    "    print(root)"
   ]
  },
  {
   "cell_type": "markdown",
   "id": "d0ffd295",
   "metadata": {},
   "source": [
    "# Question 191\n",
    "## The image names were generated in two formats .png and .jpg:\n",
    "## import random\n",
    "## random.seed(30)\n",
    "## images = [\n",
    "##    f\"{str(i).zfill(3)}_image.{random.choice(['png', 'jpg'])}\"\n",
    "##    for i in range(1, 20)\n",
    "## ]\n",
    "## Next, a directory called images was created:\n",
    "## base_dir = 'images'\n",
    "## if not os.path.exists(base_dir):\n",
    "##    os.mkdir(base_dir)\n",
    "## Then two directories were also created in this directory named images_png and images_jpg. Assign file names to appropriate directories:\n",
    "## files with the extension .png to the images_png directory\n",
    "## files with the extension .jpg to the images_jpg directory\n",
    "## and create empty files with the given names.\n",
    "## In response, execute the following code:\n",
    "## for root, dirs, files in os.walk(base_dir):\n",
    "##    print(root)\n",
    "##    for file in sorted(files):\n",
    "##        print(f'\\t{file}')\n",
    "## Expected result:\n",
    "### images\n",
    "### images/images_jpg\n",
    "### \t001_image.jpg\n",
    "### \t004_image.jpg\n",
    "### \t006_image.jpg\n",
    "### \t007_image.jpg\n",
    "### \t010_image.jpg\n",
    "### \t016_image.jpg\n",
    "### \t017_image.jpg\n",
    "### \t019_image.jpg\n",
    "### images/images_png\n",
    "### \t002_image.png\n",
    "### \t003_image.png\n",
    "### \t005_image.png\n",
    "### \t008_image.png\n",
    "### \t009_image.png\n",
    "### \t011_image.png\n",
    "### \t012_image.png\n",
    "### \t013_image.png\n",
    "### \t014_image.png\n",
    "### \t015_image.png\n",
    "### \t018_image.png"
   ]
  },
  {
   "cell_type": "code",
   "execution_count": 3,
   "id": "d3bcd986",
   "metadata": {},
   "outputs": [
    {
     "name": "stdout",
     "output_type": "stream",
     "text": [
      "images\n",
      "images\\images_jpg\n",
      "\t001_image.jpg\n",
      "\t004_image.jpg\n",
      "\t006_image.jpg\n",
      "\t007_image.jpg\n",
      "\t010_image.jpg\n",
      "\t016_image.jpg\n",
      "\t017_image.jpg\n",
      "\t019_image.jpg\n",
      "images\\images_png\n",
      "\t002_image.png\n",
      "\t003_image.png\n",
      "\t005_image.png\n",
      "\t008_image.png\n",
      "\t009_image.png\n",
      "\t011_image.png\n",
      "\t012_image.png\n",
      "\t013_image.png\n",
      "\t014_image.png\n",
      "\t015_image.png\n",
      "\t018_image.png\n"
     ]
    }
   ],
   "source": [
    "import os\n",
    "import random\n",
    " \n",
    " \n",
    "random.seed(30)\n",
    "images = [\n",
    "    f\"{str(i).zfill(3)}_image.{random.choice(['png', 'jpg'])}\"\n",
    "    for i in range(1, 20)\n",
    "]\n",
    " \n",
    "base_dir = 'images'\n",
    " \n",
    "if not os.path.exists(base_dir):\n",
    "    os.mkdir(base_dir)\n",
    " \n",
    "png_dir = os.path.join(base_dir, 'images_png')\n",
    "jpg_dir = os.path.join(base_dir, 'images_jpg')\n",
    " \n",
    "if not os.path.exists(png_dir):\n",
    "    os.mkdir(png_dir)\n",
    " \n",
    "if not os.path.exists(jpg_dir):\n",
    "    os.mkdir(jpg_dir)\n",
    " \n",
    "for image in images:\n",
    "    if image.endswith('.png'):\n",
    "        open(os.path.join(png_dir, image), 'w').close()\n",
    "    elif image.endswith('.jpg'):\n",
    "        open(os.path.join(jpg_dir, image), 'w').close()\n",
    " \n",
    "for root, dirs, files in os.walk(base_dir):\n",
    "    print(root)\n",
    "    for file in sorted(files):\n",
    "        print(f'\\t{file}')\n"
   ]
  },
  {
   "cell_type": "code",
   "execution_count": null,
   "id": "ffac5d77",
   "metadata": {},
   "outputs": [],
   "source": []
  }
 ],
 "metadata": {
  "kernelspec": {
   "display_name": "Python 3 (ipykernel)",
   "language": "python",
   "name": "python3"
  },
  "language_info": {
   "codemirror_mode": {
    "name": "ipython",
    "version": 3
   },
   "file_extension": ".py",
   "mimetype": "text/x-python",
   "name": "python",
   "nbconvert_exporter": "python",
   "pygments_lexer": "ipython3",
   "version": "3.9.13"
  }
 },
 "nbformat": 4,
 "nbformat_minor": 5
}
