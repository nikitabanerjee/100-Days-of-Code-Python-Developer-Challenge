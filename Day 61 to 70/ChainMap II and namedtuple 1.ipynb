{
 "cells": [
  {
   "cell_type": "markdown",
   "id": "a53e9ba4",
   "metadata": {},
   "source": [
    "# Question 217\n",
    "\n",
    "## Using the built-in collections module from the following dictionaries:\n",
    "\n",
    "\n",
    "\n",
    "### techs = {'Apple': 370, 'Samsung': 1100, 'Microsoft': 201}\n",
    "### finance = {'Citigroup': 51, 'Allianz': 180}\n",
    "### gaming = {'Sony': 76, 'Nintendo': 470, 'EA': 135}\n",
    "\n",
    "\n",
    "## a ChainMap object was created and assigned to the stocks variable. Update the value for the key 'Microsoft' in the techs dictionary to 210. Then read the value for this key and print to the console."
   ]
  },
  {
   "cell_type": "code",
   "execution_count": 1,
   "id": "7654be46",
   "metadata": {},
   "outputs": [
    {
     "name": "stdout",
     "output_type": "stream",
     "text": [
      "210\n"
     ]
    }
   ],
   "source": [
    "from collections import ChainMap\n",
    " \n",
    " \n",
    "techs = {'Apple': 370, 'Samsung': 1100, 'Microsoft': 201}\n",
    "finance = {'Citigroup': 51, 'Allianz': 180}\n",
    "gaming = {'Sony': 76, 'Nintendo': 470, 'EA': 135}\n",
    " \n",
    "stocks = ChainMap(techs, finance, gaming)\n",
    "techs['Microsoft'] = 210\n",
    " \n",
    " \n",
    "print(stocks['Microsoft'])"
   ]
  },
  {
   "cell_type": "markdown",
   "id": "5724d0ba",
   "metadata": {},
   "source": [
    "# Question 218\n",
    "\n",
    "## The following problem was encountered while implementing the car application. It's necessary to store information about car settings (with one object in Python). Two parameters are always set:\n",
    "\n",
    "### mode\n",
    "\n",
    "### power_level\n",
    "\n",
    "## By default, these parameters store the values: 'eco' and 7. However, their values ​​may change depending on the user's settings.\n",
    "\n",
    "### Let's assume that the user can pass the following settings:\n",
    "\n",
    "### {'mode': 'sport', 'power_level': 10}\n",
    "\n",
    "### Consider how you can use the ChainMap class in this case.\n",
    "\n"
   ]
  },
  {
   "cell_type": "code",
   "execution_count": 2,
   "id": "53987bb5",
   "metadata": {},
   "outputs": [
    {
     "name": "stdout",
     "output_type": "stream",
     "text": [
      "sport\n"
     ]
    }
   ],
   "source": [
    "from collections import ChainMap\n",
    "\n",
    "default_settings = {'mode': 'eco', 'power_level': 7}\n",
    "user_settings = {'mode': 'sport', 'power_level': 10}\n",
    "settings = ChainMap(user_settings, default_settings)\n",
    " \n",
    " \n",
    "print(settings['mode'])"
   ]
  },
  {
   "cell_type": "markdown",
   "id": "25f72999",
   "metadata": {},
   "source": [
    "# Question 219\n",
    "\n",
    "## Using the built-in collections module and the namedtuple() function create a class named Point to store points in a two-dimensional space (R^2). Name the fields 'x' and 'y' respectively.\n",
    "\n",
    "### Then create two points with coordinates:\n",
    "\n",
    "### (3, 4)\n",
    "\n",
    "### (-2, 6)\n",
    "\n",
    "## Print these objects to the console."
   ]
  },
  {
   "cell_type": "code",
   "execution_count": 3,
   "id": "e6d6e28e",
   "metadata": {},
   "outputs": [
    {
     "name": "stdout",
     "output_type": "stream",
     "text": [
      "Point(x=3, y=4)\n",
      "Point(x=-2, y=6)\n"
     ]
    }
   ],
   "source": [
    "from collections import namedtuple\n",
    "\n",
    "Point = namedtuple(typename='Point', field_names=['x', 'y'])\n",
    " \n",
    "pt1 = Point(3, 4)\n",
    "pt2 = Point(-2, 6)\n",
    " \n",
    " \n",
    "print(pt1)\n",
    "print(pt2)"
   ]
  },
  {
   "cell_type": "code",
   "execution_count": null,
   "id": "a98d87f8",
   "metadata": {},
   "outputs": [],
   "source": []
  }
 ],
 "metadata": {
  "kernelspec": {
   "display_name": "Python 3 (ipykernel)",
   "language": "python",
   "name": "python3"
  },
  "language_info": {
   "codemirror_mode": {
    "name": "ipython",
    "version": 3
   },
   "file_extension": ".py",
   "mimetype": "text/x-python",
   "name": "python",
   "nbconvert_exporter": "python",
   "pygments_lexer": "ipython3",
   "version": "3.9.13"
  }
 },
 "nbformat": 4,
 "nbformat_minor": 5
}
