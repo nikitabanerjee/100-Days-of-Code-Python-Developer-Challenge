{
 "cells": [
  {
   "cell_type": "markdown",
   "id": "62c8e29f",
   "metadata": {},
   "source": [
    "# Question 201\n",
    "## Using the built-in module re and the appropriate regular expression, extract from the following code: code = '0010-000-423-22' a list of the following values: ['0010', '000', '423', '22'] In response, print this list to the console.\n",
    "## Expected result:\n",
    "### ['0010', '000', '423', '22']\n"
   ]
  },
  {
   "cell_type": "code",
   "execution_count": 1,
   "id": "6950e107",
   "metadata": {},
   "outputs": [
    {
     "name": "stdout",
     "output_type": "stream",
     "text": [
      "['0010', '000', '423', '22']\n"
     ]
    }
   ],
   "source": [
    "import re\n",
    " \n",
    " \n",
    "code = '0010-000-423-22'\n",
    " \n",
    " \n",
    "print(re.findall(pattern=r\"[^-]+\", string=code))\n"
   ]
  },
  {
   "cell_type": "markdown",
   "id": "2d062b21",
   "metadata": {},
   "source": [
    "# Question 202\n",
    "## The following text is given: text = \"Please send an email to info@template.com or sales-info@template.it\" Using the built-in re module extract all e-mail addresses from the text and print to the console.\n",
    "\n",
    "\n",
    "## Expected result:\n",
    "### ['info@template.com', 'sales-info@template.it']"
   ]
  },
  {
   "cell_type": "code",
   "execution_count": 2,
   "id": "dedfc8a5",
   "metadata": {},
   "outputs": [
    {
     "name": "stdout",
     "output_type": "stream",
     "text": [
      "['info@template.com', 'sales-info@template.it']\n"
     ]
    }
   ],
   "source": [
    "import re\n",
    " \n",
    " \n",
    "text = (\n",
    "    \"Please send an email to info@template.com or \"\n",
    "    \"sales-info@template.it\"\n",
    ")\n",
    " \n",
    " \n",
    "print(re.findall(r\"[\\w\\.-]+@[\\w\\.-]+\", text))"
   ]
  },
  {
   "cell_type": "markdown",
   "id": "d0ffd295",
   "metadata": {},
   "source": [
    "# Question 203\n",
    "## The following text is given:text = \"\"\"Python plays a key role in our production pipeline. Without it a project the size of Star Wars: Episode II would have been very difficult to pull off.\"\"\" Using the built-in re module split the text into words/tokens as shown below. Print the result to the console. Pay attention to punctuation marks.\n",
    "\n",
    "\n",
    "## Expected result:\n",
    "\n",
    "\n",
    "\n",
    "### ['Python', 'plays', 'a', 'key', 'role', 'in', 'our', 'production', 'pipeline', 'Without', 'it', 'a', 'project', 'the', 'size', 'of', 'Star', 'Wars', 'Episode', 'II', 'would', 'have', 'been', 'very', 'difficult', 'to', 'pull', 'off']"
   ]
  },
  {
   "cell_type": "code",
   "execution_count": 3,
   "id": "d3bcd986",
   "metadata": {},
   "outputs": [
    {
     "name": "stdout",
     "output_type": "stream",
     "text": [
      "['Python', 'plays', 'a', 'key', 'role', 'in', 'our', 'production', 'pipeline', 'Without', 'it', 'a', 'project', 'the', 'size', 'of', 'Star', 'Wars', 'Episode', 'II', 'would', 'have', 'been', 'very', 'difficult', 'to', 'pull', 'off']\n"
     ]
    }
   ],
   "source": [
    "import re\n",
    " \n",
    " \n",
    "text = \"\"\"Python plays a key role in our production pipeline.\n",
    "Without it a project the size of Star Wars: Episode II would have been very difficult to pull off.\"\"\"\n",
    " \n",
    " \n",
    "print(re.findall(pattern=r\"\\w+\", string=text))"
   ]
  },
  {
   "cell_type": "code",
   "execution_count": null,
   "id": "ffac5d77",
   "metadata": {},
   "outputs": [],
   "source": []
  }
 ],
 "metadata": {
  "kernelspec": {
   "display_name": "Python 3 (ipykernel)",
   "language": "python",
   "name": "python3"
  },
  "language_info": {
   "codemirror_mode": {
    "name": "ipython",
    "version": 3
   },
   "file_extension": ".py",
   "mimetype": "text/x-python",
   "name": "python",
   "nbconvert_exporter": "python",
   "pygments_lexer": "ipython3",
   "version": "3.9.13"
  }
 },
 "nbformat": 4,
 "nbformat_minor": 5
}
