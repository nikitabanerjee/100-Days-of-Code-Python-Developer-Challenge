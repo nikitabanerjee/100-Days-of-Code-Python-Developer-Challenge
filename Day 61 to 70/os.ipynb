{
 "cells": [
  {
   "cell_type": "markdown",
   "id": "875c611b",
   "metadata": {},
   "source": [
    "# Question 192\n",
    "## The names of files related to sales in a certain company was generated (fnames list):\n",
    "## [\n",
    "##     \"001_sales.csv\",\n",
    "##     \"002_sales.csv\",\n",
    "##     \"003_sales.csv\",\n",
    "##     \"004_sales.csv\",\n",
    "##     \"005_sales.csv\",\n",
    "##     \"006_sales.csv\",\n",
    "##     \"007_sales.csv\",\n",
    "##     \"008_sales.csv\",\n",
    "##     \"009_sales.csv\",\n",
    "##     \"010_sales.csv\",\n",
    "##     \"011_sales.csv\",\n",
    "##     \"012_sales.csv\",\n",
    "##     \"013_sales.csv\",\n",
    "##     \"014_sales.csv\",\n",
    "##     \"015_sales.csv\",\n",
    "##     \"016_sales.csv\",\n",
    "##     \"017_sales.csv\",\n",
    "##     \"018_sales.csv\",\n",
    "##     \"019_sales.csv\",\n",
    "##     \"020_sales.csv\",\n",
    "##     \"021_sales.csv\",\n",
    "##     \"022_sales.csv\",\n",
    "##     \"023_sales.csv\",\n",
    "##     \"024_sales.csv\",\n",
    "## ]\n",
    "## Using the built-in os module combine the path to the current working directory with the name of each file and assign it to the paths list. In response, print paths list to the console.\n",
    "## Expected result:\n",
    "### ['/eval/001_sales.csv', '/eval/002_sales.csv', '/eval/003_sales.csv', '/eval/004_sales.csv', '/eval/005_sales.csv', '/eval/006_sales.csv', '/eval/007_sales.csv', '/eval/008_sales.csv', '/eval/009_sales.csv', '/eval/010_sales.csv', '/eval/011_sales.csv', '/eval/012_sales.csv', '/eval/013_sales.csv', '/eval/014_sales.csv', '/eval/015_sales.csv', '/eval/016_sales.csv', '/eval/017_sales.csv', '/eval/018_sales.csv', '/eval/019_sales.csv', '/eval/020_sales.csv', '/eval/021_sales.csv', '/eval/022_sales.csv', '/eval/023_sales.csv', '/eval/024_sales.csv']\n"
   ]
  },
  {
   "cell_type": "code",
   "execution_count": 1,
   "id": "67a6101e",
   "metadata": {},
   "outputs": [
    {
     "name": "stdout",
     "output_type": "stream",
     "text": [
      "['C:\\\\Users\\\\Admin\\\\Desktop\\\\git\\\\Day 61 to 70\\\\001_sales.csv', 'C:\\\\Users\\\\Admin\\\\Desktop\\\\git\\\\Day 61 to 70\\\\002_sales.csv', 'C:\\\\Users\\\\Admin\\\\Desktop\\\\git\\\\Day 61 to 70\\\\003_sales.csv', 'C:\\\\Users\\\\Admin\\\\Desktop\\\\git\\\\Day 61 to 70\\\\004_sales.csv', 'C:\\\\Users\\\\Admin\\\\Desktop\\\\git\\\\Day 61 to 70\\\\005_sales.csv', 'C:\\\\Users\\\\Admin\\\\Desktop\\\\git\\\\Day 61 to 70\\\\006_sales.csv', 'C:\\\\Users\\\\Admin\\\\Desktop\\\\git\\\\Day 61 to 70\\\\007_sales.csv', 'C:\\\\Users\\\\Admin\\\\Desktop\\\\git\\\\Day 61 to 70\\\\008_sales.csv', 'C:\\\\Users\\\\Admin\\\\Desktop\\\\git\\\\Day 61 to 70\\\\009_sales.csv', 'C:\\\\Users\\\\Admin\\\\Desktop\\\\git\\\\Day 61 to 70\\\\010_sales.csv', 'C:\\\\Users\\\\Admin\\\\Desktop\\\\git\\\\Day 61 to 70\\\\011_sales.csv', 'C:\\\\Users\\\\Admin\\\\Desktop\\\\git\\\\Day 61 to 70\\\\012_sales.csv', 'C:\\\\Users\\\\Admin\\\\Desktop\\\\git\\\\Day 61 to 70\\\\013_sales.csv', 'C:\\\\Users\\\\Admin\\\\Desktop\\\\git\\\\Day 61 to 70\\\\014_sales.csv', 'C:\\\\Users\\\\Admin\\\\Desktop\\\\git\\\\Day 61 to 70\\\\015_sales.csv', 'C:\\\\Users\\\\Admin\\\\Desktop\\\\git\\\\Day 61 to 70\\\\016_sales.csv', 'C:\\\\Users\\\\Admin\\\\Desktop\\\\git\\\\Day 61 to 70\\\\017_sales.csv', 'C:\\\\Users\\\\Admin\\\\Desktop\\\\git\\\\Day 61 to 70\\\\018_sales.csv', 'C:\\\\Users\\\\Admin\\\\Desktop\\\\git\\\\Day 61 to 70\\\\019_sales.csv', 'C:\\\\Users\\\\Admin\\\\Desktop\\\\git\\\\Day 61 to 70\\\\020_sales.csv', 'C:\\\\Users\\\\Admin\\\\Desktop\\\\git\\\\Day 61 to 70\\\\021_sales.csv', 'C:\\\\Users\\\\Admin\\\\Desktop\\\\git\\\\Day 61 to 70\\\\022_sales.csv', 'C:\\\\Users\\\\Admin\\\\Desktop\\\\git\\\\Day 61 to 70\\\\023_sales.csv', 'C:\\\\Users\\\\Admin\\\\Desktop\\\\git\\\\Day 61 to 70\\\\024_sales.csv']\n"
     ]
    }
   ],
   "source": [
    "import os \n",
    " \n",
    " \n",
    "fnames = [f\"{str(i).zfill(3)}_sales.csv\" for i in range(1, 25)]\n",
    "paths = [os.path.join(os.getcwd(), fname) for fname in fnames]\n",
    " \n",
    " \n",
    "print(paths)"
   ]
  },
  {
   "cell_type": "markdown",
   "id": "e8b447e9",
   "metadata": {},
   "source": [
    "# Question 193\n",
    "## The names of files related to sales in a certain company was generated (fnames list) above. The path to the working directory: /eval\n",
    "## Using the built-in os module transform the names of the files (fnames list). Set the first 12 files to directory called 2020, the next 12 files to directory called 2021. Assign absolute paths to the paths variable (list). In response, print each path as shown below.\n",
    "## Expected result:\n",
    "### /eval/2020/01_sales.csv\n",
    "### /eval/2020/02_sales.csv\n",
    "### /eval/2020/03_sales.csv\n",
    "### /eval/2020/04_sales.csv\n",
    "### /eval/2020/05_sales.csv\n",
    "### /eval/2020/06_sales.csv\n",
    "### /eval/2020/07_sales.csv\n",
    "### /eval/2020/08_sales.csv\n",
    "### /eval/2020/09_sales.csv\n",
    "### /eval/2020/10_sales.csv\n",
    "### /eval/2020/11_sales.csv\n",
    "### /eval/2020/12_sales.csv\n",
    "### /eval/2021/13_sales.csv\n",
    "### /eval/2021/14_sales.csv\n",
    "### /eval/2021/15_sales.csv\n",
    "### /eval/2021/16_sales.csv\n",
    "### /eval/2021/17_sales.csv\n",
    "### /eval/2021/18_sales.csv\n",
    "### /eval/2021/19_sales.csv\n",
    "### /eval/2021/20_sales.csv\n",
    "### /eval/2021/21_sales.csv\n",
    "### /eval/2021/22_sales.csv\n",
    "### /eval/2021/23_sales.csv\n",
    "### /eval/2021/24_sales.csv"
   ]
  },
  {
   "cell_type": "code",
   "execution_count": 2,
   "id": "e295d4bf",
   "metadata": {},
   "outputs": [
    {
     "name": "stdout",
     "output_type": "stream",
     "text": [
      "C:\\Users\\Admin\\Desktop\\git\\Day 61 to 70\\2020\\01_sales.csv\n",
      "C:\\Users\\Admin\\Desktop\\git\\Day 61 to 70\\2020\\02_sales.csv\n",
      "C:\\Users\\Admin\\Desktop\\git\\Day 61 to 70\\2020\\03_sales.csv\n",
      "C:\\Users\\Admin\\Desktop\\git\\Day 61 to 70\\2020\\04_sales.csv\n",
      "C:\\Users\\Admin\\Desktop\\git\\Day 61 to 70\\2020\\05_sales.csv\n",
      "C:\\Users\\Admin\\Desktop\\git\\Day 61 to 70\\2020\\06_sales.csv\n",
      "C:\\Users\\Admin\\Desktop\\git\\Day 61 to 70\\2020\\07_sales.csv\n",
      "C:\\Users\\Admin\\Desktop\\git\\Day 61 to 70\\2020\\08_sales.csv\n",
      "C:\\Users\\Admin\\Desktop\\git\\Day 61 to 70\\2020\\09_sales.csv\n",
      "C:\\Users\\Admin\\Desktop\\git\\Day 61 to 70\\2020\\10_sales.csv\n",
      "C:\\Users\\Admin\\Desktop\\git\\Day 61 to 70\\2020\\11_sales.csv\n",
      "C:\\Users\\Admin\\Desktop\\git\\Day 61 to 70\\2020\\12_sales.csv\n",
      "C:\\Users\\Admin\\Desktop\\git\\Day 61 to 70\\2021\\13_sales.csv\n",
      "C:\\Users\\Admin\\Desktop\\git\\Day 61 to 70\\2021\\14_sales.csv\n",
      "C:\\Users\\Admin\\Desktop\\git\\Day 61 to 70\\2021\\15_sales.csv\n",
      "C:\\Users\\Admin\\Desktop\\git\\Day 61 to 70\\2021\\16_sales.csv\n",
      "C:\\Users\\Admin\\Desktop\\git\\Day 61 to 70\\2021\\17_sales.csv\n",
      "C:\\Users\\Admin\\Desktop\\git\\Day 61 to 70\\2021\\18_sales.csv\n",
      "C:\\Users\\Admin\\Desktop\\git\\Day 61 to 70\\2021\\19_sales.csv\n",
      "C:\\Users\\Admin\\Desktop\\git\\Day 61 to 70\\2021\\20_sales.csv\n",
      "C:\\Users\\Admin\\Desktop\\git\\Day 61 to 70\\2021\\21_sales.csv\n",
      "C:\\Users\\Admin\\Desktop\\git\\Day 61 to 70\\2021\\22_sales.csv\n",
      "C:\\Users\\Admin\\Desktop\\git\\Day 61 to 70\\2021\\23_sales.csv\n",
      "C:\\Users\\Admin\\Desktop\\git\\Day 61 to 70\\2021\\24_sales.csv\n"
     ]
    }
   ],
   "source": [
    "import os\n",
    " \n",
    " \n",
    "fnames = [f\"{str(i).zfill(2)}_sales.csv\" for i in range(1, 25)]\n",
    "paths = [\n",
    "    os.path.join(os.getcwd(), '2020', fname)\n",
    "    if idx < 12\n",
    "    else os.path.join(os.getcwd(), '2021', fname)\n",
    "    for idx, fname in enumerate(fnames)\n",
    "]\n",
    " \n",
    "for path in paths:\n",
    "    print(path)"
   ]
  },
  {
   "cell_type": "markdown",
   "id": "014d8c9e",
   "metadata": {},
   "source": [
    "# Question 194\n",
    "## The list of absolute directory paths is given:\n",
    "## [\n",
    "##     \"/eval/dir_01\",\n",
    "##     \"/eval/dir_02\",\n",
    "##     \"/eval/dir_03\",\n",
    "##     \"/eval/dir_04\",\n",
    "##     \"/eval/dir_05\",\n",
    "##     \"/eval/dir_06\",\n",
    "##     \"/eval/dir_07\",\n",
    "##     \"/eval/dir_08\",\n",
    "##     \"/eval/dir_09\",\n",
    "##     \"/eval/dir_10\",\n",
    "##     \"/eval/dir_11\",\n",
    "##     \"/eval/dir_12\",\n",
    "##     \"/eval/dir_13\",\n",
    "## ]\n",
    "## Create the given directories using the built-in os module. Then remove the directory dir_13. In response, print the sorted directory names from the working directory with exactly six characters long.\n",
    "## Expected result:\n",
    "### ['dir_01', 'dir_02', 'dir_03', 'dir_04', 'dir_05', 'dir_06', 'dir_07', 'dir_08', 'dir_09', 'dir_10', 'dir_11', 'dir_12']\n"
   ]
  },
  {
   "cell_type": "code",
   "execution_count": 3,
   "id": "8703e4b5",
   "metadata": {},
   "outputs": [
    {
     "name": "stdout",
     "output_type": "stream",
     "text": [
      "['dir_01', 'dir_02', 'dir_03', 'dir_04', 'dir_05', 'dir_06', 'dir_07', 'dir_08', 'dir_09', 'dir_10', 'dir_11', 'dir_12', 'images']\n"
     ]
    }
   ],
   "source": [
    "import os\n",
    " \n",
    " \n",
    "paths = [\n",
    "    os.path.join(os.getcwd(), f'dir_{str(i).zfill(2)}')\n",
    "    for i in range(1, 14)\n",
    "]\n",
    " \n",
    "for path in paths:\n",
    "    if not os.path.exists(path):\n",
    "        os.mkdir(path)\n",
    " \n",
    "os.rmdir(os.path.join(os.getcwd(), 'dir_13'))\n",
    "fnames = [fname for fname in sorted(os.listdir()) if len(fname) == 6]\n",
    " \n",
    " \n",
    "print(fnames)"
   ]
  },
  {
   "cell_type": "code",
   "execution_count": null,
   "id": "c4a01ee3",
   "metadata": {},
   "outputs": [],
   "source": []
  }
 ],
 "metadata": {
  "kernelspec": {
   "display_name": "Python 3 (ipykernel)",
   "language": "python",
   "name": "python3"
  },
  "language_info": {
   "codemirror_mode": {
    "name": "ipython",
    "version": 3
   },
   "file_extension": ".py",
   "mimetype": "text/x-python",
   "name": "python",
   "nbconvert_exporter": "python",
   "pygments_lexer": "ipython3",
   "version": "3.9.13"
  }
 },
 "nbformat": 4,
 "nbformat_minor": 5
}
