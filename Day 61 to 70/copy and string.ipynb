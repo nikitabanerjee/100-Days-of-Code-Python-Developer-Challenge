{
 "cells": [
  {
   "cell_type": "markdown",
   "id": "b2f9ca9c",
   "metadata": {},
   "source": [
    "# Question 195\n",
    "## Using the built-in copy module, make a shallow copy of the following stocks list: stocks = [['CDR', '11B'], ['PLW'], ['TEN']] and assign to the stocks_copied variable. Replace '11B' in the first element of the stocks list with 'CRJ'.\n",
    "## Expected result:\n",
    "### stocks: [['CDR', 'CRJ'], ['PLW'], ['TEN']]\n",
    "### stocks_copied: [['CDR', 'CRJ'], ['PLW'], ['TEN']]\n"
   ]
  },
  {
   "cell_type": "code",
   "execution_count": 1,
   "id": "3739c784",
   "metadata": {},
   "outputs": [
    {
     "name": "stdout",
     "output_type": "stream",
     "text": [
      "stocks: [['CDR', 'CRJ'], ['PLW'], ['TEN']]\n",
      "stocks_copied: [['CDR', 'CRJ'], ['PLW'], ['TEN']]\n"
     ]
    }
   ],
   "source": [
    "import copy\n",
    " \n",
    " \n",
    "stocks = [['CDR', '11B'], ['PLW'], ['TEN']]\n",
    "stocks_copied = copy.copy(stocks)\n",
    "stocks[0][1] = 'CRJ'\n",
    " \n",
    " \n",
    "print(f'stocks: {stocks}')\n",
    "print(f'stocks_copied: {stocks_copied}')"
   ]
  },
  {
   "cell_type": "markdown",
   "id": "33a417db",
   "metadata": {},
   "source": [
    "# Question 196\n",
    "## Using the built-in copy module, make a deep copy of the following stocks list: stocks = [['CDR', '11B'], ['PLW'], ['TEN']] and assign to the stocks_copied variable. Replace '11B' in the first element of the stocks list with 'CRJ'.\n",
    "## Expected result:\n",
    "### stocks: [['CDR', 'CRJ'], ['PLW'], ['TEN']]\n",
    "### stocks_copied: [['CDR', '11B'], ['PLW'], ['TEN']]"
   ]
  },
  {
   "cell_type": "code",
   "execution_count": 2,
   "id": "869131a7",
   "metadata": {},
   "outputs": [
    {
     "name": "stdout",
     "output_type": "stream",
     "text": [
      "stocks: [['CDR', 'CRJ'], ['PLW'], ['TEN']]\n",
      "stocks_copied: [['CDR', '11B'], ['PLW'], ['TEN']]\n"
     ]
    }
   ],
   "source": [
    "import copy\n",
    " \n",
    " \n",
    "stocks = [['CDR', '11B'], ['PLW'], ['TEN']]\n",
    "stocks_copied = copy.deepcopy(stocks)\n",
    "stocks[0][1] = 'CRJ'\n",
    " \n",
    " \n",
    "print(f'stocks: {stocks}')\n",
    "print(f'stocks_copied: {stocks_copied}')"
   ]
  },
  {
   "cell_type": "markdown",
   "id": "88ad33ee",
   "metadata": {},
   "source": [
    "# Question 197\n",
    "## Using the built-in string module, create a dictionary that allows you to map indices from 0 to 25 to lowercase letters (ascii_lowercase) and assign it to the code_map variable:\n",
    "### {0: 'a',1: 'b',2: 'c',3: 'd',4: 'e',5: 'f',6: 'g',7: 'h',8: 'i',9: 'j',10: 'k',11: 'l',12: 'm',13: 'n',14: 'o',15: 'p',16: 'q',17: 'r',18: 's',19: 't',20: 'u',21: 'v',22: 'w',23: 'x',24: 'y',25: 'z'}\n",
    "## Then replace the values ​​with keys in the code_map dictionary and assign to the code_map_inv variable:\n",
    "### {'a': 0,'b': 1,'c': 2, 'd': 3, 'e': 4, 'f': 5, 'g': 6, 'h': 7, 'i': 8, 'j': 9, 'k': 10, 'l': 11, 'm': 12, 'n': 13, 'o': 14, 'p': 15, 'q': 16, 'r': 17, 's': 18, 't': 19, 'u': 20, 'v': 21, 'w': 22, 'x': 23, 'y': 24, 'z': 25}\n",
    "## A text document is given: docs = 'programming in python'\n",
    "## Using the code_map and code_map_inv dictionaries, encode the docs in such a way that each letter is shifted by three letters alphabetically (leave the spaces in the document unchanged). In response, print the encoded document to the console.\n",
    "## Expected result:\n",
    "### surjudpplqj lq sbwkrq"
   ]
  },
  {
   "cell_type": "code",
   "execution_count": 3,
   "id": "b110b8c3",
   "metadata": {},
   "outputs": [
    {
     "name": "stdout",
     "output_type": "stream",
     "text": [
      "surjudpplqj lq sbwkrq\n"
     ]
    }
   ],
   "source": [
    "import string\n",
    " \n",
    " \n",
    "docs = \"programming in python\"\n",
    "code_map = dict((enumerate(string.ascii_lowercase)))\n",
    "code_map_inv = {val: key for key, val in code_map.items()}\n",
    " \n",
    "result = \"\"\n",
    "for char in docs:\n",
    "    if char == \" \":\n",
    "        result += \" \"\n",
    "        continue\n",
    "    idx = (code_map_inv[char] + 3) % 26\n",
    "    result += code_map[idx]\n",
    " \n",
    " \n",
    "print(result)"
   ]
  },
  {
   "cell_type": "code",
   "execution_count": null,
   "id": "b68dec83",
   "metadata": {},
   "outputs": [],
   "source": []
  }
 ],
 "metadata": {
  "kernelspec": {
   "display_name": "Python 3 (ipykernel)",
   "language": "python",
   "name": "python3"
  },
  "language_info": {
   "codemirror_mode": {
    "name": "ipython",
    "version": 3
   },
   "file_extension": ".py",
   "mimetype": "text/x-python",
   "name": "python",
   "nbconvert_exporter": "python",
   "pygments_lexer": "ipython3",
   "version": "3.9.13"
  }
 },
 "nbformat": 4,
 "nbformat_minor": 5
}
