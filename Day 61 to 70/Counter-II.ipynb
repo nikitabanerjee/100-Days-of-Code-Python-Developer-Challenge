{
 "cells": [
  {
   "cell_type": "markdown",
   "id": "62c8e29f",
   "metadata": {},
   "source": [
    "# Question 210\n",
    "## The text is as follows:text = 'python programming - introduction' Using the built-in collections module and the Counter class find the distribution of characters in the given text (create a Counter object). Print the result to the console.\n",
    "\n",
    "\n",
    "## Expected result:\n",
    "### Counter({'o': 4, 'n': 4, 't': 3, ' ': 3, 'r': 3, 'i': 3, 'p': 2, 'g': 2, 'm': 2, 'y': 1, 'h': 1, 'a': 1, '-': 1, 'd': 1, 'u': 1, 'c': 1})\n",
    "\n"
   ]
  },
  {
   "cell_type": "code",
   "execution_count": 1,
   "id": "6950e107",
   "metadata": {},
   "outputs": [
    {
     "name": "stdout",
     "output_type": "stream",
     "text": [
      "Counter({'o': 4, 'n': 4, 't': 3, ' ': 3, 'r': 3, 'i': 3, 'p': 2, 'g': 2, 'm': 2, 'y': 1, 'h': 1, 'a': 1, '-': 1, 'd': 1, 'u': 1, 'c': 1})\n"
     ]
    }
   ],
   "source": [
    "from collections import Counter\n",
    " \n",
    " \n",
    "text = 'python programming - introduction'\n",
    "cnt = Counter(text)\n",
    " \n",
    " \n",
    "print(cnt)"
   ]
  },
  {
   "cell_type": "markdown",
   "id": "2d062b21",
   "metadata": {},
   "source": [
    "# Question 211\n",
    "## The following text is given: text = 'python programming - introduction' Using the built-in collections module and the Counter class calculate the three most common characters in the given text. Print the result as shown below.\n",
    "\n",
    "\n",
    "\n",
    "## Expected result:\n",
    "### [('o', 4), ('n', 4), ('t', 3)]\n"
   ]
  },
  {
   "cell_type": "code",
   "execution_count": 2,
   "id": "dedfc8a5",
   "metadata": {},
   "outputs": [
    {
     "name": "stdout",
     "output_type": "stream",
     "text": [
      "[('o', 4), ('n', 4), ('t', 3)]\n"
     ]
    }
   ],
   "source": [
    "from collections import Counter\n",
    " \n",
    " \n",
    "text = 'python programming - introduction'\n",
    "cnt = Counter(text)\n",
    " \n",
    " \n",
    "print(cnt.most_common(3))"
   ]
  },
  {
   "cell_type": "markdown",
   "id": "d0ffd295",
   "metadata": {},
   "source": [
    "# Question 212\n",
    "## The following text is given: text = \"\"\"\"Python is fast enough for our site and allows us to produce maintainable features in record times, with a minimum of developers,\" said Cuong Do, Software Architect, YouTube.com. \"Python plays a key role in our production pipeline. Without it a project the size of Star Wars: Episode II would have been very difficult to pull off. From crowd rendering to batch processing to compositing, Python binds all things together,\" said Tommy Burnette, Senior Technical Director, Industrial Light & Magic.\"\"\" Using the built-in re module split the given text into words/tokens. Standardize the words (all lowercase). Then create a Counter object that allows you to determine the three most common words in the text. In response, print these words with the number of occurrences.\n",
    "\n",
    "## Expected result:\n",
    "\n",
    "\n",
    "\n",
    "### [('to', 4), ('python', 3), ('a', 3)]\n"
   ]
  },
  {
   "cell_type": "code",
   "execution_count": 3,
   "id": "d3bcd986",
   "metadata": {},
   "outputs": [
    {
     "name": "stdout",
     "output_type": "stream",
     "text": [
      "[('to', 4), ('python', 3), ('a', 3)]\n"
     ]
    }
   ],
   "source": [
    "from collections import Counter\n",
    "import re\n",
    " \n",
    " \n",
    "text = \"\"\"\"Python is fast enough for our site and allows us to produce maintainable features in record times,\n",
    "with a minimum of developers,\" said Cuong Do, Software Architect, YouTube.com.\n",
    " \n",
    "\"Python plays a key role in our production pipeline. Without it a project the size of Star Wars:\n",
    "Episode II would have been very difficult to pull off. From crowd rendering to batch processing to compositing,\n",
    "Python binds all things together,\" said Tommy Burnette, Senior Technical Director, Industrial Light & Magic.\"\"\"\n",
    " \n",
    "tokens = re.findall(r\"\\w+\", text)\n",
    "tokens = [token.lower() for token in tokens]\n",
    "cnt = Counter(tokens)\n",
    " \n",
    " \n",
    "print(cnt.most_common(3))"
   ]
  },
  {
   "cell_type": "code",
   "execution_count": null,
   "id": "ffac5d77",
   "metadata": {},
   "outputs": [],
   "source": []
  }
 ],
 "metadata": {
  "kernelspec": {
   "display_name": "Python 3 (ipykernel)",
   "language": "python",
   "name": "python3"
  },
  "language_info": {
   "codemirror_mode": {
    "name": "ipython",
    "version": 3
   },
   "file_extension": ".py",
   "mimetype": "text/x-python",
   "name": "python",
   "nbconvert_exporter": "python",
   "pygments_lexer": "ipython3",
   "version": "3.9.13"
  }
 },
 "nbformat": 4,
 "nbformat_minor": 5
}
