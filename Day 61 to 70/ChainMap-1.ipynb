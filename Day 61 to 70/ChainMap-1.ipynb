{
 "cells": [
  {
   "cell_type": "markdown",
   "id": "50b6a903",
   "metadata": {},
   "source": [
    "# Question 213\n",
    "## The following list is given:\n",
    "### fnames = [\n",
    "###    \"001_image.png\",\n",
    "###    \"002_image.png\",\n",
    "###    \"003_image.jpg\",\n",
    "###    \"004_image.png\",\n",
    "###    \"005_image.png\",\n",
    "###    \"006_image.png\",\n",
    "###    \"007_image.jpg\",\n",
    "###    \"008_image.png\",\n",
    "###    \"009_image.jpg\",\n",
    "###    \"010_image.jpg\",\n",
    "###    \"011_image.jpg\",\n",
    "###    \"012_image.png\",\n",
    "###    \"013_image.jpg\",\n",
    "###    \"014_image.jpg\",\n",
    "###    \"015_image.jpg\",\n",
    "###    \"016_image.png\",\n",
    "###    \"017_image.jpg\",\n",
    "###    \"018_image.jpg\",\n",
    "###    \"019_image.png\",\n",
    "###    \"020_image.png\",\n",
    "###    \"021_image.jpg\",\n",
    "###    \"022_image.jpg\",\n",
    "###    \"023_image.png\",\n",
    "###    \"024_image.png\",\n",
    "###    \"025_image.jpg\",\n",
    "###    \"026_image.png\",\n",
    "###    \"027_image.png\",\n",
    "###    \"028_image.jpg\",\n",
    "###    \"029_image.png\",\n",
    "###    \"030_image.png\",\n",
    "### ]\n",
    "\n",
    "\n",
    "## Using the built-in collections module and the Counter class find the distribution of file extensions in the given fnames list. Print the result to the console.\n",
    "\n",
    "\n",
    "\n",
    "## Expected result:\n",
    "\n",
    "\n",
    "\n",
    "## Counter({'png': 16, 'jpg': 14})\n"
   ]
  },
  {
   "cell_type": "code",
   "execution_count": 1,
   "id": "07770dff",
   "metadata": {},
   "outputs": [
    {
     "name": "stdout",
     "output_type": "stream",
     "text": [
      "Counter({'png': 16, 'jpg': 14})\n"
     ]
    }
   ],
   "source": [
    "from collections import Counter\n",
    "\n",
    "\n",
    "fnames = [\n",
    "    \"001_image.png\",\n",
    "    \"002_image.png\",\n",
    "    \"003_image.jpg\",\n",
    "    \"004_image.png\",\n",
    "    \"005_image.png\",\n",
    "    \"006_image.png\",\n",
    "    \"007_image.jpg\",\n",
    "    \"008_image.png\",\n",
    "    \"009_image.jpg\",\n",
    "    \"010_image.jpg\",\n",
    "    \"011_image.jpg\",\n",
    "    \"012_image.png\",\n",
    "    \"013_image.jpg\",\n",
    "    \"014_image.jpg\",\n",
    "    \"015_image.jpg\",\n",
    "    \"016_image.png\",\n",
    "    \"017_image.jpg\",\n",
    "    \"018_image.jpg\",\n",
    "    \"019_image.png\",\n",
    "    \"020_image.png\",\n",
    "    \"021_image.jpg\",\n",
    "    \"022_image.jpg\",\n",
    "    \"023_image.png\",\n",
    "    \"024_image.png\",\n",
    "    \"025_image.jpg\",\n",
    "    \"026_image.png\",\n",
    "    \"027_image.png\",\n",
    "    \"028_image.jpg\",\n",
    "    \"029_image.png\",\n",
    "    \"030_image.png\",\n",
    "]\n",
    "extensions = [fname.split('.')[1] for fname in fnames]\n",
    "cnt = Counter(extensions)\n",
    " \n",
    " \n",
    "print(cnt)"
   ]
  },
  {
   "cell_type": "markdown",
   "id": "4e21e58a",
   "metadata": {},
   "source": [
    "# Question 214\n",
    "\n",
    "## Using the built-in collections module from the following dictionaries:\n",
    "\n",
    "\n",
    "\n",
    "### stocks_1 = {'CDR': 400, 'PLW': 490}\n",
    "### stocks_2 = {'PLW': 500, 'TEN': 550, 'BBT': 30}\n",
    "\n",
    "\n",
    "## create a ChainMap object and assign to the stocks variable. In response, print this variable to the console."
   ]
  },
  {
   "cell_type": "code",
   "execution_count": 2,
   "id": "20017c19",
   "metadata": {},
   "outputs": [
    {
     "name": "stdout",
     "output_type": "stream",
     "text": [
      "ChainMap({'CDR': 400, 'PLW': 490}, {'PLW': 500, 'TEN': 550, 'BBT': 30})\n"
     ]
    }
   ],
   "source": [
    "from collections import ChainMap\n",
    "\n",
    "\n",
    "stocks_1 = {'CDR': 400, 'PLW': 490}\n",
    "stocks_2 = {'PLW': 500, 'TEN': 550, 'BBT': 30}\n",
    "\n",
    "merge_both = ChainMap(stocks_1, stocks_2)\n",
    " \n",
    " \n",
    "print(merge_both)"
   ]
  },
  {
   "cell_type": "markdown",
   "id": "467c403f",
   "metadata": {},
   "source": [
    "# Question 215\n",
    "## Using the built-in collections module from the following dictionaries:\n",
    "\n",
    "\n",
    "\n",
    "### stocks_1 = {'CDR': 400, 'PLW': 490}\n",
    "### stocks_2 = {'PLW': 500, 'TEN': 550, 'BBT': 30}\n",
    "\n",
    "\n",
    "## a ChainMap object has been created and assigned to the stocks variable. Find the value for the key 'PLW' in the ChainMap object and print to the console."
   ]
  },
  {
   "cell_type": "code",
   "execution_count": 3,
   "id": "1a0938d8",
   "metadata": {},
   "outputs": [
    {
     "name": "stdout",
     "output_type": "stream",
     "text": [
      "490\n"
     ]
    }
   ],
   "source": [
    "from collections import ChainMap\n",
    "\n",
    "\n",
    "stocks_1 = {'CDR': 400, 'PLW': 490}\n",
    "stocks_2 = {'PLW': 500, 'TEN': 550, 'BBT': 30}\n",
    "stocks = ChainMap(stocks_1, stocks_2)\n",
    "print(stocks['PLW'])"
   ]
  },
  {
   "cell_type": "markdown",
   "id": "32224ff5",
   "metadata": {},
   "source": [
    "# Question 216\n",
    "\n",
    "## Using the built-in collections module from the following dictionaries:\n",
    "\n",
    "\n",
    "\n",
    "### techs = {'Apple': 370, 'Samsung': 1100, 'Microsoft': 201}\n",
    "### finance = {'Citigroup': 51, 'Allianz': 180}\n",
    "### gaming = {'Sony': 76, 'Nintendo': 470, 'EA': 135}\n",
    "\n",
    "\n",
    "## create a ChainMap object and assign to stocks variable. Find the value for the 'Samsung' key in the ChainMap object and print to the console."
   ]
  },
  {
   "cell_type": "code",
   "execution_count": 4,
   "id": "0c780906",
   "metadata": {},
   "outputs": [
    {
     "name": "stdout",
     "output_type": "stream",
     "text": [
      "1100\n"
     ]
    }
   ],
   "source": [
    "from collections import ChainMap\n",
    "\n",
    "techs = {'Apple': 370, 'Samsung': 1100, 'Microsoft': 201}\n",
    "finance = {'Citigroup': 51, 'Allianz': 180}\n",
    "gaming = {'Sony': 76, 'Nintendo': 470, 'EA': 135}\n",
    "\n",
    "stocks= ChainMap(techs,finance,gaming)\n",
    "print(stocks['Samsung'])"
   ]
  },
  {
   "cell_type": "code",
   "execution_count": null,
   "id": "c6c309b7",
   "metadata": {},
   "outputs": [],
   "source": []
  }
 ],
 "metadata": {
  "kernelspec": {
   "display_name": "Python 3 (ipykernel)",
   "language": "python",
   "name": "python3"
  },
  "language_info": {
   "codemirror_mode": {
    "name": "ipython",
    "version": 3
   },
   "file_extension": ".py",
   "mimetype": "text/x-python",
   "name": "python",
   "nbconvert_exporter": "python",
   "pygments_lexer": "ipython3",
   "version": "3.9.13"
  }
 },
 "nbformat": 4,
 "nbformat_minor": 5
}
