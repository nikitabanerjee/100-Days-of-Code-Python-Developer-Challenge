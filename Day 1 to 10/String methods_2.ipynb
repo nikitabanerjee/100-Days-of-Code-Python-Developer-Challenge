{
 "cells": [
  {
   "cell_type": "markdown",
   "id": "b8d004af",
   "metadata": {},
   "source": [
    "# Question 23\n",
    "## The following codes are given: code1 = 'FVNISJND-20' code2 = 'FVNISJND20'   Using the appropriate method, check whether the codes consist only of alphanumeric characters (numbers + letters). Print the result to the console as shown below.\n",
    "## Expected result: code1: False  code2: True"
   ]
  },
  {
   "cell_type": "code",
   "execution_count": 1,
   "id": "46ad657d",
   "metadata": {},
   "outputs": [
    {
     "name": "stdout",
     "output_type": "stream",
     "text": [
      "code1: False\n",
      "code2: True\n"
     ]
    }
   ],
   "source": [
    "code1 = 'FVNISJND-20'\n",
    "code2 = 'FVNISJND20'\n",
    "print(f\"code1: {code1.isalnum()}\")\n",
    "print(f\"code2: {code2.isalnum()}\")"
   ]
  },
  {
   "cell_type": "markdown",
   "id": "7932d45a",
   "metadata": {},
   "source": [
    "# Question 24\n",
    "## The following text is given: text = '100 Days of Code' Using the appropriate method convert all letters to lowercase. Print the result to the console.\n",
    "## Expected result: 100 days of code"
   ]
  },
  {
   "cell_type": "code",
   "execution_count": 2,
   "id": "09ea2499",
   "metadata": {},
   "outputs": [
    {
     "name": "stdout",
     "output_type": "stream",
     "text": [
      "100 days of code\n"
     ]
    }
   ],
   "source": [
    "text = '100 Days of Code'\n",
    "print(text.lower())"
   ]
  },
  {
   "cell_type": "markdown",
   "id": "d3f727ea",
   "metadata": {},
   "source": [
    "# Question 25\n",
    "## The following text is given:    text = '      100 Days of Code   '   Using the appropriate method remove whitespace characters around the text. Print the result to the console.\n",
    "## Expected result: 100 Days of Code\n"
   ]
  },
  {
   "cell_type": "code",
   "execution_count": 3,
   "id": "f2476ee8",
   "metadata": {},
   "outputs": [
    {
     "name": "stdout",
     "output_type": "stream",
     "text": [
      "100 Days of Code\n"
     ]
    }
   ],
   "source": [
    "text = '      100 Days of Code   '\n",
    "print(text.strip())"
   ]
  },
  {
   "cell_type": "markdown",
   "id": "c146d6d3",
   "metadata": {},
   "source": [
    "# Question 26\n",
    "## The following code is given: code = 'FVNISJND-XX'Using the appropriate method replace the dash with a space. Print the result to the console.\n",
    "## Expected result: FVNISJND XX"
   ]
  },
  {
   "cell_type": "code",
   "execution_count": 4,
   "id": "272145bd",
   "metadata": {},
   "outputs": [
    {
     "name": "stdout",
     "output_type": "stream",
     "text": [
      "FVNISJND XX\n"
     ]
    }
   ],
   "source": [
    "code = 'FVNISJND-XX'\n",
    "print(code.replace('-', ' '))"
   ]
  },
  {
   "cell_type": "code",
   "execution_count": null,
   "id": "415992d3",
   "metadata": {},
   "outputs": [],
   "source": []
  }
 ],
 "metadata": {
  "kernelspec": {
   "display_name": "Python 3 (ipykernel)",
   "language": "python",
   "name": "python3"
  },
  "language_info": {
   "codemirror_mode": {
    "name": "ipython",
    "version": 3
   },
   "file_extension": ".py",
   "mimetype": "text/x-python",
   "name": "python",
   "nbconvert_exporter": "python",
   "pygments_lexer": "ipython3",
   "version": "3.9.13"
  }
 },
 "nbformat": 4,
 "nbformat_minor": 5
}
