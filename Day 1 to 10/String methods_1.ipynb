{
 "cells": [
  {
   "cell_type": "markdown",
   "id": "9fc95347",
   "metadata": {},
   "source": [
    "# Question 19\n",
    "## The following text is given: text = 'python is a popular programming language.' Using the appropriate method count the number of occurrences of the letter 'p' and print the result to the console as shown below.\n",
    "## Expected result: Number of occurrences: 4\n"
   ]
  },
  {
   "cell_type": "code",
   "execution_count": 1,
   "id": "246940ac",
   "metadata": {},
   "outputs": [
    {
     "name": "stdout",
     "output_type": "stream",
     "text": [
      "Number of occurrences: 4\n"
     ]
    }
   ],
   "source": [
    "text = 'python is a popular programming language.'\n",
    "\n",
    "print(f\"Number of occurrences: {text.count('p')}\")"
   ]
  },
  {
   "cell_type": "markdown",
   "id": "0c9eb57e",
   "metadata": {},
   "source": [
    "# Question 20\n",
    "## The following codes are given: code1 = 'FVNISJND-XX-2020'  code2 = 'FVNISJND-XY-2019'  Using the appropriate method check if the codes end in '2020'. Print the result to the console as shown below.\n",
    "## Expected result: code1: True  code2: False"
   ]
  },
  {
   "cell_type": "code",
   "execution_count": 2,
   "id": "de3bcaa5",
   "metadata": {},
   "outputs": [
    {
     "name": "stdout",
     "output_type": "stream",
     "text": [
      "code1: True\n",
      "code2: False\n"
     ]
    }
   ],
   "source": [
    "code1 = 'FVNISJND-XX-2020'\n",
    "code2 = 'FVNISJND-XY-2019'\n",
    "print(f\"code1: {code1.endswith('2020')}\")\n",
    "print(f\"code2: {code2.endswith('2020')}\")"
   ]
  },
  {
   "cell_type": "markdown",
   "id": "7cf4611c",
   "metadata": {},
   "source": [
    "# Question 21\n",
    "## The following paths are given: \n",
    "### path1 = 'youtube.com/watch?v=5EhRztVxums'                     \n",
    "### path2 = 'google.com/search?q=car'\n",
    "## Using the appropriate method check if the paths refer to YouTube (e.g. start with 'youtube'). Print the result to the console as shown below.\n",
    "## Expected result: path1: True  path2: False"
   ]
  },
  {
   "cell_type": "code",
   "execution_count": 3,
   "id": "f68eb0cc",
   "metadata": {},
   "outputs": [
    {
     "name": "stdout",
     "output_type": "stream",
     "text": [
      "path1:True\n",
      "path2:False\n"
     ]
    }
   ],
   "source": [
    "path1 = 'youtube.com/watch?v=5EhRztVxums'\n",
    "path2 = 'google.com/search?q=car'\n",
    "print(f\"path1:{path1.startswith('youtube')}\")\n",
    "print(f\"path2:{path2.startswith('youtube')}\")"
   ]
  },
  {
   "cell_type": "markdown",
   "id": "79eabc4e",
   "metadata": {},
   "source": [
    "# Question 22\n",
    "## The following paths are given: \n",
    "### path1 = ('https://e-smartdata.teachable.com/p/''sciezka-data-scientist-machine-learning-engineer')\n",
    "### path2 = ('https://e-smartdata.teachable.com/p/''sciezka-data-scientist-deep-learning-engineer')\n",
    "### path3 = ('https://e-smartdata.teachable.com/p/''sciezka-bi-analyst-data-analyst')\n",
    "## Using the appropriate method, find the word 'scientist' in the given paths, returning the index for the first letter of the found word. If the word is not in the path, the method should return -1. Print the result to the console as shown below.\n",
    "\n",
    "## Expected result: path1: 49  path2: 49 path3: -1"
   ]
  },
  {
   "cell_type": "code",
   "execution_count": 4,
   "id": "3e4a6057",
   "metadata": {},
   "outputs": [
    {
     "name": "stdout",
     "output_type": "stream",
     "text": [
      "path1: 49\n",
      "path2: 49\n",
      "path3: -1\n"
     ]
    }
   ],
   "source": [
    "path1 = (\n",
    "    'https://e-smartdata.teachable.com/p/'\n",
    "    'sciezka-data-scientist-machine-learning-engineer'\n",
    ")\n",
    "path2 = (\n",
    "    'https://e-smartdata.teachable.com/p/'\n",
    "    'sciezka-data-scientist-deep-learning-engineer'\n",
    ")\n",
    "path3 = (\n",
    "    'https://e-smartdata.teachable.com/p/'\n",
    "    'sciezka-bi-analyst-data-analyst'\n",
    ")\n",
    "print(f\"path1: {path1.find('scientist')}\")\n",
    "print(f\"path2: {path2.find('scientist')}\")\n",
    "print(f\"path3: {path3.find('scientist')}\")"
   ]
  },
  {
   "cell_type": "code",
   "execution_count": null,
   "id": "92a7195b",
   "metadata": {},
   "outputs": [],
   "source": []
  }
 ],
 "metadata": {
  "kernelspec": {
   "display_name": "Python 3 (ipykernel)",
   "language": "python",
   "name": "python3"
  },
  "language_info": {
   "codemirror_mode": {
    "name": "ipython",
    "version": 3
   },
   "file_extension": ".py",
   "mimetype": "text/x-python",
   "name": "python",
   "nbconvert_exporter": "python",
   "pygments_lexer": "ipython3",
   "version": "3.9.13"
  }
 },
 "nbformat": 4,
 "nbformat_minor": 5
}
