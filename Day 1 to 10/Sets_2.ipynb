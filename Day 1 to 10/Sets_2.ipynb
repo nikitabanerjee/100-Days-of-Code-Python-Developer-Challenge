{
 "cells": [
  {
   "cell_type": "markdown",
   "id": "7d6719c6",
   "metadata": {},
   "source": [
    "# Question 34\n",
    "## Two customer ID sets are given. The first one tells you whether a person clicked on the banner ad. Second, whether the person purchased the product:\n",
    "## is_clicked = {'9001', '9002', '9005'}  is_bought = {'9002', '9004', '9005'}  Return the ID of those customers who clicked on the ad and bought the product.\n",
    "## Expected result: Customer ID: { '9002', '9005'}  Note: Remember that the set is an unordered data structure. You may get a different order of items than the expected result. You don't have to worry about it."
   ]
  },
  {
   "cell_type": "code",
   "execution_count": 1,
   "id": "8de62d48",
   "metadata": {},
   "outputs": [
    {
     "name": "stdout",
     "output_type": "stream",
     "text": [
      "Customer ID: {'9005', '9002'}\n"
     ]
    }
   ],
   "source": [
    "is_clicked = {'9001', '9002', '9005'}\n",
    "is_bought = {'9002', '9004', '9005'}\n",
    "result = is_clicked.intersection(is_bought)\n",
    " \n",
    " \n",
    "print(f'Customer ID: {result}')"
   ]
  },
  {
   "cell_type": "markdown",
   "id": "45094fc3",
   "metadata": {},
   "source": [
    "# Question 35\n",
    "## Two following tuples are given: dji1 = ('AAPL.US', 'IBM.US', 'MSFT.US')   dji2 = ('HD.US', 'GS.US', 'NKE.US') Combine these tuples into one as shown below and print the result to the console.\n",
    "## Expected result: ('AAPL.US', 'IBM.US', 'MSFT.US', 'HD.US', 'GS.US', 'NKE.US')"
   ]
  },
  {
   "cell_type": "code",
   "execution_count": 2,
   "id": "772e6dfa",
   "metadata": {},
   "outputs": [
    {
     "name": "stdout",
     "output_type": "stream",
     "text": [
      "('AAPL.US', 'IBM.US', 'MSFT.US', 'HD.US', 'GS.US', 'NKE.US')\n"
     ]
    }
   ],
   "source": [
    "dji1 = ('AAPL.US', 'IBM.US', 'MSFT.US')\n",
    "dji2 = ('HD.US', 'GS.US', 'NKE.US')\n",
    "result=dji1 + dji2\n",
    "print(result)"
   ]
  },
  {
   "cell_type": "markdown",
   "id": "72712e84",
   "metadata": {},
   "source": [
    "# Question 36\n",
    "## We have two sets of customer IDs: ad1_id = {'001', '002', '003'}  ad2_id = {'002', '003', '007'}    Each set stores the id of the customers who made the purchase based on the specific ad. We have two ads. Each customer can use the offer only twice in campaign. Choose the ID of the customers to whom you can send another ad (or ids that only appeared once in both sets).\n",
    "## Expected result: Selected ID: { '007', '001'}\n",
    "## Note: Remember that the set is an unordered data structure. You may get a different order of items than the expected result. You don't have to worry about it."
   ]
  },
  {
   "cell_type": "code",
   "execution_count": 3,
   "id": "f096a988",
   "metadata": {},
   "outputs": [
    {
     "name": "stdout",
     "output_type": "stream",
     "text": [
      "{'001', '007'}\n"
     ]
    }
   ],
   "source": [
    "ad1_id = {'001', '002', '003'}\n",
    "ad2_id = {'002', '003', '007'}\n",
    "result=ad1_id^ad2_id## symmetric_difference\n",
    "print(result)"
   ]
  },
  {
   "cell_type": "code",
   "execution_count": null,
   "id": "7dad7765",
   "metadata": {},
   "outputs": [],
   "source": []
  }
 ],
 "metadata": {
  "kernelspec": {
   "display_name": "Python 3 (ipykernel)",
   "language": "python",
   "name": "python3"
  },
  "language_info": {
   "codemirror_mode": {
    "name": "ipython",
    "version": 3
   },
   "file_extension": ".py",
   "mimetype": "text/x-python",
   "name": "python",
   "nbconvert_exporter": "python",
   "pygments_lexer": "ipython3",
   "version": "3.9.13"
  }
 },
 "nbformat": 4,
 "nbformat_minor": 5
}
