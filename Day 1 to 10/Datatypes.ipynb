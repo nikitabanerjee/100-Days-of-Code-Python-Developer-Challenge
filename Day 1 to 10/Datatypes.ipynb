{
 "cells": [
  {
   "cell_type": "markdown",
   "id": "639ee2d9",
   "metadata": {},
   "source": [
    "# Question 16\n",
    "## The following variables are given: var1 = None         var2 = False                                                                          var3 = 'True'      Print each type of variable on a separate line to the console as shown below.\n",
    "## Expected result:                                                         <class 'NoneType'>                                                         <class 'bool'>                                                                   <class 'str'>"
   ]
  },
  {
   "cell_type": "code",
   "execution_count": 1,
   "id": "7d3a56a5",
   "metadata": {},
   "outputs": [
    {
     "name": "stdout",
     "output_type": "stream",
     "text": [
      "<class 'NoneType'>\n",
      "<class 'bool'>\n",
      "<class 'str'>\n"
     ]
    }
   ],
   "source": [
    "var1 = None\n",
    "var2 = False\n",
    "var3 = 'True'\n",
    "print(type(var1))\n",
    "print(type(var2))\n",
    "print(type(var3))"
   ]
  },
  {
   "cell_type": "markdown",
   "id": "8920752a",
   "metadata": {},
   "source": [
    "# Question 17\n",
    "## Check if the following variable: flag = False is an instance of the bool class and print the result to the console.\n",
    "## Expected result: True"
   ]
  },
  {
   "cell_type": "code",
   "execution_count": 2,
   "id": "18f10cec",
   "metadata": {},
   "outputs": [
    {
     "name": "stdout",
     "output_type": "stream",
     "text": [
      "True\n"
     ]
    }
   ],
   "source": [
    "flag = False\n",
    "print(isinstance(flag, bool))"
   ]
  },
  {
   "cell_type": "markdown",
   "id": "1ec952f4",
   "metadata": {},
   "source": [
    "# Question 18\n",
    "## The following text is given: text = 'python is a popular programming language.' Use the appropriate method to replace the first letter of the text with uppercase. Print the result to the console.\n",
    "## Expected result: Python is a popular programming language.\n"
   ]
  },
  {
   "cell_type": "code",
   "execution_count": 3,
   "id": "3f4864ac",
   "metadata": {},
   "outputs": [
    {
     "name": "stdout",
     "output_type": "stream",
     "text": [
      "Python is a popular programming language.\n"
     ]
    }
   ],
   "source": [
    "text = 'python is a popular programming language.'\n",
    "print(text.capitalize())"
   ]
  },
  {
   "cell_type": "code",
   "execution_count": null,
   "id": "0551f469",
   "metadata": {},
   "outputs": [],
   "source": []
  }
 ],
 "metadata": {
  "kernelspec": {
   "display_name": "Python 3 (ipykernel)",
   "language": "python",
   "name": "python3"
  },
  "language_info": {
   "codemirror_mode": {
    "name": "ipython",
    "version": 3
   },
   "file_extension": ".py",
   "mimetype": "text/x-python",
   "name": "python",
   "nbconvert_exporter": "python",
   "pygments_lexer": "ipython3",
   "version": "3.9.13"
  }
 },
 "nbformat": 4,
 "nbformat_minor": 5
}
