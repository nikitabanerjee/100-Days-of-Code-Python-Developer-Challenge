{
 "cells": [
  {
   "cell_type": "markdown",
   "id": "713f9100",
   "metadata": {},
   "source": [
    "# Question 31\n",
    "## The following set is given: subjects = {'mathematics', 'biology', 'physics'}  Using the appropriate method add 'english' to this set. In response print subjects set to the console.\n",
    "\n",
    "## Expected result: {'mathematics', 'biology', 'physics', 'english'} Note: Remember that the set is an unordered data structure. You may get a different order of items than the expected result."
   ]
  },
  {
   "cell_type": "code",
   "execution_count": 1,
   "id": "3629195d",
   "metadata": {},
   "outputs": [
    {
     "name": "stdout",
     "output_type": "stream",
     "text": [
      "{'mathematics', 'biology', 'physics', 'english'}\n"
     ]
    }
   ],
   "source": [
    "subjects = {'mathematics', 'biology', 'physics'}\n",
    "subjects.add('english')\n",
    "print(subjects)"
   ]
  },
  {
   "cell_type": "markdown",
   "id": "518ef9d3",
   "metadata": {},
   "source": [
    "# Question 32\n",
    "## The following text is given: text = 'Programming in python.' Follow the next steps: Change all letters to lowercase. Delete spaces and period. Create a set consisting of all letters in the text and assign to letters variable. Using the appropriate method for sets, remove all vowels from letters set: vowels = {'a', 'e', 'i', 'o', 'u'} Print the number of items in the letters set as shown below.\n",
    "## Expected result: Number of items: 8"
   ]
  },
  {
   "cell_type": "code",
   "execution_count": 2,
   "id": "97a86a82",
   "metadata": {},
   "outputs": [
    {
     "name": "stdout",
     "output_type": "stream",
     "text": [
      "Number of items: 8\n"
     ]
    }
   ],
   "source": [
    "text = 'Programming in python.'\n",
    "text = text.lower()\n",
    "text = text.replace(' ', '')\n",
    "text = text.replace('.', '')\n",
    "vowels = {'a', 'e', 'i', 'o', 'u'}\n",
    "letters = set(text)\n",
    "consonants = letters.difference(vowels)\n",
    "print(f'Number of items: {len(consonants)}')"
   ]
  },
  {
   "cell_type": "markdown",
   "id": "aa461230",
   "metadata": {},
   "source": [
    "# Question 33\n",
    "## In mathematics, the symmetric difference of two sets is the set of elements which are in either of the sets, but not in their intersection. Two following sets are given: A = {2, 4, 6, 8}  B = {4, 10} Using the appropriate method, extract the symmetrical difference of sets A and B and print the result to the console as shown below.\n",
    "## Expected result: Symmetric difference: {2, 6, 8, 10}"
   ]
  },
  {
   "cell_type": "code",
   "execution_count": 3,
   "id": "2b4d417d",
   "metadata": {},
   "outputs": [
    {
     "name": "stdout",
     "output_type": "stream",
     "text": [
      "Symmetric difference: {2, 6, 8, 10}\n"
     ]
    }
   ],
   "source": [
    "A = {2, 4, 6, 8}\n",
    "B = {4, 10}\n",
    "sym_diff = A.symmetric_difference(B)\n",
    " \n",
    " \n",
    "print(f'Symmetric difference: {sym_diff}')"
   ]
  },
  {
   "cell_type": "code",
   "execution_count": null,
   "id": "4c42c8db",
   "metadata": {},
   "outputs": [],
   "source": []
  }
 ],
 "metadata": {
  "kernelspec": {
   "display_name": "Python 3 (ipykernel)",
   "language": "python",
   "name": "python3"
  },
  "language_info": {
   "codemirror_mode": {
    "name": "ipython",
    "version": 3
   },
   "file_extension": ".py",
   "mimetype": "text/x-python",
   "name": "python",
   "nbconvert_exporter": "python",
   "pygments_lexer": "ipython3",
   "version": "3.9.13"
  }
 },
 "nbformat": 4,
 "nbformat_minor": 5
}
