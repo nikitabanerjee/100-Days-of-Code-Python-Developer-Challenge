{
 "cells": [
  {
   "cell_type": "markdown",
   "id": "d683394a",
   "metadata": {},
   "source": [
    "# Question 27\n",
    "## The following text is given: headers = 'ProductID,ProductName,Category,Price'    Using the appropriate method split the text by comma. Print the result as a list to the console as shown below.\n",
    "## Expected result: ['ProductID', 'ProductName', 'Category', 'Price']\n"
   ]
  },
  {
   "cell_type": "code",
   "execution_count": 1,
   "id": "9248083c",
   "metadata": {},
   "outputs": [
    {
     "name": "stdout",
     "output_type": "stream",
     "text": [
      "['ProductID', 'ProductName', 'Category', 'Price']\n"
     ]
    }
   ],
   "source": [
    "headers = 'ProductID,ProductName,Category,Price'\n",
    "print(headers.split(','))"
   ]
  },
  {
   "cell_type": "markdown",
   "id": "a6329936",
   "metadata": {},
   "source": [
    "# Question 28\n",
    "## The following text is given: text = \"\"\"Python is a general-purpose language. Python is popular.\"\"\" Using the appropriate method, split the text into sentences. Print the result as a list to the console.\n",
    "## Expected result: ['Python is a general-purpose language.', 'Python is popular.']"
   ]
  },
  {
   "cell_type": "code",
   "execution_count": 2,
   "id": "a19320eb",
   "metadata": {},
   "outputs": [
    {
     "name": "stdout",
     "output_type": "stream",
     "text": [
      "['Python is a general-purpose language.', 'Python is popular.']\n"
     ]
    }
   ],
   "source": [
    "text = \"\"\"Python is a general-purpose language.\n",
    "Python is popular.\"\"\"\n",
    "print(text.splitlines())"
   ]
  },
  {
   "cell_type": "markdown",
   "id": "aab08047",
   "metadata": {},
   "source": [
    "# Question 29\n",
    "## The following variable is given: num = 3415  Using the appropriate method for an object of type str, print the variable num preceded by four zeros to the console as shown below.\n",
    "## Expected result: 00003415\n"
   ]
  },
  {
   "cell_type": "code",
   "execution_count": 3,
   "id": "d7841671",
   "metadata": {},
   "outputs": [
    {
     "name": "stdout",
     "output_type": "stream",
     "text": [
      "00003415\n"
     ]
    }
   ],
   "source": [
    "num = 3415\n",
    "print(str(num).zfill(8))"
   ]
  },
  {
   "cell_type": "markdown",
   "id": "982687ef",
   "metadata": {},
   "source": [
    "# Question 30\n",
    "## From the given url:\n",
    "## url = ('https://e-smartdata.teachable.com/''p/sciezka-data-scientist-machine-learning-engineer')  extract the slug after the last character '/'. Then replace all dashes with spaces and print the result to the console as shown below.\n",
    "## Expected result: sciezka data scientist machine learning engineer"
   ]
  },
  {
   "cell_type": "code",
   "execution_count": 4,
   "id": "ecb032e6",
   "metadata": {},
   "outputs": [
    {
     "name": "stdout",
     "output_type": "stream",
     "text": [
      "sciezka data scientist machine learning engineer\n"
     ]
    }
   ],
   "source": [
    "url = (\n",
    "    'https://e-smartdata.teachable.com/'\n",
    "    'p/sciezka-data-scientist-machine-learning-engineer'\n",
    ")\n",
    "name = url.split('/')[-1]\n",
    "name = name.replace('-', ' ')\n",
    " \n",
    " \n",
    "print(name)"
   ]
  }
 ],
 "metadata": {
  "kernelspec": {
   "display_name": "Python 3 (ipykernel)",
   "language": "python",
   "name": "python3"
  },
  "language_info": {
   "codemirror_mode": {
    "name": "ipython",
    "version": 3
   },
   "file_extension": ".py",
   "mimetype": "text/x-python",
   "name": "python",
   "nbconvert_exporter": "python",
   "pygments_lexer": "ipython3",
   "version": "3.9.13"
  }
 },
 "nbformat": 4,
 "nbformat_minor": 5
}
