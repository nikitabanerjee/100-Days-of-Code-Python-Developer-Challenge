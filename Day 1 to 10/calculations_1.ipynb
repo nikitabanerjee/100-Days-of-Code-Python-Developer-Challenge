{
 "cells": [
  {
   "cell_type": "markdown",
   "id": "d907e6d1",
   "metadata": {},
   "source": [
    "# Question 6\n",
    "## Write a program that calculates the delta for the quadratic equation: 3x^2-4x+1=0\n",
    "## Print the result to the console as shown below.\n",
    "## Expected result: Delta: 4"
   ]
  },
  {
   "cell_type": "code",
   "execution_count": 1,
   "id": "10606161",
   "metadata": {},
   "outputs": [
    {
     "name": "stdout",
     "output_type": "stream",
     "text": [
      "Delta: 4\n"
     ]
    }
   ],
   "source": [
    "a = 3\n",
    "b = -4\n",
    "c = 1\n",
    "delta=b**2-4*a*c\n",
    "print(f\"Delta: {delta}\")"
   ]
  },
  {
   "cell_type": "markdown",
   "id": "9a4b3fd1",
   "metadata": {},
   "source": [
    "# Question 7\n",
    "## The arithmetic sequence is given with the following formula: a_n=10+4n\n",
    "\n",
    "## Calculate the sum of the first ten elements of this sequence. Print the result to the console as shown below.\n",
    "\n",
    "## Expected result: The sum of the first 10 elements in a sequence: 320.0"
   ]
  },
  {
   "cell_type": "code",
   "execution_count": 2,
   "id": "560c468f",
   "metadata": {},
   "outputs": [
    {
     "name": "stdout",
     "output_type": "stream",
     "text": [
      "The sum of the first 10 elements in a sequence: 320.0\n"
     ]
    }
   ],
   "source": [
    "a1 = 14\n",
    "a10 = 50\n",
    "n = 10\n",
    " \n",
    "s10 = ((a1 + a10) / 2) * n\n",
    "print(f\"The sum of the first 10 elements in a sequence: {s10}\")"
   ]
  },
  {
   "cell_type": "markdown",
   "id": "9f31bba8",
   "metadata": {},
   "source": [
    "# Question 8\n",
    "## The geometric sequence is given with the following formula: a_n=8.2^n-1\n",
    "## Calculate the sum of the first six elements of this sequence. Print the result to the console as shown below.\n",
    "## Expected result: The sum of the first 6 elements of the sequence is: 504.0"
   ]
  },
  {
   "cell_type": "code",
   "execution_count": 3,
   "id": "b397379b",
   "metadata": {},
   "outputs": [
    {
     "name": "stdout",
     "output_type": "stream",
     "text": [
      "The sum of the first 6 elements of the sequence is: 504.0\n"
     ]
    }
   ],
   "source": [
    "a1 = 8\n",
    "a2 = 8 * 2\n",
    "n = 6\n",
    " \n",
    "q = a2 / a1\n",
    "s6 = a1 * ((1 - q**n) / (1 - q))\n",
    "print(f\"The sum of the first 6 elements of the sequence is: {s6}\")"
   ]
  },
  {
   "cell_type": "code",
   "execution_count": null,
   "id": "ccbfe10d",
   "metadata": {},
   "outputs": [],
   "source": []
  }
 ],
 "metadata": {
  "kernelspec": {
   "display_name": "Python 3 (ipykernel)",
   "language": "python",
   "name": "python3"
  },
  "language_info": {
   "codemirror_mode": {
    "name": "ipython",
    "version": 3
   },
   "file_extension": ".py",
   "mimetype": "text/x-python",
   "name": "python",
   "nbconvert_exporter": "python",
   "pygments_lexer": "ipython3",
   "version": "3.9.13"
  }
 },
 "nbformat": 4,
 "nbformat_minor": 5
}
