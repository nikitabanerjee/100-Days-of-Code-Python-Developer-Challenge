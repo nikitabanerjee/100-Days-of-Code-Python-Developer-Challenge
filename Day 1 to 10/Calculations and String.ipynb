{
 "cells": [
  {
   "cell_type": "markdown",
   "id": "9ec6e797",
   "metadata": {},
   "source": [
    "# # Question 12\n",
    "## Calculate the geometric mean of the following numbers: 4, 3, 4.5, 5 and print result to the console as shown below.\n",
    "## Expected result:Geometric average of the given numbers: 4.05"
   ]
  },
  {
   "cell_type": "code",
   "execution_count": 1,
   "id": "beaf6c90",
   "metadata": {},
   "outputs": [
    {
     "name": "stdout",
     "output_type": "stream",
     "text": [
      "Geometric average of the given numbers: 4.05\n"
     ]
    }
   ],
   "source": [
    "a=4\n",
    "b=3\n",
    "c=4.5\n",
    "d=5\n",
    "e= (a*b*c*d)**(1/4)\n",
    "print(f'Geometric average of the given numbers: {e:.2f}')"
   ]
  },
  {
   "cell_type": "markdown",
   "id": "a48b8a58",
   "metadata": {},
   "source": [
    "# Question 13\n",
    "## From the following text: string = 'PKV-89415-PLN' extract the code containing the first three and last three characters. Print the result to the console.\n",
    "## Expected result: PKVPLN"
   ]
  },
  {
   "cell_type": "code",
   "execution_count": 2,
   "id": "95a1d7c0",
   "metadata": {},
   "outputs": [
    {
     "name": "stdout",
     "output_type": "stream",
     "text": [
      "PKVPLN\n"
     ]
    }
   ],
   "source": [
    "string = 'PKV-89415-PLN'\n",
    "concate = string[:3] + string[-3:]\n",
    " \n",
    " \n",
    "print(concate)"
   ]
  },
  {
   "cell_type": "markdown",
   "id": "5e2ea125",
   "metadata": {},
   "source": [
    "# Question 14\n",
    "## From the following text: string = '1 0 0 1 0 1' remove spaces using slicing. Then convert the result to decimal notation and print to the console as shown below.\n",
    "## Expected result: Number found: 37"
   ]
  },
  {
   "cell_type": "code",
   "execution_count": 3,
   "id": "b527548c",
   "metadata": {},
   "outputs": [
    {
     "name": "stdout",
     "output_type": "stream",
     "text": [
      "Number found: 37\n"
     ]
    }
   ],
   "source": [
    "string = '1 0 0 1 0 1'\n",
    "modified = string.replace(\" \", \"\")\n",
    "binary=int(modified,2)\n",
    "print(f'Number found: {binary}')"
   ]
  },
  {
   "cell_type": "markdown",
   "id": "d1075cab",
   "metadata": {},
   "source": [
    "# Question 15\n",
    "##  Using the slicing, reverse the order of the characters in the following text: text = '100 days of code'  Print the result to the console as shown below.\n",
    "## Expected result: edoc fo syad 001"
   ]
  },
  {
   "cell_type": "code",
   "execution_count": 4,
   "id": "96f1d7f2",
   "metadata": {},
   "outputs": [
    {
     "name": "stdout",
     "output_type": "stream",
     "text": [
      "edoc fo syad 001\n"
     ]
    }
   ],
   "source": [
    "text = '100 days of code'\n",
    "text1=text[::-1]\n",
    "print(text1)"
   ]
  },
  {
   "cell_type": "code",
   "execution_count": null,
   "id": "c3b0c589",
   "metadata": {},
   "outputs": [],
   "source": []
  }
 ],
 "metadata": {
  "kernelspec": {
   "display_name": "Python 3 (ipykernel)",
   "language": "python",
   "name": "python3"
  },
  "language_info": {
   "codemirror_mode": {
    "name": "ipython",
    "version": 3
   },
   "file_extension": ".py",
   "mimetype": "text/x-python",
   "name": "python",
   "nbconvert_exporter": "python",
   "pygments_lexer": "ipython3",
   "version": "3.9.13"
  }
 },
 "nbformat": 4,
 "nbformat_minor": 5
}
