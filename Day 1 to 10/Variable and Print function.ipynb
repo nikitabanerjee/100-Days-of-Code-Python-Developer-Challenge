{
 "cells": [
  {
   "cell_type": "markdown",
   "id": "16a11a2f",
   "metadata": {},
   "source": [
    "# Question 1\n",
    "## Print the Python version to the console."
   ]
  },
  {
   "cell_type": "code",
   "execution_count": 6,
   "id": "76db9599",
   "metadata": {},
   "outputs": [
    {
     "name": "stdout",
     "output_type": "stream",
     "text": [
      "3.9.13\n"
     ]
    }
   ],
   "source": [
    "import sys\n",
    "print(sys.version.split()[0])"
   ]
  },
  {
   "cell_type": "markdown",
   "id": "789e02a7",
   "metadata": {},
   "source": [
    "# Question 2\n",
    "## Create two variables (you can freely choose the names) and assign to them following values: 'Python' '3.8'\n",
    "## Using these variables and the print() function, print to the console the following text: I love Python 3.8!"
   ]
  },
  {
   "cell_type": "code",
   "execution_count": 7,
   "id": "f853c13a",
   "metadata": {},
   "outputs": [
    {
     "name": "stdout",
     "output_type": "stream",
     "text": [
      "I love Python 3.8!\n"
     ]
    }
   ],
   "source": [
    "a='Python'\n",
    "b='3.8'\n",
    "print(f\"I love {a} {b}!\")"
   ]
  },
  {
   "cell_type": "markdown",
   "id": "d1dc05d7",
   "metadata": {},
   "source": [
    "# Question 3\n",
    "## Assign two variables that store the following values: dollar 42.99 - product price (float) 30 lbs - product weight (int)\n",
    "## Using the f-string formatting style print to the console the following message: Price: dollar 42.99. Weight: 30 lbs."
   ]
  },
  {
   "cell_type": "code",
   "execution_count": 8,
   "id": "2d156eba",
   "metadata": {},
   "outputs": [
    {
     "name": "stdout",
     "output_type": "stream",
     "text": [
      "Price: $42.99. Weight: 30 lbs.\n"
     ]
    }
   ],
   "source": [
    "price = 42.99\n",
    "weight = 30\n",
    "print(f\"Price: ${price}. Weight: {weight} lbs.\")"
   ]
  },
  {
   "cell_type": "markdown",
   "id": "a87aec65",
   "metadata": {},
   "source": [
    "# Question 4\n",
    "## Write a program that calculates the area of a circle with a radius = 10. Use an approximate value of pi: pi = 3.14\n",
    "## Print the result to the console as shown below.\n",
    "## Expected result: Area: 314.0"
   ]
  },
  {
   "cell_type": "code",
   "execution_count": 9,
   "id": "08c443a2",
   "metadata": {},
   "outputs": [
    {
     "name": "stdout",
     "output_type": "stream",
     "text": [
      "Area: 314.0\n"
     ]
    }
   ],
   "source": [
    "radius=10\n",
    "pi=3.14\n",
    "area=pi*radius**2\n",
    "print(f'Area: {area:.1f}')"
   ]
  },
  {
   "cell_type": "markdown",
   "id": "cfd74f77",
   "metadata": {},
   "source": [
    "# Question 5\n",
    "## Write a program that calculates the future value of 1000 USD with an annual interest rate of 3%, annual capitalization and a 5-year investment period. Round the result to the nearest cent.\n",
    "## Print the result to the console as shown below.\n",
    "## Expected result: The future value of the investment: 1159.27 USD"
   ]
  },
  {
   "cell_type": "code",
   "execution_count": 10,
   "id": "f4c1c5c5",
   "metadata": {},
   "outputs": [
    {
     "name": "stdout",
     "output_type": "stream",
     "text": [
      "The future value of the investment: 1159.27 USD\n"
     ]
    }
   ],
   "source": [
    "value=1000\n",
    "rate=0.03\n",
    "time=5\n",
    "CI= value * (1 + rate) ** time\n",
    "print(f\"The future value of the investment: {CI:.2f} USD\")"
   ]
  },
  {
   "cell_type": "code",
   "execution_count": null,
   "id": "5aea89e9",
   "metadata": {},
   "outputs": [],
   "source": []
  }
 ],
 "metadata": {
  "kernelspec": {
   "display_name": "Python 3 (ipykernel)",
   "language": "python",
   "name": "python3"
  },
  "language_info": {
   "codemirror_mode": {
    "name": "ipython",
    "version": 3
   },
   "file_extension": ".py",
   "mimetype": "text/x-python",
   "name": "python",
   "nbconvert_exporter": "python",
   "pygments_lexer": "ipython3",
   "version": "3.9.13"
  }
 },
 "nbformat": 4,
 "nbformat_minor": 5
}
