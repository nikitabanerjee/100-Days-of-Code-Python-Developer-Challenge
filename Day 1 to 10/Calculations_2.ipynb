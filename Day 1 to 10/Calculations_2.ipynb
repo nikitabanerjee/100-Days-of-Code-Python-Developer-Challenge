{
 "cells": [
  {
   "cell_type": "markdown",
   "id": "5a34a2e6",
   "metadata": {},
   "source": [
    "# Question 9\n",
    "## Calculate the midpoint of the segment with ends at the points: A = (2, 4), B = (-4, 6) and print result to the console as shown below.\n",
    "## Expected result: The middle point: (-1.0, 5.0) "
   ]
  },
  {
   "cell_type": "code",
   "execution_count": 1,
   "id": "bae58b32",
   "metadata": {},
   "outputs": [
    {
     "name": "stdout",
     "output_type": "stream",
     "text": [
      "The middle point: (-1.0, 5.0)\n"
     ]
    }
   ],
   "source": [
    "x1=2\n",
    "x2=-4\n",
    "y1=4\n",
    "y2=6\n",
    "mid1=(x2+x1)/2\n",
    "mid2=(y2+y1)/2\n",
    "print(f\"The middle point: ({mid1}, {mid2})\")"
   ]
  },
  {
   "cell_type": "markdown",
   "id": "d895e326",
   "metadata": {},
   "source": [
    "# Question 10\n",
    "## Calculate the distance of two points A = (3, 2), B = (- 1, -1) and print result to the console as shown below.\n",
    "## Expected result: The distance between points A and B: 5.0"
   ]
  },
  {
   "cell_type": "code",
   "execution_count": 2,
   "id": "f2dbb7b0",
   "metadata": {},
   "outputs": [
    {
     "name": "stdout",
     "output_type": "stream",
     "text": [
      "The distance between points A and B: 5.0\n"
     ]
    }
   ],
   "source": [
    "x1=3\n",
    "y1=2\n",
    "x2=-1\n",
    "y2=-1\n",
    "dist= ((x2 - x1) ** 2 + (y2 - y1) ** 2)**(1/2)\n",
    "print(f\"The distance between points A and B: {dist}\")"
   ]
  },
  {
   "cell_type": "markdown",
   "id": "7fc1cd97",
   "metadata": {},
   "source": [
    "# Question 11\n",
    "## Find the roots of the quadratic equation: x^2+5x+4=0 Print the result to the console as shown below.\n",
    "## Expected result: x1 = -4.0, x2 = -1.0\n"
   ]
  },
  {
   "cell_type": "code",
   "execution_count": 3,
   "id": "cfee749c",
   "metadata": {},
   "outputs": [
    {
     "name": "stdout",
     "output_type": "stream",
     "text": [
      "x1 = -4.0\n",
      "x2 = -1.0\n"
     ]
    }
   ],
   "source": [
    "a = 1\n",
    "b = 5\n",
    "c = 4\n",
    " \n",
    "delta = b**2 - 4 * a * c\n",
    "delta_sqrt = delta ** (1 / 2)\n",
    " \n",
    "x1 = (-b - delta_sqrt) / (2 * a)\n",
    "x2 = (-b + delta_sqrt) / (2 * a)\n",
    " \n",
    " \n",
    "print(f'x1 = {x1}')\n",
    "print(f'x2 = {x2}')"
   ]
  },
  {
   "cell_type": "code",
   "execution_count": null,
   "id": "7f3bf293",
   "metadata": {},
   "outputs": [],
   "source": []
  }
 ],
 "metadata": {
  "kernelspec": {
   "display_name": "Python 3 (ipykernel)",
   "language": "python",
   "name": "python3"
  },
  "language_info": {
   "codemirror_mode": {
    "name": "ipython",
    "version": 3
   },
   "file_extension": ".py",
   "mimetype": "text/x-python",
   "name": "python",
   "nbconvert_exporter": "python",
   "pygments_lexer": "ipython3",
   "version": "3.9.13"
  }
 },
 "nbformat": 4,
 "nbformat_minor": 5
}
