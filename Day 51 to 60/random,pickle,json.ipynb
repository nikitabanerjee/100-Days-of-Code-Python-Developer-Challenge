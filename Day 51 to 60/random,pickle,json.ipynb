{
 "cells": [
  {
   "cell_type": "markdown",
   "id": "4c62d675",
   "metadata": {},
   "source": [
    "# Question 158\n",
    "## Using the random built-in module set the random seed as follows:               random.seed(15) And shuffle (pseudo-randomly) items in the following list:   items = ['python', 'java', 'sql', 'c++', 'c'] In response, print the list to the console.\n",
    "## Expected result: ['c', 'c++', 'sql', 'python', 'java']\n"
   ]
  },
  {
   "cell_type": "code",
   "execution_count": 1,
   "id": "15888246",
   "metadata": {},
   "outputs": [
    {
     "name": "stdout",
     "output_type": "stream",
     "text": [
      "['c', 'c++', 'sql', 'python', 'java']\n"
     ]
    }
   ],
   "source": [
    "import random\n",
    " \n",
    " \n",
    "random.seed(15)\n",
    " \n",
    "items = ['python', 'java', 'sql', 'c++', 'c']\n",
    "random.shuffle(items)\n",
    " \n",
    " \n",
    "print(items)"
   ]
  },
  {
   "cell_type": "markdown",
   "id": "fd9b3500",
   "metadata": {},
   "source": [
    "# Question 159\n",
    "## Using the pickle built-in module, save the following list to the data.pickle file.  ids = ['001', '003', '011']"
   ]
  },
  {
   "cell_type": "code",
   "execution_count": 2,
   "id": "d6a44dcf",
   "metadata": {},
   "outputs": [],
   "source": [
    "import pickle\n",
    "\n",
    "\n",
    "ids = ['001', '003', '011']\n",
    "with open('data.pickle', 'wb') as file:\n",
    "    pickle.dump(ids, file)"
   ]
  },
  {
   "cell_type": "markdown",
   "id": "12f5efe3",
   "metadata": {},
   "source": [
    "# Question 160\n",
    "## Using the json package, dump the following dictionary:stocks = {'PLW': 360.0, 'TEN': 320.0, 'CDR': 329.0} to the string, sorted by keys with indent 4. Print the result to the console.\n",
    "## Expected result:\n",
    "## {\n",
    "##    \"CDR\": 329.0,\n",
    "##    \"PLW\": 360.0,\n",
    "##    \"TEN\": 320.0\n",
    "## }"
   ]
  },
  {
   "cell_type": "code",
   "execution_count": 3,
   "id": "3c5ba02b",
   "metadata": {},
   "outputs": [
    {
     "name": "stdout",
     "output_type": "stream",
     "text": [
      "{\n",
      "    \"CDR\": 329.0,\n",
      "    \"PLW\": 360.0,\n",
      "    \"TEN\": 320.0\n",
      "}\n"
     ]
    }
   ],
   "source": [
    "import json\n",
    " \n",
    " \n",
    "stocks = {'PLW': 360.0, 'TEN': 320.0, 'CDR': 329.0}\n",
    "result = json.dumps(stocks, sort_keys=True, indent=4)\n",
    " \n",
    " \n",
    "print(result)"
   ]
  },
  {
   "cell_type": "code",
   "execution_count": null,
   "id": "c8c1d175",
   "metadata": {},
   "outputs": [],
   "source": []
  }
 ],
 "metadata": {
  "kernelspec": {
   "display_name": "Python 3 (ipykernel)",
   "language": "python",
   "name": "python3"
  },
  "language_info": {
   "codemirror_mode": {
    "name": "ipython",
    "version": 3
   },
   "file_extension": ".py",
   "mimetype": "text/x-python",
   "name": "python",
   "nbconvert_exporter": "python",
   "pygments_lexer": "ipython3",
   "version": "3.9.13"
  }
 },
 "nbformat": 4,
 "nbformat_minor": 5
}
