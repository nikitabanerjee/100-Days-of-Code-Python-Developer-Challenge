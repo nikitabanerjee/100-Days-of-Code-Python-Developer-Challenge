{
 "cells": [
  {
   "cell_type": "markdown",
   "id": "03205cd4",
   "metadata": {},
   "source": [
    "# Question 167\n",
    "## Implement a function called euclidean_distance() that computes the distance between two points.\n",
    "## Example:\n",
    "### [IN]: euclidean_distance([0, 3], [4, 0])\n",
    "### [OUT]: 5.0 Note: You only need to implement this function."
   ]
  },
  {
   "cell_type": "code",
   "execution_count": 1,
   "id": "f22fc051",
   "metadata": {},
   "outputs": [
    {
     "name": "stdout",
     "output_type": "stream",
     "text": [
      "5.0\n"
     ]
    }
   ],
   "source": [
    "import math\n",
    "\n",
    "def euclidean_distance(point1, point2):\n",
    "    if len(point1) != len(point2):\n",
    "        raise ValueError(\"Both points must have the same number of dimensions\")\n",
    "\n",
    "    squared_distance = sum((p1 - p2)**2 for p1, p2 in zip(point1, point2))\n",
    "    distance = math.sqrt(squared_distance)\n",
    "\n",
    "    return distance\n",
    "\n",
    "# Example usage\n",
    "point1 = [0, 3]\n",
    "point2 = [4, 0]\n",
    "result = euclidean_distance(point1, point2)\n",
    "print(result)\n"
   ]
  },
  {
   "cell_type": "markdown",
   "id": "16558fa3",
   "metadata": {},
   "source": [
    "# Question 168\n",
    "## Implement a function called arange() that takes three parameters: start, stop, step and generates a list consisting of integers greater than or equal to start and less than stop. The step parameter defaults to 1 indicates the size of the step.\n",
    "## Example:\n",
    "### [IN]: arange(0, 10)\n",
    "### [OUT]: [0, 1, 2, 3, 4, 5, 6, 7, 8, 9]\n",
    "### [IN]: arange(0, 10, 2)\n",
    "### [OUT]: [0, 2, 4, 6, 8]\n",
    "### Note: You only need to implement this function."
   ]
  },
  {
   "cell_type": "code",
   "execution_count": 2,
   "id": "b15af292",
   "metadata": {},
   "outputs": [
    {
     "name": "stdout",
     "output_type": "stream",
     "text": [
      "[0, 1, 2, 3, 4, 5, 6, 7, 8, 9]\n",
      "[0, 2, 4, 6, 8]\n"
     ]
    }
   ],
   "source": [
    "def arange(start, stop, step=1):\n",
    "    result = []\n",
    "    current_value = start\n",
    "\n",
    "    while current_value < stop:\n",
    "        result.append(current_value)\n",
    "        current_value += step\n",
    "\n",
    "    return result\n",
    "\n",
    "# Example usage\n",
    "output1 = arange(0, 10)\n",
    "output2 = arange(0, 10, 2)\n",
    "\n",
    "print(output1)\n",
    "print(output2)\n"
   ]
  },
  {
   "cell_type": "markdown",
   "id": "4dca6130",
   "metadata": {},
   "source": [
    "# Question 169\n",
    "## Implement a function called concat() that accepts two lists in the format given below:\n",
    "### l1 = [[1], [2]]\n",
    "### l2 = [[3], [4]]\n",
    "### and returns:\n",
    "### [[1, 3], [2, 4]]\n",
    "### Note: You only need to implement this function."
   ]
  },
  {
   "cell_type": "code",
   "execution_count": 3,
   "id": "ddcc2bdf",
   "metadata": {},
   "outputs": [
    {
     "name": "stdout",
     "output_type": "stream",
     "text": [
      "[[1, 3], [2, 4]]\n"
     ]
    }
   ],
   "source": [
    "def concat(l1, l2):\n",
    "    result = []\n",
    "    for sublist1, sublist2 in zip(l1, l2):\n",
    "        combined_sublist = sublist1 + sublist2\n",
    "        result.append(combined_sublist)\n",
    "    return result\n",
    "\n",
    "# Example usage\n",
    "l1 = [[1], [2]]\n",
    "l2 = [[3], [4]]\n",
    "result = concat(l1, l2)\n",
    "print(result)\n"
   ]
  },
  {
   "cell_type": "code",
   "execution_count": null,
   "id": "ccd35f2a",
   "metadata": {},
   "outputs": [],
   "source": []
  }
 ],
 "metadata": {
  "kernelspec": {
   "display_name": "Python 3 (ipykernel)",
   "language": "python",
   "name": "python3"
  },
  "language_info": {
   "codemirror_mode": {
    "name": "ipython",
    "version": 3
   },
   "file_extension": ".py",
   "mimetype": "text/x-python",
   "name": "python",
   "nbconvert_exporter": "python",
   "pygments_lexer": "ipython3",
   "version": "3.9.13"
  }
 },
 "nbformat": 4,
 "nbformat_minor": 5
}
