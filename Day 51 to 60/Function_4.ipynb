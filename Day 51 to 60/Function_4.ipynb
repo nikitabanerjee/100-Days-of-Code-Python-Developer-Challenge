{
 "cells": [
  {
   "cell_type": "markdown",
   "id": "df9c9a92",
   "metadata": {},
   "source": [
    "# Question 170\n",
    "## Implement a function called identity(), which takes a natural number as an argument and return an identity matrix (nested list).\n",
    "## Example:\n",
    "### [IN]: identity(2)\n",
    "### [OUT]: [[1, 0], [0, 1]]\n",
    "### [IN]: identity(3)\n",
    "### [OUT]: [[1, 0, 0], [0, 1, 0], [0, 0, 1]]\n",
    "### [IN]: identity(4)\n",
    "### [OUT]: [[1, 0, 0, 0], [0, 1, 0, 0], [0, 0, 1, 0], [0, 0, 0, 1]]\n",
    "### Note: You only need to implement this function."
   ]
  },
  {
   "cell_type": "code",
   "execution_count": 1,
   "id": "45f2ac59",
   "metadata": {},
   "outputs": [
    {
     "name": "stdout",
     "output_type": "stream",
     "text": [
      "[[1, 0], [0, 1]]\n",
      "[[1, 0, 0], [0, 1, 0], [0, 0, 1]]\n",
      "[[1, 0, 0, 0], [0, 1, 0, 0], [0, 0, 1, 0], [0, 0, 0, 1]]\n"
     ]
    }
   ],
   "source": [
    "def identity(n):\n",
    "    if n <= 0:\n",
    "        raise ValueError(\"Input must be a natural number greater than 0\")\n",
    "\n",
    "    result = [[0] * n for _ in range(n)]\n",
    "    \n",
    "    for i in range(n):\n",
    "        result[i][i] = 1\n",
    "    \n",
    "    return result\n",
    "\n",
    "# Example usage\n",
    "result1 = identity(2)\n",
    "result2 = identity(3)\n",
    "result3 = identity(4)\n",
    "\n",
    "print(result1)\n",
    "print(result2)\n",
    "print(result3)\n"
   ]
  },
  {
   "cell_type": "markdown",
   "id": "1377c540",
   "metadata": {},
   "source": [
    "# Question 171\n",
    "\n",
    "## Implement a function called fill_value() that returns a two-dimensional array of height x width and fills it with a fixed value. Arguments: height - natural number, height of the array width - natural number, width of the array                                                                                     value - the value to fill the array\n",
    "## Example:\n",
    "### [IN]: fill_value(height=2, width=3, value=255)\n",
    "### [OUT]: [[255, 255, 255], [255, 255, 255]]\n",
    "\n",
    "\n",
    "### [IN]: fill_value(4, 2, 'a')\n",
    "### [OUT]: [['a', 'a'], ['a', 'a'], ['a', 'a'], ['a', 'a']]\n",
    "\n",
    "\n",
    "### Note: You only need to implement this function.\n",
    "\n"
   ]
  },
  {
   "cell_type": "code",
   "execution_count": 2,
   "id": "b95b1838",
   "metadata": {},
   "outputs": [
    {
     "name": "stdout",
     "output_type": "stream",
     "text": [
      "[[255, 255, 255], [255, 255, 255]]\n",
      "[['a', 'a'], ['a', 'a'], ['a', 'a'], ['a', 'a']]\n"
     ]
    }
   ],
   "source": [
    "def fill_value(height, width, value):\n",
    "    if height <= 0 or width <= 0:\n",
    "        raise ValueError(\"Height and width must be natural numbers greater than 0\")\n",
    "\n",
    "    result = [[value] * width for _ in range(height)]\n",
    "    return result\n",
    "\n",
    "# Example usage\n",
    "result1 = fill_value(height=2, width=3, value=255)\n",
    "result2 = fill_value(4, 2, 'a')\n",
    "\n",
    "print(result1)\n",
    "print(result2)\n"
   ]
  },
  {
   "cell_type": "markdown",
   "id": "b13f398b",
   "metadata": {},
   "source": [
    "# Question 172\n",
    "## Implement a function called trace() that returns the trace of the matrix. The matrix must be a square matrix.   Argument: array - nested list (two-dimensional matrix)\n",
    "## Example:\n",
    "### [IN]: trace([[1]])\n",
    "### [OUT]: 1\n",
    "### [IN]: trace([[1, 2], [4, 2]])\n",
    "### [OUT]: 3\n",
    "### [IN]: trace([[3, 4, 5], [5, 2, 1], [5, 7, 2]])\n",
    "### [OUT]: 7\n",
    "### Note: You only need to implement this function."
   ]
  },
  {
   "cell_type": "code",
   "execution_count": 3,
   "id": "97c36893",
   "metadata": {},
   "outputs": [
    {
     "name": "stdout",
     "output_type": "stream",
     "text": [
      "1\n",
      "3\n",
      "7\n"
     ]
    }
   ],
   "source": [
    "def trace(matrix):\n",
    "    # Check if the matrix is square\n",
    "    if not all(len(row) == len(matrix) for row in matrix):\n",
    "        raise ValueError(\"Input matrix must be a square matrix\")\n",
    "\n",
    "    # Calculate the trace of the matrix\n",
    "    matrix_size = len(matrix)\n",
    "    trace_value = sum(matrix[i][i] for i in range(matrix_size))\n",
    "\n",
    "    return trace_value\n",
    "\n",
    "# Example usage\n",
    "result1 = trace([[1]])\n",
    "result2 = trace([[1, 2], [4, 2]])\n",
    "result3 = trace([[3, 4, 5], [5, 2, 1], [5, 7, 2]])\n",
    "\n",
    "print(result1)\n",
    "print(result2)\n",
    "print(result3)\n"
   ]
  },
  {
   "cell_type": "code",
   "execution_count": null,
   "id": "866ae2e2",
   "metadata": {},
   "outputs": [],
   "source": []
  }
 ],
 "metadata": {
  "kernelspec": {
   "display_name": "Python 3 (ipykernel)",
   "language": "python",
   "name": "python3"
  },
  "language_info": {
   "codemirror_mode": {
    "name": "ipython",
    "version": 3
   },
   "file_extension": ".py",
   "mimetype": "text/x-python",
   "name": "python",
   "nbconvert_exporter": "python",
   "pygments_lexer": "ipython3",
   "version": "3.9.13"
  }
 },
 "nbformat": 4,
 "nbformat_minor": 5
}
