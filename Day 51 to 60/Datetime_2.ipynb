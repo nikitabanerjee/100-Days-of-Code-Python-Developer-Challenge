{
 "cells": [
  {
   "cell_type": "markdown",
   "id": "1c1004a6",
   "metadata": {},
   "source": [
    "# Question 183\n",
    "## Using the built-in datetime module, the datetime class and the datetime.datetime.strftime() method format the following date: 2021-04-20 11:30:00\n",
    "## To the following formats:\n",
    "### 2021-04-20\n",
    "### 20-04-2021\n",
    "### 04-2021\n",
    "### April-2021\n",
    "### 20 April, 2021\n",
    "### 2021-04-20 11:30:00\n",
    "### 04/20/21 11:30:00\n",
    "### 20(Tue) April 2021 Then print the formatted dates to the console.\n",
    "## Expected result:\n",
    "### 2021-04-20\n",
    "### 20-04-2021\n",
    "### 04-2021\n",
    "### April-2021\n",
    "### 20 April, 2021\n",
    "### 2021-04-20 11:30:00\n",
    "### 04/20/21 11:30:00\n",
    "### 20(Tue) April 2021"
   ]
  },
  {
   "cell_type": "code",
   "execution_count": 1,
   "id": "6ddc52af",
   "metadata": {},
   "outputs": [
    {
     "name": "stdout",
     "output_type": "stream",
     "text": [
      "2021-04-20\n",
      "20-04-2021\n",
      "04-2021\n",
      "April-2021\n",
      "20 April, 2021\n",
      "2021-04-20 11:30:00\n",
      "04/20/21 11:30:00\n",
      "20(Tue) April 2021\n"
     ]
    }
   ],
   "source": [
    "from datetime import datetime\n",
    " \n",
    " \n",
    "dt1 = datetime(2021, 4, 20, 11, 30, 00)\n",
    " \n",
    " \n",
    "print(dt1.strftime('%Y-%m-%d'))\n",
    "print(dt1.strftime('%d-%m-%Y'))\n",
    "print(dt1.strftime('%m-%Y'))\n",
    "print(dt1.strftime('%B-%Y'))\n",
    "print(dt1.strftime('%d %B, %Y'))\n",
    "print(dt1.strftime('%Y-%m-%d %H:%M:%S'))\n",
    "print(dt1.strftime('%m/%d/%y %H:%M:%S'))\n",
    "print(dt1.strftime('%d(%a) %B %Y'))"
   ]
  },
  {
   "cell_type": "markdown",
   "id": "c74e7ceb",
   "metadata": {},
   "source": [
    "# Question 184\n",
    "## Using the built-in datetime module and the datetime.datetime.strptime() function, parse the following str objects:\n",
    "## date_str_1 = '3 March 1995'\n",
    "## date_str_2 = '3/9/1995'\n",
    "## date_str_3 = '21-07-2021' to datetime objects. Print the result to the console.\n",
    "## Expected result:\n",
    "### 1995-03-03 00:00:00\n",
    "### 1995-09-03 00:00:00\n",
    "### 2021-07-21 00:00:00\n"
   ]
  },
  {
   "cell_type": "code",
   "execution_count": 2,
   "id": "9a3af94c",
   "metadata": {},
   "outputs": [
    {
     "name": "stdout",
     "output_type": "stream",
     "text": [
      "1995-03-03 00:00:00\n",
      "1995-09-03 00:00:00\n",
      "2021-07-21 00:00:00\n"
     ]
    }
   ],
   "source": [
    "from datetime import datetime\n",
    " \n",
    " \n",
    "date_str_1 = '3 March 1995'\n",
    "date_str_2 = '3/9/1995'\n",
    "date_str_3 = '21-07-2021'\n",
    " \n",
    "dt1 = datetime.strptime(date_str_1, '%d %B %Y')\n",
    "dt2 = datetime.strptime(date_str_2, '%d/%m/%Y')\n",
    "dt3 = datetime.strptime(date_str_3, '%d-%m-%Y')\n",
    " \n",
    " \n",
    "print(dt1)\n",
    "print(dt2)\n",
    "print(dt3)"
   ]
  },
  {
   "cell_type": "markdown",
   "id": "2a5cc9a4",
   "metadata": {},
   "source": [
    "# Question 185\n",
    "## Using the built-in datetime module, calculate the number of days until the end of the current year.\n",
    "## Expected result:\n",
    "### 'Number of days until the end of the year: x'\n",
    "### The value of x will vary depending on the time taken to complete the exercise.\n",
    "\n"
   ]
  },
  {
   "cell_type": "code",
   "execution_count": 3,
   "id": "9a23475b",
   "metadata": {},
   "outputs": [
    {
     "name": "stdout",
     "output_type": "stream",
     "text": [
      "Number of days until the end of the year: 341\n"
     ]
    }
   ],
   "source": [
    "import datetime\n",
    " \n",
    " \n",
    "today = datetime.date.today()\n",
    "end_of_year = datetime.date(today.year, 12, 31)\n",
    "diff = (end_of_year - today).days\n",
    " \n",
    " \n",
    "print(f'Number of days until the end of the year: {diff}')"
   ]
  },
  {
   "cell_type": "code",
   "execution_count": null,
   "id": "78f75955",
   "metadata": {},
   "outputs": [],
   "source": []
  }
 ],
 "metadata": {
  "kernelspec": {
   "display_name": "Python 3 (ipykernel)",
   "language": "python",
   "name": "python3"
  },
  "language_info": {
   "codemirror_mode": {
    "name": "ipython",
    "version": 3
   },
   "file_extension": ".py",
   "mimetype": "text/x-python",
   "name": "python",
   "nbconvert_exporter": "python",
   "pygments_lexer": "ipython3",
   "version": "3.9.13"
  }
 },
 "nbformat": 4,
 "nbformat_minor": 5
}
