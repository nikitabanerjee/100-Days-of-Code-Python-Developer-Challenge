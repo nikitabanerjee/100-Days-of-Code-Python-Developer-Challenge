{
 "cells": [
  {
   "cell_type": "markdown",
   "id": "e7183df5",
   "metadata": {},
   "source": [
    "# Question 164\n",
    "## Implement a function called relu() (ReLU - Rectified Linear Unit). Note: You only need to implement this function."
   ]
  },
  {
   "cell_type": "code",
   "execution_count": 1,
   "id": "74671020",
   "metadata": {},
   "outputs": [],
   "source": [
    "def relu(x):\n",
    "    return max(0, x)"
   ]
  },
  {
   "cell_type": "markdown",
   "id": "6b41a8bf",
   "metadata": {},
   "source": [
    "# Question 165\n",
    "## The following list is given:\n",
    "### items = [\n",
    "###    [1, 2, 3],\n",
    "###    [4, 5, 6],\n",
    "###    [7, 8, 9]\n",
    "### ]\n",
    "## Implement a function called flatten(), which takes the nested list and returns the following:[1, 2, 3, 4, 5, 6, 7, 8, 9]Note: You only need to implement this function."
   ]
  },
  {
   "cell_type": "code",
   "execution_count": 2,
   "id": "4de4fc49",
   "metadata": {},
   "outputs": [
    {
     "name": "stdout",
     "output_type": "stream",
     "text": [
      "[1, 2, 3, 4, 5, 6, 7, 8, 9]\n"
     ]
    }
   ],
   "source": [
    "def flatten(items):\n",
    "    result = []\n",
    "    for item in items:\n",
    "        result.extend(item)\n",
    "    return result\n",
    "\n",
    "# Given nested list\n",
    "items = [\n",
    "    [1, 2, 3],\n",
    "    [4, 5, 6],\n",
    "    [7, 8, 9]\n",
    "]\n",
    "\n",
    "# Call the flatten function and print the result\n",
    "flattened_list = flatten(items)\n",
    "print(flattened_list)"
   ]
  },
  {
   "cell_type": "markdown",
   "id": "9d6aa81e",
   "metadata": {},
   "source": [
    "# Question 166\n",
    "## Implement a function called transfer_zeros() which takes the list as an argument and return list with all zeros at the end.\n",
    "## Example:\n",
    "### [IN]: transfer_zeros([3, 4, 0, 2, 0, 5, 1, 6, 2])\n",
    "### [OUT]: [3, 4, 2, 5, 1, 6, 2, 0, 0] Note: You only need to implement this function."
   ]
  },
  {
   "cell_type": "code",
   "execution_count": 3,
   "id": "bc3907a8",
   "metadata": {},
   "outputs": [
    {
     "name": "stdout",
     "output_type": "stream",
     "text": [
      "[3, 4, 2, 5, 1, 6, 2, 0, 0]\n"
     ]
    }
   ],
   "source": [
    "def transfer_zeros(items):\n",
    "    result = []\n",
    "    counter = 0\n",
    "    for item in items:\n",
    "        if item == 0:\n",
    "            counter += 1\n",
    "        else:\n",
    "            result.append(item)\n",
    "    result.extend([0] * counter)\n",
    "    return result\n",
    "\n",
    "# Example usage\n",
    "input_list = [3, 4, 0, 2, 0, 5, 1, 6, 2]\n",
    "output_list = transfer_zeros(input_list)\n",
    "print(output_list)"
   ]
  },
  {
   "cell_type": "code",
   "execution_count": null,
   "id": "52d2ae8f",
   "metadata": {},
   "outputs": [],
   "source": []
  }
 ],
 "metadata": {
  "kernelspec": {
   "display_name": "Python 3 (ipykernel)",
   "language": "python",
   "name": "python3"
  },
  "language_info": {
   "codemirror_mode": {
    "name": "ipython",
    "version": 3
   },
   "file_extension": ".py",
   "mimetype": "text/x-python",
   "name": "python",
   "nbconvert_exporter": "python",
   "pygments_lexer": "ipython3",
   "version": "3.9.13"
  }
 },
 "nbformat": 4,
 "nbformat_minor": 5
}
