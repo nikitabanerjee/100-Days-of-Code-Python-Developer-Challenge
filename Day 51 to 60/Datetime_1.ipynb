{
 "cells": [
  {
   "cell_type": "markdown",
   "id": "af1eb66f",
   "metadata": {},
   "source": [
    "# Question 179\n",
    "## Using the built-in datetime module, create date objects for the given dates:                     2021-01-01                                                                                                                                      31/7/21                                                                                                                                                  May 7, 1990      Then print these objects to the console.\n",
    "## Tip: >>> help(datetime.date)                                                                                                           Help on class date in module datetime:                                                                                                 class date(builtins.object)                                                                                                          date(year, month, day) --> date object\n",
    "## Expected result:\n",
    "### 2021-01-01\n",
    "### 2021-07-31\n",
    "### 1990-05-07\n"
   ]
  },
  {
   "cell_type": "code",
   "execution_count": 1,
   "id": "82cb84f2",
   "metadata": {},
   "outputs": [
    {
     "name": "stdout",
     "output_type": "stream",
     "text": [
      "2021-01-01\n",
      "2021-07-31\n",
      "1990-05-07\n"
     ]
    }
   ],
   "source": [
    "import datetime\n",
    " \n",
    " \n",
    "d1 = datetime.date(2021, 1, 1)\n",
    "d2 = datetime.date(2021, 7, 31)\n",
    "d3 = datetime.date(1990, 5, 7)\n",
    " \n",
    " \n",
    "print(d1)\n",
    "print(d2)\n",
    "print(d3)"
   ]
  },
  {
   "cell_type": "markdown",
   "id": "1907943a",
   "metadata": {},
   "source": [
    "# Question 180\n",
    "## Using the built-in datetime module, create time objects for the given hours:\n",
    "## 12:00:00\n",
    "## 6:30:00\n",
    "## 9:15:00 Then print these objects to the console.\n",
    "## Expected result:\n",
    "### 12:00:00\n",
    "### 06:30:00\n",
    "### 09:15:00\n"
   ]
  },
  {
   "cell_type": "code",
   "execution_count": 2,
   "id": "482d57d3",
   "metadata": {},
   "outputs": [
    {
     "name": "stdout",
     "output_type": "stream",
     "text": [
      "12:00:00\n",
      "06:30:00\n",
      "09:15:00\n"
     ]
    }
   ],
   "source": [
    "import datetime\n",
    " \n",
    " \n",
    "t1 = datetime.time(12, 0, 0)\n",
    "t2 = datetime.time(6, 30, 0)\n",
    "t3 = datetime.time(9, 15, 0)\n",
    " \n",
    " \n",
    "print(t1)\n",
    "print(t2)\n",
    "print(t3)"
   ]
  },
  {
   "cell_type": "markdown",
   "id": "70ced249",
   "metadata": {},
   "source": [
    "# Question 181\n",
    "## Using the built-in datetime module, create datetime objects for the given dates:\n",
    "## Jul 20 2020 11:30:00\n",
    "## 1990-03-10 12:00:00\n",
    "## 2021-01-01 00:00:00\n",
    "## Then print these objects to the console.\n",
    "## Expected result:\n",
    "### 2020-07-20 11:30:00\n",
    "### 1990-03-10 12:00:00\n",
    "### 2021-01-01 00:00:00"
   ]
  },
  {
   "cell_type": "code",
   "execution_count": 3,
   "id": "86aab245",
   "metadata": {},
   "outputs": [
    {
     "name": "stdout",
     "output_type": "stream",
     "text": [
      "2020-07-20 11:30:00\n",
      "1990-03-10 12:00:00\n",
      "2021-01-01 00:00:00\n"
     ]
    }
   ],
   "source": [
    "import datetime\n",
    " \n",
    " \n",
    "dt1 = datetime.datetime(2020, 7, 20, 11, 30, 0)\n",
    "dt2 = datetime.datetime(1990, 3, 10, 12, 0, 0)\n",
    "dt3 = datetime.datetime(2021, 1, 1, 0, 0, 0)\n",
    " \n",
    " \n",
    "print(dt1)\n",
    "print(dt2)\n",
    "print(dt3)"
   ]
  },
  {
   "cell_type": "markdown",
   "id": "e7e35393",
   "metadata": {},
   "source": [
    "# Question 182\n",
    "## Using the built-in datetime module, determine the number of days between 2020-07-21 and 2020-12-31. Then print the result to the console as shown below.\n",
    "## Expected result:\n",
    "### Number of days: 163\n"
   ]
  },
  {
   "cell_type": "code",
   "execution_count": 4,
   "id": "731b4007",
   "metadata": {},
   "outputs": [
    {
     "name": "stdout",
     "output_type": "stream",
     "text": [
      "Number of days: 163\n"
     ]
    }
   ],
   "source": [
    "import datetime\n",
    " \n",
    " \n",
    "d1 = datetime.date(2020, 7, 21)\n",
    "d2 = datetime.date(2020, 12, 31)\n",
    "diff = (d2 - d1).days\n",
    " \n",
    " \n",
    "print(f'Number of days: {diff}')"
   ]
  },
  {
   "cell_type": "code",
   "execution_count": null,
   "id": "1ec45082",
   "metadata": {},
   "outputs": [],
   "source": []
  }
 ],
 "metadata": {
  "kernelspec": {
   "display_name": "Python 3 (ipykernel)",
   "language": "python",
   "name": "python3"
  },
  "language_info": {
   "codemirror_mode": {
    "name": "ipython",
    "version": 3
   },
   "file_extension": ".py",
   "mimetype": "text/x-python",
   "name": "python",
   "nbconvert_exporter": "python",
   "pygments_lexer": "ipython3",
   "version": "3.9.13"
  }
 },
 "nbformat": 4,
 "nbformat_minor": 5
}
