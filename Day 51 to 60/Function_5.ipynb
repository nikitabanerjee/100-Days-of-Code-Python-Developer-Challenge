{
 "cells": [
  {
   "cell_type": "markdown",
   "id": "a2ec0d3f",
   "metadata": {},
   "source": [
    "# Question 173\n",
    "## Implement a function called transpose() that transposes the two-dimensional matrix (nested list). Argument: array - nested list (two-dimensional matrix)\n",
    "## Example:\n",
    "### [IN]: transpose([[1, 2, 3], [4, 5, 6]])\n",
    "### [OUT]: [[1, 4], [2, 5], [3, 6]]\n",
    "\n",
    "\n",
    "### [IN]: transpose([[1, 2], [3, 4], [5, 6]])\n",
    "### [OUT]: [[1, 3, 5], [2, 4, 6]]\n",
    "\n",
    "\n",
    "### [IN]: transpose([[1, 2, 3, 4], [5, 6, 7, 8]])\n",
    "### [OUT]: [[1, 5], [2, 6], [3, 7], [4, 8]]\n",
    "\n",
    "\n",
    "### Note: You only need to implement this function."
   ]
  },
  {
   "cell_type": "code",
   "execution_count": 1,
   "id": "08e8b719",
   "metadata": {},
   "outputs": [
    {
     "name": "stdout",
     "output_type": "stream",
     "text": [
      "[[1, 4], [2, 5], [3, 6]]\n",
      "[[1, 3, 5], [2, 4, 6]]\n",
      "[[1, 5], [2, 6], [3, 7], [4, 8]]\n"
     ]
    }
   ],
   "source": [
    "def transpose(array):\n",
    "    width = len(array[0])\n",
    "    result = []\n",
    "    for i in range(width):\n",
    "        pair = []\n",
    "        for item in array:\n",
    "            pair.append(item[i])\n",
    "        result.append(pair)\n",
    "    return result\n",
    "\n",
    "# Example usage\n",
    "result1 = transpose([[1, 2, 3], [4, 5, 6]])\n",
    "result2 = transpose([[1, 2], [3, 4], [5, 6]])\n",
    "result3 = transpose([[1, 2, 3, 4], [5, 6, 7, 8]])\n",
    "\n",
    "print(result1)\n",
    "print(result2)\n",
    "print(result3)\n"
   ]
  },
  {
   "cell_type": "markdown",
   "id": "10a48d94",
   "metadata": {},
   "source": [
    "# Question 174\n",
    "## Implement a function called max_prob() that returns the highest probability value for a given row in a two-dimensional matrix. We assume that the user passes the matrix as a nested list with non-negative elements and sum of each row equal to 1. Arguments: array - nested list (two-dimensional matrix, row adds up to one)\n",
    "## Example:\n",
    "### [IN]: max_prob([[0.3, 0.4, 0.3], [0.0, 0.1, 0.9]]) \n",
    "### [OUT]: [[0.4], [0.9]]\n",
    "### [IN]: max_prob([[0.3, 0.4, 0.2, 0.1], [0.0, 0.1, 0.7, 0.2]])   \n",
    "### [OUT]: [[0.4], [0.7]]\n",
    "### [IN]: max_prob([[0.3, 0.4, 0.2, 0.1], [0.0, 0.1, 0.7, 0.2], [0.0, 0.4, 0.3, 0.3]]) \n",
    "### [OUT]: [[0.4], [0.7], [0.4]]\n",
    "### Note: You only need to implement this function."
   ]
  },
  {
   "cell_type": "code",
   "execution_count": 2,
   "id": "99287ca0",
   "metadata": {},
   "outputs": [
    {
     "name": "stdout",
     "output_type": "stream",
     "text": [
      "[[0.4], [0.9]]\n",
      "[[0.4], [0.7]]\n",
      "[[0.4], [0.7], [0.4]]\n"
     ]
    }
   ],
   "source": [
    "def max_prob(array):\n",
    "    result = []\n",
    "    for item in array:\n",
    "        max_val = max(item)\n",
    "        for idx, val in enumerate(item):\n",
    "            if val == max_val:\n",
    "                result.append([val])\n",
    "    return result\n",
    "\n",
    "# Example usage\n",
    "result1 = max_prob([[0.3, 0.4, 0.3], [0.0, 0.1, 0.9]])\n",
    "result2 = max_prob([[0.3, 0.4, 0.2, 0.1], [0.0, 0.1, 0.7, 0.2]])\n",
    "result3 = max_prob([[0.3, 0.4, 0.2, 0.1], [0.0, 0.1, 0.7, 0.2], [0.0, 0.4, 0.3, 0.3]])\n",
    "print(result1)\n",
    "print(result2)\n",
    "print(result3)\n"
   ]
  },
  {
   "cell_type": "markdown",
   "id": "f80a7b6d",
   "metadata": {},
   "source": [
    "# Question 175\n",
    "## Using the previous exercise, implement a function called detect_class(), which in the place of the highest probability value in the row puts 1 and beyond 0 (see below). We assume that the user passes the matrix as a nested list with non-negative elements and sum in each row equal to 1. Argument: array - nested list (two-dimensional matrix, row adds up to one)\n",
    "## Example:\n",
    "### [IN]: detect_class([[0.3, 0.4, 0.2, 0.1], [0.0, 0.1, 0.7, 0.2]]) \n",
    "### [OUT]: [[0, 1, 0, 0], [0, 0, 1, 0]]\n",
    "### [IN]: detect_class([[0.3, 0.4, 0.2, 0.1], [0.0, 0.1, 0.7, 0.2], [0.0, 0.3, 0.3, 0.4]]) \n",
    "### [OUT]: [[0, 1, 0, 0], [0, 0, 1, 0], [0, 0, 0, 1]]\n",
    "### Note: You only need to implement this function."
   ]
  },
  {
   "cell_type": "code",
   "execution_count": 3,
   "id": "faabcdb7",
   "metadata": {},
   "outputs": [
    {
     "name": "stdout",
     "output_type": "stream",
     "text": [
      "[[0, 1, 0, 0], [0, 0, 1, 0]]\n",
      "[[0, 1, 0, 0], [0, 0, 1, 0], [0, 0, 0, 1]]\n"
     ]
    }
   ],
   "source": [
    "def detect_class(array):\n",
    "    result = []\n",
    "    for item in array:\n",
    "        max_val = max(item)\n",
    "        row_result = [0] * len(item)\n",
    "        for idx, val in enumerate(item):\n",
    "            if val == max_val:\n",
    "                row_result[idx] = 1\n",
    "        result.append(row_result)\n",
    "    return result\n",
    "\n",
    "# Example usage\n",
    "result1 = detect_class([[0.3, 0.4, 0.2, 0.1], [0.0, 0.1, 0.7, 0.2]])\n",
    "result2 = detect_class([[0.3, 0.4, 0.2, 0.1], [0.0, 0.1, 0.7, 0.2], [0.0, 0.3, 0.3, 0.4]])\n",
    "\n",
    "print(result1)\n",
    "print(result2)\n"
   ]
  },
  {
   "cell_type": "code",
   "execution_count": null,
   "id": "5fe9881a",
   "metadata": {},
   "outputs": [],
   "source": []
  }
 ],
 "metadata": {
  "kernelspec": {
   "display_name": "Python 3 (ipykernel)",
   "language": "python",
   "name": "python3"
  },
  "language_info": {
   "codemirror_mode": {
    "name": "ipython",
    "version": 3
   },
   "file_extension": ".py",
   "mimetype": "text/x-python",
   "name": "python",
   "nbconvert_exporter": "python",
   "pygments_lexer": "ipython3",
   "version": "3.9.13"
  }
 },
 "nbformat": 4,
 "nbformat_minor": 5
}
