{
 "cells": [
  {
   "cell_type": "markdown",
   "id": "8925aa64",
   "metadata": {},
   "source": [
    "# Question 176\n",
    "## Implement a function called dot_product() that takes two lists of the same length (vectors) and calculate the dot product. We assume that user gives a correctly defined vector.\n",
    "## Example:\n",
    "### [IN]: dot_product([1, 2], [5, 2])\n",
    "### [OUT]: 9\n",
    "### Note: You only need to implement this function."
   ]
  },
  {
   "cell_type": "code",
   "execution_count": 1,
   "id": "4aa79eca",
   "metadata": {},
   "outputs": [
    {
     "name": "stdout",
     "output_type": "stream",
     "text": [
      "9\n"
     ]
    }
   ],
   "source": [
    "def dot_product(vector1, vector2):\n",
    "    if len(vector1) != len(vector2):\n",
    "        raise ValueError(\"Both vectors must have the same length\")\n",
    "\n",
    "    result = sum(v1 * v2 for v1, v2 in zip(vector1, vector2))\n",
    "    return result\n",
    "\n",
    "# Example usage\n",
    "result = dot_product([1, 2], [5, 2])\n",
    "print(result)\n"
   ]
  },
  {
   "cell_type": "markdown",
   "id": "963b09f1",
   "metadata": {},
   "source": [
    "# Question 177\n",
    "## Implement a function called count_none() that counts all missing values in the list.\n",
    "## Example:\n",
    "### [IN]: count_none([1, None, None, 5, None, 2])\n",
    "### [OUT]: 3\n",
    "### Note: You only need to implement this function.\n",
    "\n"
   ]
  },
  {
   "cell_type": "code",
   "execution_count": 2,
   "id": "4fc93af3",
   "metadata": {},
   "outputs": [
    {
     "name": "stdout",
     "output_type": "stream",
     "text": [
      "3\n"
     ]
    }
   ],
   "source": [
    "def count_none(lst):\n",
    "    count = sum(1 for item in lst if item is None)\n",
    "    return count\n",
    "\n",
    "# Example usage\n",
    "result = count_none([1, None, None, 5, None, 2])\n",
    "print(result)\n"
   ]
  },
  {
   "cell_type": "markdown",
   "id": "a03eb4a8",
   "metadata": {},
   "source": [
    "# Question 178\n",
    "## Implement a function top_n() which extracts top n largest values from the given list. Arguments: items - list of values                                                                                                        n - top n elements to extract\n",
    "## Example:\n",
    "### [IN]: top_n([4, 5, 2, 9, 5, 2, 8, 2, 8, 10], 3)\n",
    "### [OUT]: [10, 9, 8]\n",
    "### Note: You only need to implement this function.\n",
    "\n"
   ]
  },
  {
   "cell_type": "code",
   "execution_count": 3,
   "id": "689e9b27",
   "metadata": {},
   "outputs": [
    {
     "name": "stdout",
     "output_type": "stream",
     "text": [
      "[10, 9, 8]\n"
     ]
    }
   ],
   "source": [
    "def top_n(items, n):\n",
    "    sorted_items = sorted(items, reverse=True)\n",
    "    top_n_elements = sorted_items[:n]\n",
    "    return top_n_elements\n",
    "\n",
    "# Example usage\n",
    "result = top_n([4, 5, 2, 9, 5, 2, 8, 2, 8, 10], 3)\n",
    "print(result)\n"
   ]
  },
  {
   "cell_type": "code",
   "execution_count": null,
   "id": "eec53a98",
   "metadata": {},
   "outputs": [],
   "source": []
  }
 ],
 "metadata": {
  "kernelspec": {
   "display_name": "Python 3 (ipykernel)",
   "language": "python",
   "name": "python3"
  },
  "language_info": {
   "codemirror_mode": {
    "name": "ipython",
    "version": 3
   },
   "file_extension": ".py",
   "mimetype": "text/x-python",
   "name": "python",
   "nbconvert_exporter": "python",
   "pygments_lexer": "ipython3",
   "version": "3.9.13"
  }
 },
 "nbformat": 4,
 "nbformat_minor": 5
}
