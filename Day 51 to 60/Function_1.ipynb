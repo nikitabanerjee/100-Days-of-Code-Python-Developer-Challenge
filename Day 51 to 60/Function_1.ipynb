{
 "cells": [
  {
   "cell_type": "markdown",
   "id": "4952bea9",
   "metadata": {},
   "source": [
    "# Question 161\n",
    "## Consider the problem of binary classification in machine learning. We have the following y_true list with classes from the test set and the following y_pred list with classes provided by the model:\n",
    "### y_true = [0, 0, 1, 1, 0, 1, 0]\n",
    "### y_pred = [0, 0, 1, 0, 0, 1, 0]\n",
    "## Our task is to implement a function called accuracy(), which takes two arguments y_true, y_pred and calculates the accuracy of our model. The result is rounded to four decimal places.In response, call the function on our data and print the result to the console.\n",
    "## Expected result:0.8571"
   ]
  },
  {
   "cell_type": "code",
   "execution_count": 1,
   "id": "4909b5ce",
   "metadata": {},
   "outputs": [
    {
     "name": "stdout",
     "output_type": "stream",
     "text": [
      "0.8571\n"
     ]
    }
   ],
   "source": [
    "y_true = [0, 0, 1, 1, 0, 1, 0]\n",
    "y_pred = [0, 0, 1, 0, 0, 1, 0]\n",
    " \n",
    " \n",
    "def accuracy(y_true, y_pred):\n",
    "    counter = 0\n",
    "    for i, j in zip(y_true, y_pred):\n",
    "        if i == j:\n",
    "            counter += 1\n",
    "    return round(counter / len(y_true), 4)\n",
    " \n",
    " \n",
    "print(accuracy(y_true, y_pred))"
   ]
  },
  {
   "cell_type": "markdown",
   "id": "7f26ca16",
   "metadata": {},
   "source": [
    "# Question 162\n",
    "## MAE - Mean Absolute Error is a function that allows you to check the accuracy of the machine learning model. MAE is popular in regression models.\n",
    "## Example:\n",
    "### [IN]: y_true = [10, 10.5, 11.2, 10.4]\n",
    "### [IN]: y_pred = [10.2, 10.4, 10.8, 11.0]\n",
    "### [IN]: mae(y_true, y_pred)\n",
    "### [OUT]: 0.325\n",
    "## Implement a function called mae(). Round the result to three decimal places.Note: You only need to implement this function."
   ]
  },
  {
   "cell_type": "code",
   "execution_count": 2,
   "id": "50a822ac",
   "metadata": {},
   "outputs": [
    {
     "name": "stdout",
     "output_type": "stream",
     "text": [
      "0.325\n"
     ]
    }
   ],
   "source": [
    "def mae(y_true, y_pred):\n",
    "    # Check if the input lists have the same length\n",
    "    if len(y_true) != len(y_pred):\n",
    "        raise ValueError(\"Input lists must have the same length\")\n",
    "\n",
    "    # Calculate the absolute differences between true and predicted values\n",
    "    absolute_errors = [abs(true - pred) for true, pred in zip(y_true, y_pred)]\n",
    "\n",
    "    # Calculate the mean of absolute errors\n",
    "    mean_absolute_error = sum(absolute_errors) / len(y_true)\n",
    "\n",
    "    # Round the result to three decimal places\n",
    "    rounded_mae = round(mean_absolute_error, 3)\n",
    "\n",
    "    return rounded_mae\n",
    "\n",
    "# Example usage\n",
    "y_true = [10, 10.5, 11.2, 10.4]\n",
    "y_pred = [10.2, 10.4, 10.8, 11.0]\n",
    "result = mae(y_true, y_pred)\n",
    "print(result)\n"
   ]
  },
  {
   "cell_type": "markdown",
   "id": "dcac5db2",
   "metadata": {},
   "source": [
    "# Question 163\n",
    "## MSE - Mean Squared Error is a function that allows you to check the accuracy of the machine learning model. MSE is popular in regression models.\n",
    "## Example:\n",
    "### [IN]: y_true = [10, 10.5, 11.2, 10.4]\n",
    "### [IN]: y_pred = [10.2, 10.4, 10.8, 11.0]\n",
    "### [IN]: mse(y_true, y_pred)   \n",
    "### [OUT]: 0.142\n",
    "## Implement a function called mse(). Round the result to three decimal places.Note: You only need to implement this function."
   ]
  },
  {
   "cell_type": "code",
   "execution_count": 3,
   "id": "c227f513",
   "metadata": {},
   "outputs": [
    {
     "name": "stdout",
     "output_type": "stream",
     "text": [
      "0.142\n"
     ]
    }
   ],
   "source": [
    "def mse(y_true, y_pred):\n",
    "    # Check if the input lists have the same length\n",
    "    if len(y_true) != len(y_pred):\n",
    "        raise ValueError(\"Input lists must have the same length\")\n",
    "\n",
    "    # Calculate the squared differences between true and predicted values\n",
    "    squared_errors = [(true - pred)**2 for true, pred in zip(y_true, y_pred)]\n",
    "\n",
    "    # Calculate the mean of squared errors\n",
    "    mean_squared_error = sum(squared_errors) / len(y_true)\n",
    "\n",
    "    # Round the result to three decimal places\n",
    "    rounded_mse = round(mean_squared_error, 3)\n",
    "\n",
    "    return rounded_mse\n",
    "\n",
    "# Example usage\n",
    "y_true = [10, 10.5, 11.2, 10.4]\n",
    "y_pred = [10.2, 10.4, 10.8, 11.0]\n",
    "result = mse(y_true, y_pred)\n",
    "print(result)\n"
   ]
  },
  {
   "cell_type": "code",
   "execution_count": null,
   "id": "d82698cb",
   "metadata": {},
   "outputs": [],
   "source": []
  }
 ],
 "metadata": {
  "kernelspec": {
   "display_name": "Python 3 (ipykernel)",
   "language": "python",
   "name": "python3"
  },
  "language_info": {
   "codemirror_mode": {
    "name": "ipython",
    "version": 3
   },
   "file_extension": ".py",
   "mimetype": "text/x-python",
   "name": "python",
   "nbconvert_exporter": "python",
   "pygments_lexer": "ipython3",
   "version": "3.9.13"
  }
 },
 "nbformat": 4,
 "nbformat_minor": 5
}
