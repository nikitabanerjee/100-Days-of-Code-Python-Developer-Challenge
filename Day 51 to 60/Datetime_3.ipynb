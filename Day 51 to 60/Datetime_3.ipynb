{
 "cells": [
  {
   "cell_type": "markdown",
   "id": "475e1a2b",
   "metadata": {},
   "source": [
    "# Question 186\n",
    "## Using the built-in datetime module, the date and timedelta classes from the given date 2020-01-01 00:00:00 get the date: shifted by 7 days shifted by 30 days shifted by 30 hours shifted by 15 minutes\n",
    "## Expected result:\n",
    "### 2020-01-08 00:00:00\n",
    "### 2020-01-31 00:00:00\n",
    "### 2020-01-02 06:00:00\n",
    "### 2020-01-01 00:15:00\n"
   ]
  },
  {
   "cell_type": "code",
   "execution_count": 1,
   "id": "2ad6068f",
   "metadata": {},
   "outputs": [
    {
     "name": "stdout",
     "output_type": "stream",
     "text": [
      "2020-01-08 00:00:00\n",
      "2020-01-31 00:00:00\n",
      "2020-01-02 06:00:00\n",
      "2020-01-01 00:15:00\n"
     ]
    }
   ],
   "source": [
    "import datetime\n",
    " \n",
    " \n",
    "dt = datetime.datetime(2020, 1, 1)\n",
    " \n",
    " \n",
    "print(dt + datetime.timedelta(days=7))\n",
    "print(dt + datetime.timedelta(days=30))\n",
    "print(dt + datetime.timedelta(hours=30))\n",
    "print(dt + datetime.timedelta(minutes=15))"
   ]
  },
  {
   "cell_type": "markdown",
   "id": "0223b962",
   "metadata": {},
   "source": [
    "# Question 187\n",
    "## Using the built-in datetime module, datetime and timedelta classes, create the given list of dates:\n",
    "## [\n",
    "##    datetime.datetime(2020, 1, 1, 0, 0),\n",
    "##    datetime.datetime(2020, 1, 1, 8, 0),\n",
    "##    datetime.datetime(2020, 1, 1, 16, 0),\n",
    "##    datetime.datetime(2020, 1, 2, 0, 0),\n",
    "##    datetime.datetime(2020, 1, 2, 8, 0),\n",
    "##    datetime.datetime(2020, 1, 2, 16, 0),\n",
    "##    datetime.datetime(2020, 1, 3, 0, 0),\n",
    "##    datetime.datetime(2020, 1, 3, 8, 0),\n",
    "##    datetime.datetime(2020, 1, 3, 16, 0),\n",
    "##    datetime.datetime(2020, 1, 4, 0, 0),\n",
    "##    datetime.datetime(2020, 1, 4, 8, 0),\n",
    "##    datetime.datetime(2020, 1, 4, 16, 0),\n",
    "## ] and assign to variable dates. Dates start from 2020-01-01 00:00:00, end on 2020-01-04 16:00:00 and differ by 8h. Then print each date to the console.\n",
    "## Expected result:\n",
    "### 2020-01-01 00:00:00\n",
    "### 2020-01-01 08:00:00\n",
    "### 2020-01-01 16:00:00\n",
    "### 2020-01-02 00:00:00\n",
    "### 2020-01-02 08:00:00\n",
    "### 2020-01-02 16:00:00\n",
    "### 2020-01-03 00:00:00\n",
    "### 2020-01-03 08:00:00\n",
    "### 2020-01-03 16:00:00\n",
    "### 2020-01-04 00:00:00\n",
    "### 2020-01-04 08:00:00\n",
    "### 2020-01-04 16:00:00"
   ]
  },
  {
   "cell_type": "code",
   "execution_count": 2,
   "id": "cf24d1f0",
   "metadata": {},
   "outputs": [
    {
     "name": "stdout",
     "output_type": "stream",
     "text": [
      "2020-01-01 00:00:00\n",
      "2020-01-01 08:00:00\n",
      "2020-01-01 16:00:00\n",
      "2020-01-02 00:00:00\n",
      "2020-01-02 08:00:00\n",
      "2020-01-02 16:00:00\n",
      "2020-01-03 00:00:00\n",
      "2020-01-03 08:00:00\n",
      "2020-01-03 16:00:00\n",
      "2020-01-04 00:00:00\n",
      "2020-01-04 08:00:00\n",
      "2020-01-04 16:00:00\n"
     ]
    }
   ],
   "source": [
    "import datetime\n",
    " \n",
    " \n",
    "dt = datetime.datetime(2020, 1, 1)\n",
    "delta = datetime.timedelta(hours=8)\n",
    "dates = [dt + i * delta for i in range(12)]\n",
    " \n",
    "for date in dates:\n",
    "    print(date)"
   ]
  },
  {
   "cell_type": "markdown",
   "id": "baa42ce6",
   "metadata": {},
   "source": [
    "# Question 188\n",
    "## Using the built-in datetime module calculate the future value of the investment (present value) of USD 1000 with an annual interest rate of 4% (rate) and daily compound capitalization of interest, assuming the duration of the investment from 2021-07-01 to 2021-12-31. For calculations, assume that the year has 365 days.\n",
    "## Print the future value to the console as shown below.\n",
    "## Expected result: Future value: dollar 1020.26\n"
   ]
  },
  {
   "cell_type": "code",
   "execution_count": 3,
   "id": "8d5b0452",
   "metadata": {},
   "outputs": [
    {
     "name": "stdout",
     "output_type": "stream",
     "text": [
      "Future value: $ 1020.26\n"
     ]
    }
   ],
   "source": [
    "import datetime\n",
    " \n",
    " \n",
    "rate = 0.04\n",
    "pv = 1000\n",
    " \n",
    "daily_rate = rate / 365.0\n",
    "d1 = datetime.date(2021, 7, 1)\n",
    "d2 = datetime.date(2021, 12, 31)\n",
    "duration = d2 - d1\n",
    "fv = pv * (1 + daily_rate) ** duration.days\n",
    " \n",
    " \n",
    "print(f'Future value: $ {fv:.2f}')"
   ]
  },
  {
   "cell_type": "code",
   "execution_count": null,
   "id": "b3d5b510",
   "metadata": {},
   "outputs": [],
   "source": []
  }
 ],
 "metadata": {
  "kernelspec": {
   "display_name": "Python 3 (ipykernel)",
   "language": "python",
   "name": "python3"
  },
  "language_info": {
   "codemirror_mode": {
    "name": "ipython",
    "version": 3
   },
   "file_extension": ".py",
   "mimetype": "text/x-python",
   "name": "python",
   "nbconvert_exporter": "python",
   "pygments_lexer": "ipython3",
   "version": "3.9.13"
  }
 },
 "nbformat": 4,
 "nbformat_minor": 5
}
