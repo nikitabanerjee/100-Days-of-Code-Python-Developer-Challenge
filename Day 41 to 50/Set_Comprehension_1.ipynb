{
 "cells": [
  {
   "cell_type": "markdown",
   "id": "6bb8fb83",
   "metadata": {},
   "source": [
    "# Question 129\n",
    "## Consider the two-roll of the dice. Create the probability space (omega) and count the probability of getting a sum of points higher than 10. Use set comprehension.\n",
    "## Expected result: Probability: 0.08\n"
   ]
  },
  {
   "cell_type": "code",
   "execution_count": 1,
   "id": "b2886742",
   "metadata": {},
   "outputs": [
    {
     "name": "stdout",
     "output_type": "stream",
     "text": [
      "Probability: 0.08\n"
     ]
    }
   ],
   "source": [
    "omega = {(i, j) for i in range(1, 7) for j in range(1, 7)}\n",
    "sum_gt_10 = {pair for pair in omega if pair[0] + pair[1] > 10}\n",
    " \n",
    " \n",
    "print(f'Probability: {len(sum_gt_10) / len(omega):.2f}')"
   ]
  },
  {
   "cell_type": "markdown",
   "id": "03a17176",
   "metadata": {},
   "source": [
    "# Question 130\n",
    "## The following text is given: desc = \"Playway: Playway is a producer of computer games.\" Change all characters to lowercase, remove the colon, period and then split the text into words. Create a set of unique words and print the length of this set to the console.\n",
    "## Expected result: 7"
   ]
  },
  {
   "cell_type": "code",
   "execution_count": 2,
   "id": "120a0201",
   "metadata": {},
   "outputs": [
    {
     "name": "stdout",
     "output_type": "stream",
     "text": [
      "7\n"
     ]
    }
   ],
   "source": [
    "desc = \"Playway: Playway is a producer of computer games.\"\n",
    " \n",
    "word_list = desc.lower().replace(':', '').replace('.', '').split()\n",
    "word_unique = {word for word in word_list}\n",
    " \n",
    " \n",
    "print(len(word_unique))"
   ]
  },
  {
   "cell_type": "markdown",
   "id": "72876949",
   "metadata": {},
   "source": [
    "# Question 131\n",
    "## Consider the two-roll of the dice. Create the probability space (omega) and calculate the probability of getting a sum of squares higher or equal to 45. Use set comprehension. Round the result to two decimal places and print the result to the console as shown below.\n",
    "## Expected result: Probability: 0.22"
   ]
  },
  {
   "cell_type": "code",
   "execution_count": 3,
   "id": "f476dcd7",
   "metadata": {},
   "outputs": [
    {
     "name": "stdout",
     "output_type": "stream",
     "text": [
      "Probability: 0.22\n"
     ]
    }
   ],
   "source": [
    "omega = {(x, y) for x in range(1, 7) for y in range(1, 7)}\n",
    "a = {(x, y) for x, y in omega if x**2 + y**2 >= 45}\n",
    "prob = round(len(a) / len(omega), 2)\n",
    " \n",
    " \n",
    "print(f'Probability: {prob}')"
   ]
  },
  {
   "cell_type": "code",
   "execution_count": null,
   "id": "094c6fe5",
   "metadata": {},
   "outputs": [],
   "source": []
  }
 ],
 "metadata": {
  "kernelspec": {
   "display_name": "Python 3 (ipykernel)",
   "language": "python",
   "name": "python3"
  },
  "language_info": {
   "codemirror_mode": {
    "name": "ipython",
    "version": 3
   },
   "file_extension": ".py",
   "mimetype": "text/x-python",
   "name": "python",
   "nbconvert_exporter": "python",
   "pygments_lexer": "ipython3",
   "version": "3.9.13"
  }
 },
 "nbformat": 4,
 "nbformat_minor": 5
}
