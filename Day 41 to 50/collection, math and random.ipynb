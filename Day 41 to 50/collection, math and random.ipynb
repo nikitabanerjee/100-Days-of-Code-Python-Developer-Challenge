{
 "cells": [
  {
   "cell_type": "markdown",
   "id": "4f046498",
   "metadata": {},
   "source": [
    "# Question 155\n",
    "## Using the collections built-in package, create a Counter class object that counts the frequency of items in the following list: items = ['YES', 'NO', 'NO', 'YES', 'EMPTY', 'YES', 'NO'] Print the result to the console.\n",
    "## Expected result: Counter({'YES': 3, 'NO': 3, 'EMPTY': 1})\n"
   ]
  },
  {
   "cell_type": "code",
   "execution_count": 1,
   "id": "65353917",
   "metadata": {},
   "outputs": [
    {
     "name": "stdout",
     "output_type": "stream",
     "text": [
      "Counter({'YES': 3, 'NO': 3, 'EMPTY': 1})\n"
     ]
    }
   ],
   "source": [
    "from collections import Counter\n",
    " \n",
    " \n",
    "counter = Counter()\n",
    "items = ['YES', 'NO', 'NO', 'YES', 'EMPTY', 'YES', 'NO']\n",
    "for item in items:\n",
    "    counter[item] += 1\n",
    " \n",
    " \n",
    "print(counter)"
   ]
  },
  {
   "cell_type": "markdown",
   "id": "614c6556",
   "metadata": {},
   "source": [
    "# Question 156\n",
    "## Using the math built-in module, implement the function called sigmoid() expressed by the formula\n",
    "## Note: All you have to do is implement the function.\n",
    "\n"
   ]
  },
  {
   "cell_type": "code",
   "execution_count": 2,
   "id": "8a17ab27",
   "metadata": {},
   "outputs": [],
   "source": [
    "import math\n",
    " \n",
    " \n",
    "def sigmoid(x):\n",
    "    return 1 / (1 + math.exp(-x))"
   ]
  },
  {
   "cell_type": "markdown",
   "id": "4adae72a",
   "metadata": {},
   "source": [
    "# Question 157\n",
    "## Using the random built-in module set the random seed as follows:random.seed(12) And select randomly (pseudo-randomly) an item from the list below:items = ['python', 'java', 'sql', 'c++', 'c'] Print the result to the console.\n",
    "## Expected result:c++"
   ]
  },
  {
   "cell_type": "code",
   "execution_count": 3,
   "id": "c9e3e872",
   "metadata": {},
   "outputs": [
    {
     "name": "stdout",
     "output_type": "stream",
     "text": [
      "c++\n"
     ]
    }
   ],
   "source": [
    "import random\n",
    " \n",
    " \n",
    "random.seed(12)\n",
    " \n",
    "items = ['python', 'java', 'sql', 'c++', 'c']\n",
    "choice = random.choice(items)\n",
    " \n",
    " \n",
    "print(choice)"
   ]
  },
  {
   "cell_type": "code",
   "execution_count": null,
   "id": "fece6848",
   "metadata": {},
   "outputs": [],
   "source": []
  }
 ],
 "metadata": {
  "kernelspec": {
   "display_name": "Python 3 (ipykernel)",
   "language": "python",
   "name": "python3"
  },
  "language_info": {
   "codemirror_mode": {
    "name": "ipython",
    "version": 3
   },
   "file_extension": ".py",
   "mimetype": "text/x-python",
   "name": "python",
   "nbconvert_exporter": "python",
   "pygments_lexer": "ipython3",
   "version": "3.9.13"
  }
 },
 "nbformat": 4,
 "nbformat_minor": 5
}
