{
 "cells": [
  {
   "cell_type": "markdown",
   "id": "3f4f9080",
   "metadata": {},
   "source": [
    "# Question 147\n",
    "## The following list of indexes is given:indeks = ['WIG20', 'mWIG40', 'sWIG80'] and a list of properties for each index: properties = ['number of companies', 'companies', 'cap'] Using dict comprehension, create the following dictionary:\n",
    "## {'WIG20': {'cap': None, 'companies': None, 'number of companies': None},\n",
    "## 'mWIG40': {'cap': None, 'companies': None, 'number of companies': None},\n",
    "## 'sWIG80': {'cap': None, 'companies': None, 'number of companies': None}} Set the default value of each property to None and print the result to the console.\n",
    "## Expected result: {'WIG20': {'number of companies': None, 'companies': None, 'cap': None}, 'mWIG40': {'number of companies': None, 'companies': None, 'cap': None}, 'sWIG80': {'number of companies': None, 'companies': None, 'cap': None}}\n"
   ]
  },
  {
   "cell_type": "code",
   "execution_count": 1,
   "id": "1e21bfac",
   "metadata": {},
   "outputs": [
    {
     "name": "stdout",
     "output_type": "stream",
     "text": [
      "{'WIG20': {'number of companies': None, 'companies': None, 'cap': None}, 'mWIG40': {'number of companies': None, 'companies': None, 'cap': None}, 'sWIG80': {'number of companies': None, 'companies': None, 'cap': None}}\n"
     ]
    }
   ],
   "source": [
    "properties = ['number of companies', 'companies', 'cap']\n",
    "indeks = ['WIG20', 'mWIG40', 'sWIG80']\n",
    " \n",
    "data = {idx: {i: None for i in properties} for idx in indeks}\n",
    " \n",
    " \n",
    "print(data)"
   ]
  },
  {
   "cell_type": "markdown",
   "id": "eaad8d06",
   "metadata": {},
   "source": [
    "# Question 148\n",
    "## The following list is given: indexes = ['WIG20', 'mWIG40', 'sWIG80'] Using dict comprehension, convert the above list into the following dictionary: {0: 'WIG20', 1: 'mWIG40', 2: 'sWIG80'} Print the result to the console.\n",
    "\n"
   ]
  },
  {
   "cell_type": "code",
   "execution_count": 2,
   "id": "6f26b330",
   "metadata": {},
   "outputs": [
    {
     "name": "stdout",
     "output_type": "stream",
     "text": [
      "{0: 'WIG20', 1: 'mWIG40', 2: 'sWIG80'}\n"
     ]
    }
   ],
   "source": [
    "indexes = ['WIG20', 'mWIG40', 'sWIG80']\n",
    " \n",
    "data = {key: val for key, val in enumerate(indexes)}\n",
    " \n",
    " \n",
    "print(data)"
   ]
  },
  {
   "cell_type": "code",
   "execution_count": null,
   "id": "b2c30495",
   "metadata": {},
   "outputs": [],
   "source": []
  }
 ],
 "metadata": {
  "kernelspec": {
   "display_name": "Python 3 (ipykernel)",
   "language": "python",
   "name": "python3"
  },
  "language_info": {
   "codemirror_mode": {
    "name": "ipython",
    "version": 3
   },
   "file_extension": ".py",
   "mimetype": "text/x-python",
   "name": "python",
   "nbconvert_exporter": "python",
   "pygments_lexer": "ipython3",
   "version": "3.9.13"
  }
 },
 "nbformat": 4,
 "nbformat_minor": 5
}
