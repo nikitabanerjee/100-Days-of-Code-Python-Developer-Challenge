{
 "cells": [
  {
   "cell_type": "markdown",
   "id": "23447116",
   "metadata": {},
   "source": [
    "# Question 152\n",
    "## Using the built-in module for regular expressions, find all email addresses in the following text:raw_text = \"Send an email to info@template.com or sales-info@template.it                    Print the result to the console.\n",
    "### Tip: Use the findall() function and the regular expression '[\\w\\.-]+@[\\w\\.-]+'\n",
    "## Expected result:['info@template.com', 'sales-info@template.it']\n"
   ]
  },
  {
   "cell_type": "code",
   "execution_count": 1,
   "id": "5128fcb0",
   "metadata": {},
   "outputs": [
    {
     "name": "stdout",
     "output_type": "stream",
     "text": [
      "['info@template.com', 'sales-info@template.it']\n"
     ]
    }
   ],
   "source": [
    "import re\n",
    " \n",
    " \n",
    "raw_text = \"Send an email to info@template.com or sales-info@template.it\"\n",
    "result = re.findall(r\"[\\w\\.-]+@[\\w\\.-]+\", raw_text)\n",
    "print(result)"
   ]
  },
  {
   "cell_type": "markdown",
   "id": "87522dd0",
   "metadata": {},
   "source": [
    "# Question 153\n",
    "## Using the built-in module for regular expressions, split the following text by whitespace (spaces): text = 'Programming in Python - from A to Z' Print the result to the console.\n",
    "### Tip: Use the re.split() function and the regular expression '\\s+'.\n",
    "## Expected result:['Programming', 'in', 'Python', '-', 'from', 'A', 'to', 'Z']\n"
   ]
  },
  {
   "cell_type": "code",
   "execution_count": 2,
   "id": "8592c21f",
   "metadata": {},
   "outputs": [
    {
     "name": "stdout",
     "output_type": "stream",
     "text": [
      "['Programming', 'in', 'Python', '-', 'from', 'A', 'to', 'Z']\n"
     ]
    }
   ],
   "source": [
    "import re\n",
    " \n",
    " \n",
    "text = 'Programming in Python - from A to Z'\n",
    "result = re.split(pattern=r\"\\s+\", string=text)\n",
    " \n",
    " \n",
    "print(result)"
   ]
  },
  {
   "cell_type": "markdown",
   "id": "14a388a0",
   "metadata": {},
   "source": [
    "# Question 154\n",
    "## Using the string built-in module, print a string of lowercase and uppercase letters to the console.\n",
    "\n",
    "## Expected result:abcdefghijklmnopqrstuvwxyzABCDEFGHIJKLMNOPQRSTUVWXYZ\n"
   ]
  },
  {
   "cell_type": "code",
   "execution_count": 3,
   "id": "8bdbb42b",
   "metadata": {},
   "outputs": [
    {
     "name": "stdout",
     "output_type": "stream",
     "text": [
      "abcdefghijklmnopqrstuvwxyzABCDEFGHIJKLMNOPQRSTUVWXYZ\n"
     ]
    }
   ],
   "source": [
    "import string\n",
    " \n",
    " \n",
    "print(string.ascii_letters)"
   ]
  },
  {
   "cell_type": "code",
   "execution_count": null,
   "id": "5240f880",
   "metadata": {},
   "outputs": [],
   "source": []
  }
 ],
 "metadata": {
  "kernelspec": {
   "display_name": "Python 3 (ipykernel)",
   "language": "python",
   "name": "python3"
  },
  "language_info": {
   "codemirror_mode": {
    "name": "ipython",
    "version": 3
   },
   "file_extension": ".py",
   "mimetype": "text/x-python",
   "name": "python",
   "nbconvert_exporter": "python",
   "pygments_lexer": "ipython3",
   "version": "3.9.13"
  }
 },
 "nbformat": 4,
 "nbformat_minor": 5
}
