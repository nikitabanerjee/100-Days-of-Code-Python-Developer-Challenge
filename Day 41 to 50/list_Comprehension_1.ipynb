{
 "cells": [
  {
   "cell_type": "markdown",
   "id": "dc6e2568",
   "metadata": {},
   "source": [
    "# Question 135\n",
    "## The gaming.txt file is attached to this exercise. This file has been loaded into the text variable. From the text list delete all newline characters. Then delete empty lines and print the text to the console.\n",
    "### text before:\n",
    "### ['Activision Blizzard\\n',\n",
    "### '\\n',\n",
    "### 'Activision Blizzard, Inc. is a developer and publisher of interactive entertainment content and services. The Company develops and distributes content and services across various gaming platforms,\\n',\n",
    "### 'including video game consoles, personal computers (PC) and mobile devices. Its segments include Activision Publishing, Inc. (Activision), Blizzard Entertainment, Inc. (Blizzard),\\n',\n",
    "### 'King Digital Entertainment (King) and Other. Activision is a developer and publisher of interactive software products and content. Blizzard is engaged in developing and publishing of interactive\\n',\n",
    "### 'software products and entertainment content, particularly in PC gaming. King is a mobile entertainment company. It is engaged in other businesses, including The Major League Gaming (MLG) business;\\n',\n",
    "### 'The Activision Blizzard Studios (Studios) business, and The Activision Blizzard Distribution (Distribution) business. It also develops products spanning other genres, including action/adventure,\\n',\n",
    "### 'role-playing and simulation.']\n",
    "### text after:\n",
    "### ['Activision Blizzard',\n",
    "### 'Activision Blizzard, Inc. is a developer and publisher of interactive entertainment content and services. The Company develops and distributes content and services across various gaming platforms,',\n",
    "### 'including video game consoles, personal computers (PC) and mobile devices. Its segments include Activision Publishing, Inc. (Activision), Blizzard Entertainment, Inc. (Blizzard),',\n",
    "### 'King Digital Entertainment (King) and Other. Activision is a developer and publisher of interactive software products and content. Blizzard is engaged in developing and publishing of interactive',\n",
    "### 'software products and entertainment content, particularly in PC gaming. King is a mobile entertainment company. It is engaged in other businesses, including The Major League Gaming (MLG) business;',\n",
    "### 'The Activision Blizzard Studios (Studios) business, and The Activision Blizzard Distribution (Distribution) business. It also develops products spanning other genres, including action/adventure,',\n",
    "### 'role-playing and simulation.']\n",
    "## Expected result:\n",
    "### ['Activision Blizzard', 'Activision Blizzard, Inc. is a developer and publisher of interactive entertainment content and services. The Company develops and distributes content and services across various gaming platforms,', 'including video game consoles, personal computers (PC) and mobile devices. Its segments include Activision Publishing, Inc. (Activision), Blizzard Entertainment, Inc. (Blizzard),', 'King Digital Entertainment (King) and Other. Activision is a developer and publisher of interactive software products and content. Blizzard is engaged in developing and publishing of interactive', 'software products and entertainment content, particularly in PC gaming. King is a mobile entertainment company. It is engaged in other businesses, including The Major League Gaming (MLG) business;', 'The Activision Blizzard Studios (Studios) business, and The Activision Blizzard Distribution (Distribution) business. It also develops products spanning other genres, including action/adventure,', 'role-playing and simulation.']\n"
   ]
  },
  {
   "cell_type": "code",
   "execution_count": 1,
   "id": "101d779d",
   "metadata": {},
   "outputs": [],
   "source": [
    "# with open('gaming.txt','r') as file:\n",
    "#     text = file.readlines()\n",
    " \n",
    "# text = [line.replace('\\n', '') for line in text]\n",
    "# text = [line for line in text if len(line) > 0]\n",
    " \n",
    " \n",
    "# print(text)"
   ]
  },
  {
   "cell_type": "markdown",
   "id": "04fc1a60",
   "metadata": {},
   "source": [
    "# Question 136\n",
    "## The list of product prices is given: net_price = [5.5, 4.0, 9.0, 10.0] The VAT for these products is equal to 23%: tax = 0.23 Using the list comprehension, calculate the gross price for each product. Round the price to two decimal places and print result to the console.\n",
    "## Expected result: [6.76, 4.92, 11.07, 12.3]\n"
   ]
  },
  {
   "cell_type": "code",
   "execution_count": 2,
   "id": "a626fb68",
   "metadata": {},
   "outputs": [
    {
     "name": "stdout",
     "output_type": "stream",
     "text": [
      "[6.76, 4.92, 11.07, 12.3]\n"
     ]
    }
   ],
   "source": [
    "tax = 0.23\n",
    "net_price = [5.5, 4.0, 9.0, 10.0]\n",
    " \n",
    "gross_price = [round(price * (1 + tax), 2) for price in net_price]\n",
    " \n",
    " \n",
    "print(gross_price)"
   ]
  },
  {
   "cell_type": "markdown",
   "id": "d04d397c",
   "metadata": {},
   "source": [
    "# Question 137\n",
    "## The present value - pv and the investment period - n are given below: pv = 1000 n = 10 Depending on the interest rates given below, calculate the future value fv of your investment: rate = [0.01, 0.02, 0.03, 0.04, 0.05, 0.06, 0.07] Round the result to the full cent and print the result to the console.\n",
    "## Expected result:[1104.62, 1218.99, 1343.92, 1480.24, 1628.89, 1790.85, 1967.15]"
   ]
  },
  {
   "cell_type": "code",
   "execution_count": 3,
   "id": "4a2d95c0",
   "metadata": {},
   "outputs": [
    {
     "name": "stdout",
     "output_type": "stream",
     "text": [
      "[1104.62, 1218.99, 1343.92, 1480.24, 1628.89, 1790.85, 1967.15]\n"
     ]
    }
   ],
   "source": [
    "pv = 1000\n",
    "n = 10\n",
    "rate = [0.01, 0.02, 0.03, 0.04, 0.05, 0.06, 0.07]\n",
    " \n",
    "fvs = [round(pv * (1 + r)**n, 2) for r in rate]\n",
    " \n",
    " \n",
    "print(fvs)"
   ]
  },
  {
   "cell_type": "code",
   "execution_count": null,
   "id": "994dfb79",
   "metadata": {},
   "outputs": [],
   "source": []
  }
 ],
 "metadata": {
  "kernelspec": {
   "display_name": "Python 3 (ipykernel)",
   "language": "python",
   "name": "python3"
  },
  "language_info": {
   "codemirror_mode": {
    "name": "ipython",
    "version": 3
   },
   "file_extension": ".py",
   "mimetype": "text/x-python",
   "name": "python",
   "nbconvert_exporter": "python",
   "pygments_lexer": "ipython3",
   "version": "3.9.13"
  }
 },
 "nbformat": 4,
 "nbformat_minor": 5
}
