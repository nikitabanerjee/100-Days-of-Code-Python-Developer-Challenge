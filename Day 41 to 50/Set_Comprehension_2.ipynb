{
 "cells": [
  {
   "cell_type": "markdown",
   "id": "8f62117d",
   "metadata": {},
   "source": [
    "# Question 132\n",
    "## Consider a three-roll of the dice. Create the probability space (omega) and calculate the probability of obtaining three values which the sum is divisible by 7. Use set comprehension. Round the result to two decimal places and print the result to the console as shown below.\n",
    "## Expected result: Probability: 0.14"
   ]
  },
  {
   "cell_type": "code",
   "execution_count": 1,
   "id": "a023d937",
   "metadata": {},
   "outputs": [
    {
     "name": "stdout",
     "output_type": "stream",
     "text": [
      "Probability: 0.14\n"
     ]
    }
   ],
   "source": [
    "omega = {\n",
    "    (x, y, z)\n",
    "    for x in range(1, 7)\n",
    "    for y in range(1, 7)\n",
    "    for z in range(1, 7)\n",
    "}\n",
    "a = {(x, y, z) for x, y, z in omega if (x + y + z) % 7 == 0}\n",
    "prob = round(len(a) / len(omega), 2)\n",
    " \n",
    " \n",
    "print(f'Probability: {prob}')"
   ]
  },
  {
   "cell_type": "markdown",
   "id": "6daf62ca",
   "metadata": {},
   "source": [
    "# Question 133\n",
    "## Calculate the probability that in three throws of symmetrical cubic dice, the sum of the squares of points will be divisible by 3. Use set comprehension. Round the result to the fourth decimal place and print the result to the console as shown below.\n",
    "## Expected result: Probability: x.xxxx\n"
   ]
  },
  {
   "cell_type": "code",
   "execution_count": 2,
   "id": "9ddce8c6",
   "metadata": {},
   "outputs": [
    {
     "name": "stdout",
     "output_type": "stream",
     "text": [
      "Probability: 0.3333\n"
     ]
    }
   ],
   "source": [
    "omega = {\n",
    "    (x, y, z)\n",
    "    for x in range(1, 7)\n",
    "    for y in range(1, 7)\n",
    "    for z in range(1, 7)\n",
    "}\n",
    "a = {\n",
    "    (x, y, z)\n",
    "    for x, y, z in omega\n",
    "    if (x**2 + y**2 + z**2) % 3 == 0\n",
    "}\n",
    "prob = round(len(a) / len(omega), 4)\n",
    " \n",
    " \n",
    "print(f'Probability: {prob}')"
   ]
  },
  {
   "cell_type": "markdown",
   "id": "190435f1",
   "metadata": {},
   "source": [
    "# Question 134\n",
    "## We roll the symmetrical dice three times. Calculate the probability of the following:- odd number of points in each roll. Use set comprehension. Round the result to three decimal places and print to the console as shown below.\n",
    "## Expected result: Probability: 0.125"
   ]
  },
  {
   "cell_type": "code",
   "execution_count": 3,
   "id": "ed40c043",
   "metadata": {},
   "outputs": [
    {
     "name": "stdout",
     "output_type": "stream",
     "text": [
      "Probability: 0.125\n"
     ]
    }
   ],
   "source": [
    "omega = {\n",
    "    (x, y, z)\n",
    "    for x in range(1, 7)\n",
    "    for y in range(1, 7)\n",
    "    for z in range(1, 7)\n",
    "}\n",
    "a = {\n",
    "    (x, y, z)\n",
    "    for x, y, z in omega\n",
    "    if x % 2 != 0 and y % 2 != 0 and z % 2 != 0\n",
    "}\n",
    "prob = round(len(a) / len(omega), 4)\n",
    " \n",
    " \n",
    "print(f'Probability: {prob}')"
   ]
  },
  {
   "cell_type": "code",
   "execution_count": null,
   "id": "b4eb155a",
   "metadata": {},
   "outputs": [],
   "source": []
  }
 ],
 "metadata": {
  "kernelspec": {
   "display_name": "Python 3 (ipykernel)",
   "language": "python",
   "name": "python3"
  },
  "language_info": {
   "codemirror_mode": {
    "name": "ipython",
    "version": 3
   },
   "file_extension": ".py",
   "mimetype": "text/x-python",
   "name": "python",
   "nbconvert_exporter": "python",
   "pygments_lexer": "ipython3",
   "version": "3.9.13"
  }
 },
 "nbformat": 4,
 "nbformat_minor": 5
}
