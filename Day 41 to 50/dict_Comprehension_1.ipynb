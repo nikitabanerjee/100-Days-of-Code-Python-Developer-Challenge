{
 "cells": [
  {
   "cell_type": "markdown",
   "id": "3f4f9080",
   "metadata": {},
   "source": [
    "# Question 141\n",
    "## The following dictionary is given:data = dict(zip(('a', 'b', 'c', 'd', 'e', 'f'),(1, 2, 3, 4, 5, 6))) Convert this dictionary into the following list and print the result to the console.\n",
    "## Expected result:[['a', 1], ['b', 2], ['c', 3], ['d', 4], ['e', 5], ['f', 6]]\n"
   ]
  },
  {
   "cell_type": "code",
   "execution_count": 1,
   "id": "1e21bfac",
   "metadata": {},
   "outputs": [
    {
     "name": "stdout",
     "output_type": "stream",
     "text": [
      "[['a', 1], ['b', 2], ['c', 3], ['d', 4], ['e', 5], ['f', 6]]\n"
     ]
    }
   ],
   "source": [
    "data = dict(zip(('a', 'b', 'c', 'd', 'e', 'f'),(1, 2, 3, 4, 5, 6)))\n",
    "result = [[key, val] for key, val in data.items()]\n",
    " \n",
    " \n",
    "print(result)"
   ]
  },
  {
   "cell_type": "markdown",
   "id": "eaad8d06",
   "metadata": {},
   "source": [
    "# Question 142\n",
    "## Using dict comprehension, create a dictionary that maps the numbers 1 to 7 into squares and print the result to the console.\n",
    "## Expected result:{1: 1, 2: 4, 3: 9, 4: 16, 5: 25, 6: 36, 7: 49}\n"
   ]
  },
  {
   "cell_type": "code",
   "execution_count": 2,
   "id": "6f26b330",
   "metadata": {},
   "outputs": [
    {
     "name": "stdout",
     "output_type": "stream",
     "text": [
      "{1: 1, 2: 4, 3: 9, 4: 16, 5: 25, 6: 36, 7: 49}\n"
     ]
    }
   ],
   "source": [
    "result = {i:i**2 for i in range(1, 8)}\n",
    " \n",
    " \n",
    "print(result)"
   ]
  },
  {
   "cell_type": "markdown",
   "id": "262ccdec",
   "metadata": {},
   "source": [
    "# Question 143\n",
    "## The following list is given: stocks = ['Playway', 'CD Projekt', 'Boombit']                              Use dict comprehension to build a dictionary that maps company names to the number of characters of its name and print the result to the console.\n",
    "## Expected result: {'Playway': 7, 'CD Projekt': 10, 'Boombit': 7}\n"
   ]
  },
  {
   "cell_type": "code",
   "execution_count": 3,
   "id": "2f80e3fc",
   "metadata": {},
   "outputs": [
    {
     "name": "stdout",
     "output_type": "stream",
     "text": [
      "{'Playway': 7, 'CD Projekt': 10, 'Boombit': 7}\n"
     ]
    }
   ],
   "source": [
    "stocks = ['Playway', 'CD Projekt', 'Boombit']\n",
    " \n",
    "result = {name: len(name) for name in stocks}\n",
    " \n",
    " \n",
    "print(result)"
   ]
  },
  {
   "cell_type": "code",
   "execution_count": null,
   "id": "b2c30495",
   "metadata": {},
   "outputs": [],
   "source": []
  }
 ],
 "metadata": {
  "kernelspec": {
   "display_name": "Python 3 (ipykernel)",
   "language": "python",
   "name": "python3"
  },
  "language_info": {
   "codemirror_mode": {
    "name": "ipython",
    "version": 3
   },
   "file_extension": ".py",
   "mimetype": "text/x-python",
   "name": "python",
   "nbconvert_exporter": "python",
   "pygments_lexer": "ipython3",
   "version": "3.9.13"
  }
 },
 "nbformat": 4,
 "nbformat_minor": 5
}
