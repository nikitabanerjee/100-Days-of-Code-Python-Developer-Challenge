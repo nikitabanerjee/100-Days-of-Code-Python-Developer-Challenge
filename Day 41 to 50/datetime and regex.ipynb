{
 "cells": [
  {
   "cell_type": "markdown",
   "id": "ec95e3d9",
   "metadata": {},
   "source": [
    "# Question 149\n",
    "## Using the datetime built-in module, calculate the difference for dates (date 2 - date 1):    date 1: 2020-06-01                                                                                                                           date 2: 2020-07-18\n",
    "## Print the result to the console as shown below.\n",
    "## Expected result: 47 days, 0:00:00"
   ]
  },
  {
   "cell_type": "code",
   "execution_count": 1,
   "id": "44c57525",
   "metadata": {},
   "outputs": [
    {
     "name": "stdout",
     "output_type": "stream",
     "text": [
      "47 days, 0:00:00\n"
     ]
    }
   ],
   "source": [
    "from datetime import date\n",
    " \n",
    " \n",
    "date1 = date(2020, 6, 1)\n",
    "date2 = date(2020, 7, 18)\n",
    "diff = date2 - date1\n",
    " \n",
    " \n",
    "print(diff)"
   ]
  },
  {
   "cell_type": "markdown",
   "id": "71f9d3b5",
   "metadata": {},
   "source": [
    "# Question 150\n",
    "## Using the built-in module for regular expressions, find all digits in the following text: string = 'Python 3.8' Print the result to the console.\n",
    "### Tip: Use the findall() function and the regular expression '\\d'\n",
    "## Expected result: ['3', '8']"
   ]
  },
  {
   "cell_type": "code",
   "execution_count": 2,
   "id": "cf181630",
   "metadata": {},
   "outputs": [
    {
     "name": "stdout",
     "output_type": "stream",
     "text": [
      "['3', '8']\n"
     ]
    }
   ],
   "source": [
    "import re\n",
    " \n",
    " \n",
    "string = 'Python 3.8'\n",
    "result = re.findall(pattern=r\"\\d\", string=string)\n",
    " \n",
    " \n",
    "print(result)"
   ]
  },
  {
   "cell_type": "markdown",
   "id": "152cb067",
   "metadata": {},
   "source": [
    "# Question 151\n",
    "## Using the built-in module for regular expressions, find all alphanumeric characters in the following text:string = '!@#$%^&45wc'Print the result to the console.\n",
    "### Tip: Use the findall() function and the regular expression '\\w'\n",
    "## Expected result:['4', '5', 'w', 'c']"
   ]
  },
  {
   "cell_type": "code",
   "execution_count": 3,
   "id": "694d30b1",
   "metadata": {},
   "outputs": [
    {
     "name": "stdout",
     "output_type": "stream",
     "text": [
      "['4', '5', 'w', 'c']\n"
     ]
    }
   ],
   "source": [
    "import re\n",
    " \n",
    " \n",
    "string = '!@#$%^&45wc'\n",
    "result = re.findall(pattern=r\"\\w\", string=string)\n",
    " \n",
    " \n",
    "print(result)"
   ]
  },
  {
   "cell_type": "code",
   "execution_count": null,
   "id": "af8da592",
   "metadata": {},
   "outputs": [],
   "source": []
  }
 ],
 "metadata": {
  "kernelspec": {
   "display_name": "Python 3 (ipykernel)",
   "language": "python",
   "name": "python3"
  },
  "language_info": {
   "codemirror_mode": {
    "name": "ipython",
    "version": 3
   },
   "file_extension": ".py",
   "mimetype": "text/x-python",
   "name": "python",
   "nbconvert_exporter": "python",
   "pygments_lexer": "ipython3",
   "version": "3.9.13"
  }
 },
 "nbformat": 4,
 "nbformat_minor": 5
}
