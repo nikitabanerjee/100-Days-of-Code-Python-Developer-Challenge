{
 "cells": [
  {
   "cell_type": "markdown",
   "id": "3f4f9080",
   "metadata": {},
   "source": [
    "# Question 138\n",
    "## The present value - pv and the investment period - n are given below: pv = 1000 n = 10 Depending on the interest rates given below, calculate the value of interest on investments: rate = [0.01, 0.02, 0.03, 0.04, 0.05, 0.06, 0.07] Round the result to the full cent and print the result to the console.\n",
    "## Expected result:[104.62, 218.99, 343.92, 480.24, 628.89, 790.85, 967.15]"
   ]
  },
  {
   "cell_type": "code",
   "execution_count": 1,
   "id": "1e21bfac",
   "metadata": {},
   "outputs": [
    {
     "name": "stdout",
     "output_type": "stream",
     "text": [
      "[104.62, 218.99, 343.92, 480.24, 628.89, 790.85, 967.15]\n"
     ]
    }
   ],
   "source": [
    "pv = 1000\n",
    "n = 10\n",
    "rate = [0.01, 0.02, 0.03, 0.04, 0.05, 0.06, 0.07]\n",
    "\n",
    "fvs = [pv * (1 + r)**n for r in rate]\n",
    "interest = [round(fv - pv, 2) for fv in fvs]\n",
    " \n",
    " \n",
    "print(interest)"
   ]
  },
  {
   "cell_type": "markdown",
   "id": "eaad8d06",
   "metadata": {},
   "source": [
    "# Question 139\n",
    "## The contents of the file plw.txt were loaded as follows:\n",
    "### with open('plw.txt', 'r') as file:\n",
    "###    lines = file.read().splitlines()\n",
    "### lines variable:\n",
    "### ['PLAYWAY',\n",
    "### '',\n",
    "### 'PlayWay is a producer and publisher of computer and mobile games. The company is characterized by a very large number of development teams and a large number of games produced simultaneously.',\n",
    "### \"PlayWay sells, among others via the STEAM portal, AppStore and GooglePlay. The US and German markets are the two largest markets for the Group's sales.\",\n",
    "### 'In addition, the company has PlayWay Campus - a campus for cooperating development teams.']\n",
    "### Tasks to perform:\n",
    "### 1. Get rid of blank lines.\n",
    "### 2. Split each line into tokens/words as shown below and print result to the console.\n",
    "### Formatted result:\n",
    "### [['PLAYWAY'],\n",
    "### ['PlayWay',\n",
    "###  'is',\n",
    "###  'a',\n",
    "###  'producer',\n",
    "###  'and',\n",
    "###  'publisher',\n",
    "###  'of',\n",
    "###  'computer',\n",
    "###  'and',\n",
    "###  'mobile',\n",
    "###  'games.',\n",
    "###  'The',\n",
    "###  'company',\n",
    "###  'is',\n",
    "###  'characterized',\n",
    "###  'by',\n",
    "###  'a',\n",
    "###  'very',\n",
    "###  'large',\n",
    "###  'number',\n",
    "###  'of',\n",
    "###  'development',\n",
    "###  'teams',\n",
    "###  'and',\n",
    "###  'a',\n",
    "###  'large',\n",
    "###  'number',\n",
    "###  'of',\n",
    "###  'games',\n",
    "###  'produced',\n",
    "###  'simultaneously.'],\n",
    "### ['PlayWay',\n",
    "###  'sells,',\n",
    "###  'among',\n",
    "###  'others',\n",
    "###  'via',\n",
    "###  'the',\n",
    "###  'STEAM',\n",
    "###  'portal,',\n",
    "###  'AppStore',\n",
    "###  'and',\n",
    "###  'GooglePlay.',\n",
    "###  'The',\n",
    "###  'US',\n",
    "###  'and',\n",
    "###  'German',\n",
    "###  'markets',\n",
    "###  'are',\n",
    "###  'the',\n",
    "###  'two',\n",
    "###  'largest',\n",
    "###  'markets',\n",
    "###  'for',\n",
    "###  'the',\n",
    "###  \"Group's\",\n",
    "###  'sales.'],\n",
    "### ['In',\n",
    "###  'addition,',\n",
    "###  'the',\n",
    "###  'company',\n",
    "###  'has',\n",
    "###  'PlayWay',\n",
    "###  'Campus',\n",
    "###  '-',\n",
    "###  'a',\n",
    "###  'campus',\n",
    "###  'for',\n",
    "###  'cooperating',\n",
    "###  'development',\n",
    "###  'teams.']]\n",
    "## Expected result:\n",
    "## [['PLAYWAY'], ['PlayWay', 'is', 'a', 'producer', 'and', 'publisher', 'of', 'computer', 'and', 'mobile', 'games.', 'The', 'company', 'is', 'characterized', 'by', 'a', 'very', 'large', 'number', 'of', 'development', 'teams', 'and', 'a', 'large', 'number', 'of', 'games', 'produced', 'simultaneously.'], ['PlayWay', 'sells,', 'among', 'others', 'via', 'the', 'STEAM', 'portal,', 'AppStore', 'and', 'GooglePlay.', 'The', 'US', 'and', 'German', 'markets', 'are', 'the', 'two', 'largest', 'markets', 'for', 'the', \"Group's\", 'sales.'], ['In', 'addition,', 'the', 'company', 'has', 'PlayWay', 'Campus', '-', 'a', 'campus', 'for', 'cooperating', 'development', 'teams.']]"
   ]
  },
  {
   "cell_type": "code",
   "execution_count": 2,
   "id": "6f26b330",
   "metadata": {},
   "outputs": [],
   "source": [
    "# with open('plw.txt', 'r') as file:\n",
    "#     lines = file.read().splitlines()\n",
    "# lines = [line for line in lines if len(line) > 0]\n",
    "# lines = [line.split() for line in lines]\n",
    " \n",
    " \n",
    "# print(lines)"
   ]
  },
  {
   "cell_type": "markdown",
   "id": "262ccdec",
   "metadata": {},
   "source": [
    "# Question 140\n",
    "## The contents of the file plw.txt were loaded as follows:\n",
    "## with open('plw.txt', 'r') as file:\n",
    "##    lines = file.read()\n",
    "## lines variable:\n",
    "### \"PLAYWAY\\n\\nPlayWay is a producer and publisher of computer and mobile games. The company is characterized by a very large number of development teams and a large number of games produced simultaneously.\\nPlayWay sells, among others via the STEAM portal, AppStore and GooglePlay. The US and German markets are the two largest markets for the Group's sales.\\nIn addition, the company has PlayWay Campus - a campus for cooperating development teams.\"\n",
    "## Tasks to perform:\n",
    "## 1. Change uppercase letters to lowercase\n",
    "\n",
    "## 2. Remove commas and periods\n",
    "\n",
    "## 3. Split the text into tokens\n",
    "\n",
    "## 4. Extract words with minimum 8 characters length\n",
    "\n",
    "## 5. Sort the words alphabetically\n",
    "## Print the result to the console.\n",
    "## Expected result:['addition', 'appstore', 'characterized', 'computer', 'cooperating', 'development', 'development', 'googleplay', 'produced', 'producer', 'publisher', 'simultaneously']\n"
   ]
  },
  {
   "cell_type": "code",
   "execution_count": 3,
   "id": "2f80e3fc",
   "metadata": {},
   "outputs": [],
   "source": [
    "# with open('plw.txt', 'r') as file:\n",
    "#     lines = file.read()\n",
    " \n",
    "# lines = lines.lower()\n",
    "# lines = lines.replace(',', '').replace('.', '')\n",
    "# tokens = lines.split()\n",
    "# tokens = [token for token in tokens if len(token) > 7]\n",
    "# tokens.sort()\n",
    " \n",
    " \n",
    "# print(tokens)"
   ]
  },
  {
   "cell_type": "code",
   "execution_count": null,
   "id": "b2c30495",
   "metadata": {},
   "outputs": [],
   "source": []
  }
 ],
 "metadata": {
  "kernelspec": {
   "display_name": "Python 3 (ipykernel)",
   "language": "python",
   "name": "python3"
  },
  "language_info": {
   "codemirror_mode": {
    "name": "ipython",
    "version": 3
   },
   "file_extension": ".py",
   "mimetype": "text/x-python",
   "name": "python",
   "nbconvert_exporter": "python",
   "pygments_lexer": "ipython3",
   "version": "3.9.13"
  }
 },
 "nbformat": 4,
 "nbformat_minor": 5
}
