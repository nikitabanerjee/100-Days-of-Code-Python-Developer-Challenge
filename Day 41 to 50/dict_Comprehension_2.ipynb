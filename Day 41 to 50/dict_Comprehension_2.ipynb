{
 "cells": [
  {
   "cell_type": "markdown",
   "id": "3f4f9080",
   "metadata": {},
   "source": [
    "# Question 144\n",
    "## The following dictionary is given:stocks = {'Boombit': '001', 'CD Projekt': '002', 'Playway': '003'} Use dict comprehension to replace values with keys and print the result to the console.\n",
    "## Expected result:{'001': 'Boombit', '002': 'CD Projekt', '003': 'Playway'}\n"
   ]
  },
  {
   "cell_type": "code",
   "execution_count": 1,
   "id": "1e21bfac",
   "metadata": {},
   "outputs": [
    {
     "name": "stdout",
     "output_type": "stream",
     "text": [
      "{'001': 'Boombit', '002': 'CD Projekt', '003': 'Playway'}\n"
     ]
    }
   ],
   "source": [
    "stocks = {'Boombit': '001', 'CD Projekt': '002', 'Playway': '003'}\n",
    "result = {value:key for key, value in stocks.items()}\n",
    " \n",
    " \n",
    "print(result)"
   ]
  },
  {
   "cell_type": "markdown",
   "id": "eaad8d06",
   "metadata": {},
   "source": [
    "# Question 145\n",
    "## The following dictionary is given: stocks = {'Boombit': 22, 'CD Projekt': 295, 'Playway': 350} Using dict comprehension, extract a key: value pair from the dictionary with a value greater than 100 and print the result to the console.\n",
    "## Expected result: {'CD Projekt': 295, 'Playway': 350}\n"
   ]
  },
  {
   "cell_type": "code",
   "execution_count": 2,
   "id": "6f26b330",
   "metadata": {},
   "outputs": [
    {
     "name": "stdout",
     "output_type": "stream",
     "text": [
      "{'CD Projekt': 295, 'Playway': 350}\n"
     ]
    }
   ],
   "source": [
    "stocks = {'Boombit': 22, 'CD Projekt': 295, 'Playway': 350}\n",
    "result = {key:val for key, val in stocks.items() if val > 100}\n",
    " \n",
    " \n",
    "print(result)"
   ]
  },
  {
   "cell_type": "markdown",
   "id": "262ccdec",
   "metadata": {},
   "source": [
    "# Question 146\n",
    "## Create a list consisting of dictionaries mapping consecutive digits from 1 to 9 inclusive to their respective k-th powers, for k = 1, 2, 3. Print the result to the console as shown below. Formatted result:\n",
    "## [{1: 1, 2: 2, 3: 3, 4: 4, 5: 5, 6: 6, 7: 7, 8: 8, 9: 9},\n",
    "## {1: 1, 2: 4, 3: 9, 4: 16, 5: 25, 6: 36, 7: 49, 8: 64, 9: 81},\n",
    "## {1: 1, 2: 8, 3: 27, 4: 64, 5: 125, 6: 216, 7: 343, 8: 512, 9: 729}]\n",
    "## Expected result:\n",
    "## [{1: 1, 2: 2, 3: 3, 4: 4, 5: 5, 6: 6, 7: 7, 8: 8, 9: 9}, {1: 1, 2: 4, 3: 9, 4: 16, 5: 25, 6: 36, 7: 49, 8: 64, 9: 81}, {1: 1, 2: 8, 3: 27, 4: 64, 5: 125, 6: 216, 7: 343, 8: 512, 9: 729}]\n"
   ]
  },
  {
   "cell_type": "code",
   "execution_count": 3,
   "id": "2f80e3fc",
   "metadata": {},
   "outputs": [
    {
     "name": "stdout",
     "output_type": "stream",
     "text": [
      "[{1: 1, 2: 2, 3: 3, 4: 4, 5: 5, 6: 6, 7: 7, 8: 8, 9: 9}, {1: 1, 2: 4, 3: 9, 4: 16, 5: 25, 6: 36, 7: 49, 8: 64, 9: 81}, {1: 1, 2: 8, 3: 27, 4: 64, 5: 125, 6: 216, 7: 343, 8: 512, 9: 729}]\n"
     ]
    }
   ],
   "source": [
    "data = [{i: i**j for i in range(1, 10)} for j in range(1, 4)]\n",
    " \n",
    " \n",
    "print(data)"
   ]
  },
  {
   "cell_type": "code",
   "execution_count": null,
   "id": "b2c30495",
   "metadata": {},
   "outputs": [],
   "source": []
  }
 ],
 "metadata": {
  "kernelspec": {
   "display_name": "Python 3 (ipykernel)",
   "language": "python",
   "name": "python3"
  },
  "language_info": {
   "codemirror_mode": {
    "name": "ipython",
    "version": 3
   },
   "file_extension": ".py",
   "mimetype": "text/x-python",
   "name": "python",
   "nbconvert_exporter": "python",
   "pygments_lexer": "ipython3",
   "version": "3.9.13"
  }
 },
 "nbformat": 4,
 "nbformat_minor": 5
}
