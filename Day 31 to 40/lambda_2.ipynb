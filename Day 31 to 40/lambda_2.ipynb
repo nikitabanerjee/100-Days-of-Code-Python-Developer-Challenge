{
 "cells": [
  {
   "cell_type": "markdown",
   "id": "df33ec64",
   "metadata": {},
   "source": [
    "# Question 120\n",
    "## The following list is given: items = [(3, 4), (2, 5), (1, 4), (6, 1)] Sort the list by the growing sum of squares of numbers in each tuple. Use the sort() method and the lambda expression and print sorted list to the console.\n",
    "### Expected result: [(1, 4), (3, 4), (2, 5), (6, 1)]"
   ]
  },
  {
   "cell_type": "code",
   "execution_count": 1,
   "id": "17c549f1",
   "metadata": {},
   "outputs": [
    {
     "name": "stdout",
     "output_type": "stream",
     "text": [
      "[(1, 4), (3, 4), (2, 5), (6, 1)]\n"
     ]
    }
   ],
   "source": [
    "items = [(3, 4), (2, 5), (1, 4), (6, 1)]\n",
    " \n",
    "items.sort(key=lambda item: item[0]**2 + item[1]**2)\n",
    " \n",
    " \n",
    "print(items)"
   ]
  },
  {
   "cell_type": "markdown",
   "id": "792f1593",
   "metadata": {},
   "source": [
    "# Question 121\n",
    "## Sort the given list of dictionaries by price key:\n",
    "### stocks = [{'index': 'mWIG40', 'name': 'TEN', 'price': 304}, {'index': 'mWIG40', 'name': 'PLW', 'price': 309}, {'index': 'sWIG80', 'name': 'BBT', 'price': 22}] Print sorted list to the console.\n",
    "### Formatted result: [{'index': 'sWIG80', 'name': 'BBT', 'price': 22}, {'index': 'mWIG40', 'name': 'TEN', 'price': 304}, {'index': 'mWIG40', 'name': 'PLW', 'price': 309}]\n",
    "\n",
    "## Expected result: [{'index': 'sWIG80', 'name': 'BBT', 'price': 22}, {'index': 'mWIG40', 'name': 'TEN', 'price': 304}, {'index': 'mWIG40', 'name': 'PLW', 'price': 309}]\n"
   ]
  },
  {
   "cell_type": "code",
   "execution_count": 2,
   "id": "eb593186",
   "metadata": {},
   "outputs": [
    {
     "name": "stdout",
     "output_type": "stream",
     "text": [
      "[{'index': 'sWIG80', 'name': 'BBT', 'price': 22}, {'index': 'mWIG40', 'name': 'TEN', 'price': 304}, {'index': 'mWIG40', 'name': 'PLW', 'price': 309}]\n"
     ]
    }
   ],
   "source": [
    "stocks = [\n",
    "    {'index': 'mWIG40', 'name': 'TEN', 'price': 304},\n",
    "    {'index': 'mWIG40', 'name': 'PLW', 'price': 309},\n",
    "    {'index': 'sWIG80', 'name': 'BBT', 'price': 22}\n",
    "]\n",
    "stocks.sort(key=lambda item: item['price'])\n",
    " \n",
    " \n",
    "print(stocks)"
   ]
  },
  {
   "cell_type": "markdown",
   "id": "77f388c3",
   "metadata": {},
   "source": [
    "# Question 122\n",
    "## The following list is given:\n",
    "### stocks = [{'index': 'mWIG40', 'name': 'TEN', 'price': 304}, {'index': 'mWIG40', 'name': 'PLW', 'price': 309}, {'index': 'sWIG80', 'name': 'BBT', 'price': 22}] Extract companies from the 'mWIG40' index and print the result to the console.\n",
    "### Formatted result: [{'index': 'mWIG40', 'name': 'TEN', 'price': 304}, {'index': 'mWIG40', 'name': 'PLW', 'price': 309}]\n",
    "## Expected result: [{'index': 'mWIG40', 'name': 'TEN', 'price': 304}, {'index': 'mWIG40', 'name': 'PLW', 'price': 309}]\n"
   ]
  },
  {
   "cell_type": "code",
   "execution_count": 3,
   "id": "0a83c5c4",
   "metadata": {},
   "outputs": [
    {
     "name": "stdout",
     "output_type": "stream",
     "text": [
      "[{'index': 'mWIG40', 'name': 'TEN', 'price': 304}, {'index': 'mWIG40', 'name': 'PLW', 'price': 309}]\n"
     ]
    }
   ],
   "source": [
    "stocks = [\n",
    "    {'index': 'mWIG40', 'name': 'TEN', 'price': 304},\n",
    "    {'index': 'mWIG40', 'name': 'PLW', 'price': 309},\n",
    "    {'index': 'sWIG80', 'name': 'BBT', 'price': 22}\n",
    "]\n",
    "print(list(filter(lambda item: item['index'] == 'mWIG40', stocks)))"
   ]
  },
  {
   "cell_type": "code",
   "execution_count": null,
   "id": "3b13290c",
   "metadata": {},
   "outputs": [],
   "source": []
  }
 ],
 "metadata": {
  "kernelspec": {
   "display_name": "Python 3 (ipykernel)",
   "language": "python",
   "name": "python3"
  },
  "language_info": {
   "codemirror_mode": {
    "name": "ipython",
    "version": 3
   },
   "file_extension": ".py",
   "mimetype": "text/x-python",
   "name": "python",
   "nbconvert_exporter": "python",
   "pygments_lexer": "ipython3",
   "version": "3.9.13"
  }
 },
 "nbformat": 4,
 "nbformat_minor": 5
}
