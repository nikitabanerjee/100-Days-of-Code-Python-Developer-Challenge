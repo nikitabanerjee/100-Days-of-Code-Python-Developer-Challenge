{
 "cells": [
  {
   "cell_type": "markdown",
   "id": "ff429129",
   "metadata": {},
   "source": [
    "# Question 99\n",
    "## The variable x: x = -1.5 and the following expression are given: expression = 'x**2 + x' Using the appropriate function, calculate the value of this expression and print the result to the console. Tip: Use the eval() function.\n",
    "\n",
    "\n",
    "\n",
    "## Expected result: 0.75\n"
   ]
  },
  {
   "cell_type": "code",
   "execution_count": 1,
   "id": "70cddcad",
   "metadata": {},
   "outputs": [
    {
     "name": "stdout",
     "output_type": "stream",
     "text": [
      "0.75\n"
     ]
    }
   ],
   "source": [
    "x = -1.5\n",
    "expression = 'x**2 + x'\n",
    " \n",
    " \n",
    "print(eval(expression))"
   ]
  },
  {
   "cell_type": "markdown",
   "id": "5b25ba8a",
   "metadata": {},
   "source": [
    "# Question 100\n",
    "## The following variables are given:\n",
    "### var1 = 'Python'\n",
    "### var2 = ('Python')\n",
    "### var3 = ('Python',)\n",
    "### var4 = ['Python']\n",
    "### var5 = {'Python'}\n",
    "## Using the appropriate function, check if the variables are instances of tuple class. Print the result to the console as shown below. Tip: Use the isinstance() built-in function.\n",
    "\n",
    "## Expected result:\n",
    "### False\n",
    "### False\n",
    "### True\n",
    "### False\n",
    "### False\n"
   ]
  },
  {
   "cell_type": "code",
   "execution_count": 2,
   "id": "2815e8b1",
   "metadata": {},
   "outputs": [
    {
     "name": "stdout",
     "output_type": "stream",
     "text": [
      "False\n",
      "False\n",
      "True\n",
      "False\n",
      "False\n"
     ]
    }
   ],
   "source": [
    "var1 = 'Python'\n",
    "var2 = ('Python')\n",
    "var3 = ('Python',)\n",
    "var4 = ['Python']\n",
    "var5 = {'Python'}\n",
    "\n",
    "print(isinstance(var1, tuple))\n",
    "print(isinstance(var2, tuple))\n",
    "print(isinstance(var3, tuple))\n",
    "print(isinstance(var4, tuple))\n",
    "print(isinstance(var5, tuple))"
   ]
  },
  {
   "cell_type": "markdown",
   "id": "4fb51bfe",
   "metadata": {},
   "source": [
    "# Question 101\n",
    "## The following list is given: characters = ['k', 'b', 'c', 'j', 'z', 'w'] Using the built-in functions, return the first and the last letter in alphabetical order from this list and print the result to the console as shown below. Tip: Use the min() and max() functions.\n",
    "\n",
    "\n",
    "\n",
    "## Expected result: First: b  Last: z\n",
    " "
   ]
  },
  {
   "cell_type": "code",
   "execution_count": 3,
   "id": "265558e2",
   "metadata": {},
   "outputs": [
    {
     "name": "stdout",
     "output_type": "stream",
     "text": [
      "First: b\n",
      "Last: z\n"
     ]
    }
   ],
   "source": [
    "characters = ['k', 'b', 'c', 'j', 'z', 'w']\n",
    "print(f'First: {min(characters)}')\n",
    "print(f'Last: {max(characters)}')"
   ]
  },
  {
   "cell_type": "code",
   "execution_count": null,
   "id": "d0f7dc0b",
   "metadata": {},
   "outputs": [],
   "source": []
  }
 ],
 "metadata": {
  "kernelspec": {
   "display_name": "Python 3 (ipykernel)",
   "language": "python",
   "name": "python3"
  },
  "language_info": {
   "codemirror_mode": {
    "name": "ipython",
    "version": 3
   },
   "file_extension": ".py",
   "mimetype": "text/x-python",
   "name": "python",
   "nbconvert_exporter": "python",
   "pygments_lexer": "ipython3",
   "version": "3.9.13"
  }
 },
 "nbformat": 4,
 "nbformat_minor": 5
}
