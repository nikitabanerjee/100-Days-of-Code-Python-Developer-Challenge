{
 "cells": [
  {
   "cell_type": "markdown",
   "id": "e752f9b8",
   "metadata": {},
   "source": [
    "# Question 111\n",
    "## Implement a function count_str(), which returns the number of str objects in an iterable object (list, tuple, set). Example: [IN]: count_str(['p', 2, 4.3, None]) [OUT]: 1 [IN]: count_str({'p', 2, 4.3, True, 'True', None}) [OUT]: 2 Note! You only need to define the function."
   ]
  },
  {
   "cell_type": "code",
   "execution_count": 1,
   "id": "bf9ac7ec",
   "metadata": {},
   "outputs": [],
   "source": [
    "def count_str(items):\n",
    "    total = 0\n",
    "    for item in items:\n",
    "        if isinstance(item, str):\n",
    "            total += 1\n",
    "    return total"
   ]
  },
  {
   "cell_type": "markdown",
   "id": "f7e41806",
   "metadata": {},
   "source": [
    "# Question 112\n",
    "## Implement a function count_str(), which returns the number of str objects with a length more than 2 characters from an iterable object (list, tuple, set). Example: [IN]: count_str([1, '#hello', '', 'python', 'go']) [OUT]: 2 [IN]: count_str([1, 2, 3, 'python']) [OUT]: 1 Note! You only need to define the function.\n"
   ]
  },
  {
   "cell_type": "code",
   "execution_count": 2,
   "id": "3c56ba0f",
   "metadata": {},
   "outputs": [],
   "source": [
    "def count_str(items):\n",
    "    total = 0\n",
    "    for item in items:\n",
    "        if isinstance(item, str):\n",
    "            if len(item) > 2:\n",
    "                total += 1\n",
    "    return total"
   ]
  },
  {
   "cell_type": "markdown",
   "id": "7a3b3c23",
   "metadata": {},
   "source": [
    "# Question 113\n",
    "## Implement a function remove_duplicates() that removes duplicates from the list (the order of the items in the list does not have to be kept). Example: [IN]: remove_duplicates([1, 5, 3, 2, 2, 4, 2, 4]) [OUT]: [1, 2, 3, 4, 5] [IN]: remove_duplicates([1, 1, 1, 1]) [OUT]: [1] Note! You only need to define the function. "
   ]
  },
  {
   "cell_type": "code",
   "execution_count": 3,
   "id": "b845c55f",
   "metadata": {},
   "outputs": [],
   "source": [
    "def remove_duplicates(items):\n",
    "    return list(set(items))\n"
   ]
  },
  {
   "cell_type": "code",
   "execution_count": null,
   "id": "e4c096ab",
   "metadata": {},
   "outputs": [],
   "source": []
  }
 ],
 "metadata": {
  "kernelspec": {
   "display_name": "Python 3 (ipykernel)",
   "language": "python",
   "name": "python3"
  },
  "language_info": {
   "codemirror_mode": {
    "name": "ipython",
    "version": 3
   },
   "file_extension": ".py",
   "mimetype": "text/x-python",
   "name": "python",
   "nbconvert_exporter": "python",
   "pygments_lexer": "ipython3",
   "version": "3.9.13"
  }
 },
 "nbformat": 4,
 "nbformat_minor": 5
}
