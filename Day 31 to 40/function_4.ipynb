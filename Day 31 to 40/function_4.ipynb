{
 "cells": [
  {
   "cell_type": "markdown",
   "id": "49eea203",
   "metadata": {},
   "source": [
    "# Question 114\n",
    "## Implement a function is_distinct() to check if the list contains unique values. Example: [IN]: is_distinct([1, 2, 3]) [OUT]: True [IN]: is_distinct([1, 2, 3, 3]) [OUT]: False Note! You only need to define the function."
   ]
  },
  {
   "cell_type": "code",
   "execution_count": 1,
   "id": "d35a40b6",
   "metadata": {},
   "outputs": [],
   "source": [
    "def is_distinct(items):\n",
    "    return len(items) == len(set(items))"
   ]
  },
  {
   "cell_type": "markdown",
   "id": "b5f63f96",
   "metadata": {},
   "source": [
    "# Question 115\n",
    "## The following function is defined:\n",
    "### def function(idx, l=[]):\n",
    "###    for i in range(idx):\n",
    "###        l.append(i ** 3)\n",
    "###    print(l)\n",
    "## Call the function three times as follows:function(3) function(5, ['a', 'b', 'c']) function(6) Analyze the results!\n",
    "## Expected result: [0, 1, 8] ['a', 'b', 'c', 0, 1, 8, 27, 64] [0, 1, 8, 0, 1, 8, 27, 64, 125]\n"
   ]
  },
  {
   "cell_type": "code",
   "execution_count": 2,
   "id": "ad085871",
   "metadata": {},
   "outputs": [
    {
     "name": "stdout",
     "output_type": "stream",
     "text": [
      "[0, 1, 8]\n",
      "['a', 'b', 'c', 0, 1, 8, 27, 64]\n",
      "[0, 1, 8, 0, 1, 8, 27, 64, 125]\n"
     ]
    }
   ],
   "source": [
    "def function(idx, l=[]):\n",
    "    for i in range(idx):\n",
    "        l.append(i ** 3)\n",
    "    print(l)\n",
    "    \n",
    "function(3)\n",
    "function(5, ['a', 'b', 'c'])\n",
    "function(6)"
   ]
  },
  {
   "cell_type": "markdown",
   "id": "7b2df6f9",
   "metadata": {},
   "source": [
    "# Question 116\n",
    "## The following function is given:\n",
    "### def function(*args, **kwargs):\n",
    "###    print(args, kwargs)\n",
    "## Call the function in the order given:function(3, 4) function(x=3, y=4) function(1, 2, x=3, y=4) Analyze the result!\n",
    "## Expected result:(3, 4) {} () {'x': 3, 'y': 4} (1, 2) {'x': 3, 'y': 4}\n"
   ]
  },
  {
   "cell_type": "code",
   "execution_count": 3,
   "id": "51be5b1a",
   "metadata": {},
   "outputs": [
    {
     "name": "stdout",
     "output_type": "stream",
     "text": [
      "(3, 4) {}\n",
      "() {'x': 3, 'y': 4}\n",
      "(1, 2) {'x': 3, 'y': 4}\n"
     ]
    }
   ],
   "source": [
    "def function(*args, **kwargs):\n",
    "    print(args, kwargs)\n",
    " \n",
    " \n",
    "function(3, 4)\n",
    "function(x=3, y=4)\n",
    "function(1, 2, x=3, y=4)"
   ]
  },
  {
   "cell_type": "code",
   "execution_count": null,
   "id": "32b9bd56",
   "metadata": {},
   "outputs": [],
   "source": []
  }
 ],
 "metadata": {
  "kernelspec": {
   "display_name": "Python 3 (ipykernel)",
   "language": "python",
   "name": "python3"
  },
  "language_info": {
   "codemirror_mode": {
    "name": "ipython",
    "version": 3
   },
   "file_extension": ".py",
   "mimetype": "text/x-python",
   "name": "python",
   "nbconvert_exporter": "python",
   "pygments_lexer": "ipython3",
   "version": "3.9.13"
  }
 },
 "nbformat": 4,
 "nbformat_minor": 5
}
