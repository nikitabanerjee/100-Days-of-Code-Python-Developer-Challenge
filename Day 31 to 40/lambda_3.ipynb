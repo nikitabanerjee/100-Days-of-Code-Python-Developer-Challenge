{
 "cells": [
  {
   "cell_type": "markdown",
   "id": "95e67291",
   "metadata": {},
   "source": [
    "# Question 123\n",
    "## The following list is given:\n",
    "### stocks = [\n",
    "###    {'index': 'mWIG40', 'name': 'TEN', 'price': 304},\n",
    "###    {'index': 'mWIG40', 'name': 'PLW', 'price': 309},\n",
    "###    {'index': 'sWIG80', 'name': 'BBT', 'price': 22}\n",
    "### ]\n",
    "\n",
    "\n",
    "## Convert the list to a list of boolean values (True, False). True if the company belongs to the 'mWIG40' index, False on the contrary and print the result to the console.\n",
    "\n",
    "\n",
    "\n",
    "## Tip: Use the map() function.\n",
    "\n",
    "\n",
    "\n",
    "## Expected result:[True, True, False]\n"
   ]
  },
  {
   "cell_type": "code",
   "execution_count": 1,
   "id": "d92e5595",
   "metadata": {},
   "outputs": [
    {
     "name": "stdout",
     "output_type": "stream",
     "text": [
      "[True, True, False]\n"
     ]
    }
   ],
   "source": [
    "stocks = [\n",
    "    {'index': 'mWIG40', 'name': 'TEN', 'price': 304},\n",
    "    {'index': 'mWIG40', 'name': 'PLW', 'price': 309},\n",
    "    {'index': 'sWIG80', 'name': 'BBT', 'price': 22}\n",
    "]\n",
    "print(list(map(lambda x: x['index'] == 'mWIG40', stocks)))"
   ]
  },
  {
   "cell_type": "markdown",
   "id": "c03c84d0",
   "metadata": {},
   "source": [
    "# Question 124\n",
    "## The following list is given:\n",
    "## items = ['P-1', 'R-2', 'D-4', 'F-6']\n",
    "## Using the map() function and the lambda expression, get rid of the '-' (dash) from each element and print items list on the console.\n",
    "## Expected result: ['P1', 'R2', 'D4', 'F6']"
   ]
  },
  {
   "cell_type": "code",
   "execution_count": 2,
   "id": "a2fc6a98",
   "metadata": {},
   "outputs": [
    {
     "name": "stdout",
     "output_type": "stream",
     "text": [
      "['P1', 'R2', 'D4', 'F6']\n"
     ]
    }
   ],
   "source": [
    "items = ['P-1', 'R-2', 'D-4', 'F-6']\n",
    "print(list(map(lambda item: item.replace('-', ''), items)))"
   ]
  },
  {
   "cell_type": "markdown",
   "id": "a9d889a0",
   "metadata": {},
   "source": [
    "# Question 125\n",
    "## Two lists are given:\n",
    "## num1 = [4, 2, 6, 2, 11]\n",
    "## num2 = [5, 2, 3, 3, 9]\n",
    "\n",
    "\n",
    "## Using the map() function and lambda expression, create a list containing the remainders of dividing the first list by the second (elementwise).\n",
    "## Expected result:[4, 0, 0, 2, 2]"
   ]
  },
  {
   "cell_type": "code",
   "execution_count": 3,
   "id": "2390a5e3",
   "metadata": {},
   "outputs": [
    {
     "name": "stdout",
     "output_type": "stream",
     "text": [
      "[4, 0, 0, 2, 2]\n"
     ]
    }
   ],
   "source": [
    "num1 = [4, 2, 6, 2, 11]\n",
    "num2 = [5, 2, 3, 3, 9]\n",
    "print(list(map(lambda x, y: x % y, num1, num2)))"
   ]
  },
  {
   "cell_type": "code",
   "execution_count": null,
   "id": "7657d201",
   "metadata": {},
   "outputs": [],
   "source": []
  }
 ],
 "metadata": {
  "kernelspec": {
   "display_name": "Python 3 (ipykernel)",
   "language": "python",
   "name": "python3"
  },
  "language_info": {
   "codemirror_mode": {
    "name": "ipython",
    "version": 3
   },
   "file_extension": ".py",
   "mimetype": "text/x-python",
   "name": "python",
   "nbconvert_exporter": "python",
   "pygments_lexer": "ipython3",
   "version": "3.9.13"
  }
 },
 "nbformat": 4,
 "nbformat_minor": 5
}
