{
 "cells": [
  {
   "cell_type": "markdown",
   "id": "a6f439a4",
   "metadata": {},
   "source": [
    "# Question 126\n",
    "## Implement a generator named file_gen(), which selects only those names of files with the '.txt' extension from the list.\n",
    "## Example:\n",
    "### [IN]: fnames = ['data1.txt', 'data2.txt', 'data3.txt', 'view.jpg']\n",
    "### [IN]: list(file_gen(fnames))\n",
    "### [OUT]: ['data1.txt', 'data2.txt', 'data3.txt']\n",
    "#### Note! All you have to do is define a generator. "
   ]
  },
  {
   "cell_type": "code",
   "execution_count": 1,
   "id": "2c6b3543",
   "metadata": {},
   "outputs": [],
   "source": [
    "def file_gen(fnames):\n",
    "    for fname in fnames:\n",
    "        if fname.endswith('.txt'):\n",
    "            yield fname"
   ]
  },
  {
   "cell_type": "markdown",
   "id": "5e683fc8",
   "metadata": {},
   "source": [
    "# Question 127\n",
    "## Implement a generator called enum() that works just like the enumerate() built-in function. For simplicity, the function gets an iterable object and returns a tuple (index, element).\n",
    "## Example:\n",
    "### [IN]: list(enum(['TEN', 'CDR', 'BBT']))\n",
    "### [OUT]: [(0, 'TEN'), (1, 'CDR'), (2, 'BBT')]\n",
    "#### Note! All you have to do is define a generator."
   ]
  },
  {
   "cell_type": "code",
   "execution_count": 2,
   "id": "2976fc7b",
   "metadata": {},
   "outputs": [],
   "source": [
    "def enum(items):\n",
    "    idx = 0\n",
    "    for item in items:\n",
    "        yield (idx, item)\n",
    "        idx += 1"
   ]
  },
  {
   "cell_type": "markdown",
   "id": "45476514",
   "metadata": {},
   "source": [
    "# Question 128\n",
    "## Implement a generator named dayname() that accepts the index of the element from the following list: days = ['Mon', 'Tue', 'Wed', 'Thu', 'Fri', 'Sat', 'Sun'] and allows us to iterate over 3 days (previous day, present day, next day).\n",
    "### Example:\n",
    "### [IN]:for pair in dayname(0):\n",
    "###    print(pair)\n",
    "\n",
    "\n",
    "### [OUT]:Sun Mon Tue\n"
   ]
  },
  {
   "cell_type": "code",
   "execution_count": 3,
   "id": "01834979",
   "metadata": {},
   "outputs": [],
   "source": [
    "def dayname(index):\n",
    "    days = ['Mon', 'Tue', 'Wed', 'Thu', 'Fri', 'Sat', 'Sun']\n",
    "    yield days[index - 1]\n",
    "    yield days[index]\n",
    "    yield days[(index + 1) % 7]"
   ]
  },
  {
   "cell_type": "code",
   "execution_count": null,
   "id": "59e2c3f9",
   "metadata": {},
   "outputs": [],
   "source": []
  }
 ],
 "metadata": {
  "kernelspec": {
   "display_name": "Python 3 (ipykernel)",
   "language": "python",
   "name": "python3"
  },
  "language_info": {
   "codemirror_mode": {
    "name": "ipython",
    "version": 3
   },
   "file_extension": ".py",
   "mimetype": "text/x-python",
   "name": "python",
   "nbconvert_exporter": "python",
   "pygments_lexer": "ipython3",
   "version": "3.9.13"
  }
 },
 "nbformat": 4,
 "nbformat_minor": 5
}
