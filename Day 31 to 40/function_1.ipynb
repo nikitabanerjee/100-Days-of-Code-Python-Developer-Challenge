{
 "cells": [
  {
   "cell_type": "markdown",
   "id": "508fdadf",
   "metadata": {},
   "source": [
    "# Question 105\n",
    "## Implement a function called maximum() that returns the maximum of two numbers. Use conditional statement.\n",
    "## Example:[IN]: maximum(4, 2) [OUT]: 4 [IN]: maximum(-4, 2) [OUT]: 2 Note! You only need to define the function.\n",
    "\n"
   ]
  },
  {
   "cell_type": "code",
   "execution_count": 1,
   "id": "33c7ba2a",
   "metadata": {},
   "outputs": [],
   "source": [
    "def maximum(x, y):\n",
    "    if x >= y:\n",
    "        return x\n",
    "    else:\n",
    "        return y"
   ]
  },
  {
   "cell_type": "markdown",
   "id": "eddac644",
   "metadata": {},
   "source": [
    "# Question 106\n",
    "## Implement a function called maximum() that returns the maximum of three numbers. Use conditional statement. Example: [IN]: maximum(4, 2, 1) [OUT]: 4 [IN]: maximum(-3, 2, 5) [OUT]: 5  Note! You only need to define the function.\n",
    "\n"
   ]
  },
  {
   "cell_type": "code",
   "execution_count": 2,
   "id": "41c676a9",
   "metadata": {},
   "outputs": [],
   "source": [
    "def maximum(x, y, z):\n",
    "    if x >= y and x >= z:\n",
    "        return x\n",
    "    elif y >= z:\n",
    "        return y\n",
    "    else:\n",
    "        return z"
   ]
  },
  {
   "cell_type": "markdown",
   "id": "0f54e9e9",
   "metadata": {},
   "source": [
    "# Question 107\n",
    "## Implement a function called multi(), which accepts an iterable object (list, tuple) as an argument and returns the product of all elements of this iterable object. Example: [IN]: multi((-4, 6, 2))  [OUT]: -48  [IN]: multi([4, 2, -5])  [OUT]: -40  Note! You only need to define the function."
   ]
  },
  {
   "cell_type": "code",
   "execution_count": 3,
   "id": "b34d1798",
   "metadata": {},
   "outputs": [],
   "source": [
    "def multi(numbers):\n",
    "    result = 1\n",
    "    for number in numbers:\n",
    "        result *= number\n",
    "    return result"
   ]
  },
  {
   "cell_type": "code",
   "execution_count": null,
   "id": "5660e015",
   "metadata": {},
   "outputs": [],
   "source": []
  }
 ],
 "metadata": {
  "kernelspec": {
   "display_name": "Python 3 (ipykernel)",
   "language": "python",
   "name": "python3"
  },
  "language_info": {
   "codemirror_mode": {
    "name": "ipython",
    "version": 3
   },
   "file_extension": ".py",
   "mimetype": "text/x-python",
   "name": "python",
   "nbconvert_exporter": "python",
   "pygments_lexer": "ipython3",
   "version": "3.9.13"
  }
 },
 "nbformat": 4,
 "nbformat_minor": 5
}
