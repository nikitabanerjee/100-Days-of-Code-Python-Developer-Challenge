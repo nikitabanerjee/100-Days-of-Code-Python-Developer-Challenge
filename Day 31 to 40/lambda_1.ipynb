{
 "cells": [
  {
   "cell_type": "markdown",
   "id": "b1c3d329",
   "metadata": {},
   "source": [
    "# Question 117\n",
    "## Implement the function is_palindrome(), which takes as an argument str object and checks if this object is a palindrome (expression that sounds the same from left to right and from right to left). If so, the function should return True, on the contrary False.\n",
    "## Example:[IN]: is_palindrome('level')   [OUT]: True [IN]: is_palindrome('python') [OUT]: False\n",
    "### Note! You only need to define the function."
   ]
  },
  {
   "cell_type": "code",
   "execution_count": 1,
   "id": "e0dede74",
   "metadata": {},
   "outputs": [],
   "source": [
    "def is_palindrome(string):\n",
    "    inverse = string[::-1]\n",
    "    if string == inverse:\n",
    "        return True\n",
    "    else:\n",
    "        return False"
   ]
  },
  {
   "cell_type": "markdown",
   "id": "aeab2996",
   "metadata": {},
   "source": [
    "# Question 118\n",
    "## The following list of words is given: stocks = ['playway', 'boombit', 'cd projekt']  Using the map() function and the lambda expression, transform the given list into a list containing the lengths of each word and print it to the console.\n",
    "## Expected result: [7, 7, 10]"
   ]
  },
  {
   "cell_type": "code",
   "execution_count": 2,
   "id": "ebcbdd82",
   "metadata": {},
   "outputs": [
    {
     "name": "stdout",
     "output_type": "stream",
     "text": [
      "[7, 7, 10]\n"
     ]
    }
   ],
   "source": [
    "stocks = ['playway', 'boombit', 'cd projekt']\n",
    " \n",
    "length = list(map(lambda stock: len(stock), stocks))\n",
    " \n",
    " \n",
    "print(length)"
   ]
  },
  {
   "cell_type": "markdown",
   "id": "29bdd26d",
   "metadata": {},
   "source": [
    "# Question 119\n",
    "## Implement the sort_list() function that sorts a list of two-element tuple objects according to the second element of the tuple.\n",
    "### Example: [IN]: sort_list([(1, 3), (4, 1), (4, 2), (0, 7)]) [OUT]: [(4, 1), (4, 2), (1, 3), (0, 7)] [IN]: sort_list([('a', 'b'), ('g', 'a'), ('z', 'd')]) [OUT]: [('g', 'a'), ('a', 'b'), ('z', 'd')] Tip: Use the sorted() function.\n",
    "#### Note! You only need to define the function.\n",
    "\n"
   ]
  },
  {
   "cell_type": "code",
   "execution_count": 3,
   "id": "383476c4",
   "metadata": {},
   "outputs": [],
   "source": [
    "def sort_list(items):\n",
    "    return sorted(items, key=lambda item: item[1])"
   ]
  },
  {
   "cell_type": "code",
   "execution_count": null,
   "id": "5d26726b",
   "metadata": {},
   "outputs": [],
   "source": []
  }
 ],
 "metadata": {
  "kernelspec": {
   "display_name": "Python 3 (ipykernel)",
   "language": "python",
   "name": "python3"
  },
  "language_info": {
   "codemirror_mode": {
    "name": "ipython",
    "version": 3
   },
   "file_extension": ".py",
   "mimetype": "text/x-python",
   "name": "python",
   "nbconvert_exporter": "python",
   "pygments_lexer": "ipython3",
   "version": "3.9.13"
  }
 },
 "nbformat": 4,
 "nbformat_minor": 5
}
