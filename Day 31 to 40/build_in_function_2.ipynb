{
 "cells": [
  {
   "cell_type": "markdown",
   "id": "53dc417d",
   "metadata": {},
   "source": [
    "# Question 102\n",
    "## Two tuples are given: ticker = ('TEN', 'PLW', 'CDR') full_name = ('Ten Square Games', 'Playway', 'CD Projekt') Using the appropriate built-in function, create a list consisting of tuples (ticker, full_name) and print the result to the console as shown below. Tip: Use the zip() function. Expected result: [('TEN', 'Ten Square Games'), ('PLW', 'Playway'), ('CDR', 'CD Projekt')]\n"
   ]
  },
  {
   "cell_type": "code",
   "execution_count": 1,
   "id": "e2b7486e",
   "metadata": {},
   "outputs": [
    {
     "name": "stdout",
     "output_type": "stream",
     "text": [
      "[('TEN', 'Ten Square Games'), ('PLW', 'Playway'), ('CDR', 'CD Projekt')]\n"
     ]
    }
   ],
   "source": [
    "ticker = ('TEN', 'PLW', 'CDR')\n",
    "full_name = ('Ten Square Games', 'Playway', 'CD Projekt')\n",
    "\n",
    "print(list(zip(ticker, full_name)))"
   ]
  },
  {
   "cell_type": "markdown",
   "id": "b88667e4",
   "metadata": {},
   "source": [
    "# Question 103\n",
    "## Using the appropriate built-in function, verify if all elements of the following tuple return the logical value True: items = (' ', '0', 0.1, True) Print the result to the console.\n",
    "## Expected result:True\n"
   ]
  },
  {
   "cell_type": "code",
   "execution_count": 2,
   "id": "bf6d60f6",
   "metadata": {},
   "outputs": [
    {
     "name": "stdout",
     "output_type": "stream",
     "text": [
      "True\n"
     ]
    }
   ],
   "source": [
    "items = (' ', '0', 0.1, True)\n",
    "print(all(items))"
   ]
  },
  {
   "cell_type": "markdown",
   "id": "8d97816e",
   "metadata": {},
   "source": [
    "# Question 104\n",
    "## Count the number of ones in the binary representation of number: number = 234 Print the result to the console. Tip: Use the bin() built-in function.\n",
    "## Expected result: 5"
   ]
  },
  {
   "cell_type": "code",
   "execution_count": 3,
   "id": "d7a99779",
   "metadata": {},
   "outputs": [
    {
     "name": "stdout",
     "output_type": "stream",
     "text": [
      "5\n"
     ]
    }
   ],
   "source": [
    "number=234\n",
    "binary = bin(number)\n",
    "binary = binary[2:]\n",
    " \n",
    " \n",
    "print(binary.count('1'))"
   ]
  },
  {
   "cell_type": "code",
   "execution_count": null,
   "id": "0ced3d3a",
   "metadata": {},
   "outputs": [],
   "source": []
  }
 ],
 "metadata": {
  "kernelspec": {
   "display_name": "Python 3 (ipykernel)",
   "language": "python",
   "name": "python3"
  },
  "language_info": {
   "codemirror_mode": {
    "name": "ipython",
    "version": 3
   },
   "file_extension": ".py",
   "mimetype": "text/x-python",
   "name": "python",
   "nbconvert_exporter": "python",
   "pygments_lexer": "ipython3",
   "version": "3.9.13"
  }
 },
 "nbformat": 4,
 "nbformat_minor": 5
}
