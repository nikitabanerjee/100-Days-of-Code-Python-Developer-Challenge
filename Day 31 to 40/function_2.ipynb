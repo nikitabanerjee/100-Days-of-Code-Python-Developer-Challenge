{
 "cells": [
  {
   "cell_type": "markdown",
   "id": "07284733",
   "metadata": {},
   "source": [
    "# Question 108\n",
    "## Implement a function map_longest() that accepts the list of words and return the length of the longest word in this list. Example: [IN]: map_longest(['python', 'sql']) [OUT]: 6 [IN]: map_longest(['java', 'sql', 'r']) [OUT]: 4 Note! You only need to define the function. \n",
    "\n"
   ]
  },
  {
   "cell_type": "code",
   "execution_count": 1,
   "id": "522adeab",
   "metadata": {},
   "outputs": [],
   "source": [
    "def map_longest(words):\n",
    "    length = []\n",
    "    for word in words:\n",
    "        length.append(len(word))\n",
    "    return max(length)"
   ]
  },
  {
   "cell_type": "markdown",
   "id": "d58c6fcc",
   "metadata": {},
   "source": [
    "# Question 109\n",
    "## Implement a function called filter_ge_6() that takes a list of words and returns list of words with the length greater than or equal to 6 characters. Example: [IN]: filter_ge_6(['programming', 'python', 'java', 'sql']) [OUT]: ['programming', 'python'] [IN]: filter_ge_6(['java', 'sql']) [OUT]: [] Note! You only need to define the function. \n",
    "\n"
   ]
  },
  {
   "cell_type": "code",
   "execution_count": 2,
   "id": "951f5c2a",
   "metadata": {},
   "outputs": [],
   "source": [
    "def filter_ge_6(words):\n",
    "    result = []\n",
    "    for word in words:\n",
    "        if len(word) >= 6:\n",
    "            result.append(word)\n",
    "    return result"
   ]
  },
  {
   "cell_type": "markdown",
   "id": "f3417408",
   "metadata": {},
   "source": [
    "# Question 110\n",
    "## Implement a function called factorial() that calculates the factorial for a given number. Example: [IN]: factorial(6) [OUT]: 720 [IN]: factorial(10) [OUT]: 3628800 Note! You only need to define the function.\n",
    "\n"
   ]
  },
  {
   "cell_type": "code",
   "execution_count": 3,
   "id": "e0e36bb6",
   "metadata": {},
   "outputs": [],
   "source": [
    "def factorial(n):\n",
    "    if n == 0:\n",
    "        return 1\n",
    "    return n * factorial(n - 1)"
   ]
  },
  {
   "cell_type": "code",
   "execution_count": null,
   "id": "c18a0ec3",
   "metadata": {},
   "outputs": [],
   "source": []
  }
 ],
 "metadata": {
  "kernelspec": {
   "display_name": "Python 3 (ipykernel)",
   "language": "python",
   "name": "python3"
  },
  "language_info": {
   "codemirror_mode": {
    "name": "ipython",
    "version": 3
   },
   "file_extension": ".py",
   "mimetype": "text/x-python",
   "name": "python",
   "nbconvert_exporter": "python",
   "pygments_lexer": "ipython3",
   "version": "3.9.13"
  }
 },
 "nbformat": 4,
 "nbformat_minor": 5
}
